{
 "cells": [
  {
   "cell_type": "markdown",
   "metadata": {},
   "source": [
    "## Soccer_Performance_Score"
   ]
  },
  {
   "cell_type": "markdown",
   "metadata": {},
   "source": [
    "## 1.1 | Combine 2 seasons"
   ]
  },
  {
   "cell_type": "code",
   "execution_count": 1,
   "metadata": {},
   "outputs": [
    {
     "name": "stdout",
     "output_type": "stream",
     "text": [
      "Found CSV files: ['/Users/mariamoramora/Documents/GitHub/ADS599_Capstone/Soccer_Performance_Score/data/real_madrid/real_madrid_23_24.csv', '/Users/mariamoramora/Documents/GitHub/ADS599_Capstone/Soccer_Performance_Score/data/real_madrid/real_madrid_24_25.csv']\n",
      "\n",
      "File: /Users/mariamoramora/Documents/GitHub/ADS599_Capstone/Soccer_Performance_Score/data/real_madrid/real_madrid_23_24.csv\n",
      "Shape: (774, 73)\n",
      "Columns: ['Date', 'Competition', 'Opponent', 'Player', '#', 'Nation', 'Pos', 'Age', 'Min', ' Gls', ' Ast', ' PK', ' PKatt', ' Sh', ' SoT', ' CrdY', ' CrdR', ' Touches', ' Tkl', ' Int', ' Blocks', 'Expected xG', 'Expected npxG', 'Expected xAG', 'SCA', 'GCA', 'Passes Cmp', 'Passes Att', 'Passes Cmp%', 'Passes PrgP', 'Carries Carries', 'Carries PrgC', 'Take-Ons Att', 'Take-Ons Succ', 'Tackles Tkl', 'Tackles TklW', 'Tackles Def 3rd', 'Tackles Mid 3rd', 'Tackles Att 3rd', 'Challenges Tkl', 'Challenges Att', 'Challenges Tkl%', 'Challenges Lost', 'Blocks Blocks', 'Blocks Sh', 'Blocks Pass', 'Int', 'Tkl+Int', 'Clr', 'Err', 'Total Cmp', 'Total Att', 'Total Cmp%', 'Total TotDist', 'Total PrgDist', 'Short Cmp', 'Short Att', 'Short Cmp%', 'Medium Cmp', 'Medium Att', 'Medium Cmp%', 'Long Cmp', 'Long Att', 'Long Cmp%', 'Ast', 'xAG', 'xA', 'KP', ' 1/3', 'PPA', 'CrsPA', 'PrgP', 'Match URL']\n",
      "\n",
      "File: /Users/mariamoramora/Documents/GitHub/ADS599_Capstone/Soccer_Performance_Score/data/real_madrid/real_madrid_24_25.csv\n",
      "Shape: (776, 73)\n",
      "Columns: ['Date', 'Competition', 'Opponent', 'Player', '#', 'Nation', 'Pos', 'Age', 'Min', ' Gls', ' Ast', ' PK', ' PKatt', ' Sh', ' SoT', ' CrdY', ' CrdR', ' Int', ' Touches', ' Tkl', ' Blocks', 'Expected xG', 'Expected npxG', 'Expected xAG', 'SCA', 'GCA', 'Passes Cmp', 'Passes Att', 'Passes Cmp%', 'Passes PrgP', 'Carries Carries', 'Carries PrgC', 'Take-Ons Att', 'Take-Ons Succ', 'Tackles Tkl', 'Tackles TklW', 'Tackles Def 3rd', 'Tackles Mid 3rd', 'Tackles Att 3rd', 'Challenges Tkl', 'Challenges Att', 'Challenges Tkl%', 'Challenges Lost', 'Blocks Blocks', 'Blocks Sh', 'Blocks Pass', 'Int', 'Tkl+Int', 'Clr', 'Err', 'Total Cmp', 'Total Att', 'Total Cmp%', 'Total TotDist', 'Total PrgDist', 'Short Cmp', 'Short Att', 'Short Cmp%', 'Medium Cmp', 'Medium Att', 'Medium Cmp%', 'Long Cmp', 'Long Att', 'Long Cmp%', 'Ast', 'xAG', 'xA', 'KP', ' 1/3', 'PPA', 'CrsPA', 'PrgP', 'Match URL']\n",
      "\n",
      "Combined DataFrame Shape (before removing duplicates): (1550, 73)\n",
      "Removed 0 duplicate rows\n",
      "Final DataFrame Shape: (1550, 73)\n",
      "Combined DataFrame Columns: ['Date', 'Competition', 'Opponent', 'Player', '#', 'Nation', 'Pos', 'Age', 'Min', ' Gls', ' Ast', ' PK', ' PKatt', ' Sh', ' SoT', ' CrdY', ' CrdR', ' Touches', ' Tkl', ' Int', ' Blocks', 'Expected xG', 'Expected npxG', 'Expected xAG', 'SCA', 'GCA', 'Passes Cmp', 'Passes Att', 'Passes Cmp%', 'Passes PrgP', 'Carries Carries', 'Carries PrgC', 'Take-Ons Att', 'Take-Ons Succ', 'Tackles Tkl', 'Tackles TklW', 'Tackles Def 3rd', 'Tackles Mid 3rd', 'Tackles Att 3rd', 'Challenges Tkl', 'Challenges Att', 'Challenges Tkl%', 'Challenges Lost', 'Blocks Blocks', 'Blocks Sh', 'Blocks Pass', 'Int', 'Tkl+Int', 'Clr', 'Err', 'Total Cmp', 'Total Att', 'Total Cmp%', 'Total TotDist', 'Total PrgDist', 'Short Cmp', 'Short Att', 'Short Cmp%', 'Medium Cmp', 'Medium Att', 'Medium Cmp%', 'Long Cmp', 'Long Att', 'Long Cmp%', 'Ast', 'xAG', 'xA', 'KP', ' 1/3', 'PPA', 'CrsPA', 'PrgP', 'Match URL']\n",
      "\n",
      "Head of combined DataFrame:\n",
      "      Date Competition       Opponent           Player   #   Nation Pos  \\\n",
      "0  8/12/23     La Liga  Athletic Club  Vinicius Júnior   7   br BRA  FW   \n",
      "1  8/12/23     La Liga  Athletic Club      Luka Modrić  10   hr CRO  FW   \n",
      "2  8/12/23     La Liga  Athletic Club          Rodrygo  11   br BRA  FW   \n",
      "3  8/12/23     La Liga  Athletic Club           Joselu  14   es ESP  FW   \n",
      "4  8/12/23     La Liga  Athletic Club  Jude Bellingham   5  eng ENG  AM   \n",
      "\n",
      "      Age  Min   Gls  ...  Long Cmp%  Ast  xAG   xA  KP   1/3  PPA  CrsPA  \\\n",
      "0  23-031   79     0  ...      100.0    0  0.0  0.1   0     1    1      0   \n",
      "1  37-337   11     0  ...      100.0    0  0.0  0.2   0     4    1      0   \n",
      "2  22-215   79     1  ...        NaN    0  0.1  0.1   2     2    4      0   \n",
      "3  33-138   11     0  ...        NaN    0  0.1  0.1   1     0    0      0   \n",
      "4  20-044   90     1  ...        0.0    0  0.1  0.0   1     4    2      0   \n",
      "\n",
      "   PrgP                                          Match URL  \n",
      "0     2  https://fbref.com/en/matches/c31f0a31/Athletic...  \n",
      "1     3  https://fbref.com/en/matches/c31f0a31/Athletic...  \n",
      "2     5  https://fbref.com/en/matches/c31f0a31/Athletic...  \n",
      "3     0  https://fbref.com/en/matches/c31f0a31/Athletic...  \n",
      "4     6  https://fbref.com/en/matches/c31f0a31/Athletic...  \n",
      "\n",
      "[5 rows x 73 columns]\n",
      "\n",
      "Combined CSV saved to: /Users/mariamoramora/Documents/GitHub/ADS599_Capstone/Soccer_Performance_Score/data/real_madrid_combined/combined_real_madrid.csv\n"
     ]
    }
   ],
   "source": [
    "import pandas as pd\n",
    "import os\n",
    "from pathlib import Path\n",
    "\n",
    "# Set the directory path\n",
    "data_dir = \"/Users/mariamoramora/Documents/GitHub/ADS599_Capstone/Soccer_Performance_Score/data/real_madrid\"\n",
    "\n",
    "# Get all CSV files in the directory\n",
    "csv_files = []\n",
    "for file in os.listdir(data_dir):\n",
    "    if file.endswith('.csv'):\n",
    "        csv_files.append(os.path.join(data_dir, file))\n",
    "\n",
    "print(f\"Found CSV files: {csv_files}\")\n",
    "\n",
    "# Read and combine all CSV files\n",
    "dataframes = []\n",
    "for file in csv_files:\n",
    "    df = pd.read_csv(file)\n",
    "    print(f\"\\nFile: {file}\")\n",
    "    print(f\"Shape: {df.shape}\")\n",
    "    print(f\"Columns: {list(df.columns)}\")\n",
    "    dataframes.append(df)\n",
    "\n",
    "# Combine all dataframes\n",
    "if len(dataframes) == 2:\n",
    "    # If the CSV files have the same structure, use concat\n",
    "    combined_df = pd.concat(dataframes, ignore_index=True)\n",
    "    \n",
    "    # Alternative: if you want to merge on a common column instead\n",
    "    # combined_df = pd.merge(dataframes[0], dataframes[1], on='common_column', how='outer')\n",
    "    \n",
    "elif len(dataframes) > 2:\n",
    "    # For more than 2 files\n",
    "    combined_df = pd.concat(dataframes, ignore_index=True)\n",
    "else:\n",
    "    combined_df = dataframes[0] if dataframes else pd.DataFrame()\n",
    "\n",
    "print(f\"\\nCombined DataFrame Shape (before removing duplicates): {combined_df.shape}\")\n",
    "\n",
    "# Remove duplicates\n",
    "initial_shape = combined_df.shape[0]\n",
    "combined_df = combined_df.drop_duplicates()\n",
    "final_shape = combined_df.shape[0]\n",
    "\n",
    "print(f\"Removed {initial_shape - final_shape} duplicate rows\")\n",
    "print(f\"Final DataFrame Shape: {combined_df.shape}\")\n",
    "print(f\"Combined DataFrame Columns: {list(combined_df.columns)}\")\n",
    "\n",
    "# Display the head of the combined dataframe\n",
    "print(\"\\nHead of combined DataFrame:\")\n",
    "print(combined_df.head())\n",
    "\n",
    "# Create output directory and save the combined dataframe\n",
    "output_dir = \"/Users/mariamoramora/Documents/GitHub/ADS599_Capstone/Soccer_Performance_Score/data/real_madrid_combined\"\n",
    "os.makedirs(output_dir, exist_ok=True)\n",
    "\n",
    "# Save the combined dataframe to the new folder\n",
    "output_file = os.path.join(output_dir, 'combined_real_madrid.csv')\n",
    "combined_df.to_csv(output_file, index=False)\n",
    "\n",
    "print(f\"\\nCombined CSV saved to: {output_file}\")"
   ]
  },
  {
   "cell_type": "markdown",
   "metadata": {},
   "source": [
    "## 4 Four with recalculation of weights"
   ]
  },
  {
   "cell_type": "code",
   "execution_count": 2,
   "metadata": {},
   "outputs": [
    {
     "name": "stdout",
     "output_type": "stream",
     "text": [
      "=== PERFORMANCE SCORING VALIDATION & REBALANCING ===\n",
      "Dataset shape: (1550, 74)\n",
      "Columns: ['Date', 'Competition', 'Opponent', 'Player', 'Nation', 'Pos', 'Age', 'Min', 'Gls', 'Ast', 'PK', 'PKatt', 'Sh', 'SoT', 'CrdY', 'CrdR', 'Touches', 'Tkl', 'Int', 'Blocks', 'Expected xG', 'Expected npxG', 'Expected xAG', 'SCA', 'GCA', 'Passes Cmp', 'Passes Att', 'Passes Cmp%', 'Passes PrgP', 'Carries Carries', 'Carries PrgC', 'Take-Ons Att', 'Take-Ons Succ', 'Tackles Tkl', 'Tackles TklW', 'Tackles Def 3rd', 'Tackles Mid 3rd', 'Tackles Att 3rd', 'Challenges Tkl', 'Challenges Att', 'Challenges Lost', 'Blocks Blocks', 'Blocks Sh', 'Blocks Pass', 'Int.1', 'Tkl+Int', 'Clr', 'Err', 'Total Cmp', 'Total Att', 'Total Cmp%', 'Total TotDist', 'Total PrgDist', 'Short Cmp', 'Short Att', 'Short Cmp%', 'Medium Cmp', 'Medium Att', 'Medium Cmp%', 'Long Cmp', 'Long Att', 'Long Cmp%', 'Ast.1', 'xAG', 'xA', 'KP', '1/3', 'PPA', 'CrsPA', 'PrgP', 'Season', 'Position_Group', 'Take-Ons Succ%', 'Performance_Score']\n",
      "\n",
      "🔍 ANALYZING CURRENT SCORING ISSUES\n",
      "\n",
      "1. Score Distribution by Position:\n",
      "                 mean  median    std    min     max\n",
      "Position_Group                                     \n",
      "Defense         16.63   16.14   3.20   0.00   33.57\n",
      "Forward          5.61    4.89   5.51   0.00   42.00\n",
      "Goalkeeper      72.93   73.50  13.94  43.96  100.00\n",
      "Midfield        22.65   22.44   5.98   0.00   90.00\n",
      "\n",
      "2. Minutes vs Performance Correlation:\n",
      "  Forward: 0.229 (should be positive, not negative)\n",
      "  Midfield: -0.028 (should be positive, not negative)\n",
      "  Defense: 0.098 (should be positive, not negative)\n",
      "  Goalkeeper: -0.109 (should be positive, not negative)\n",
      "\n",
      "3. Analysis of Current Top Performers:\n",
      "           Player Position_Group  Performance_Score  Min  Gls  Ast\n",
      "Kepa Arrizabalaga     Goalkeeper             100.00   90    0    0\n",
      " Thibaut Courtois     Goalkeeper             100.00   62    0    0\n",
      "     Andriy Lunin     Goalkeeper             100.00   90    0    0\n",
      " Thibaut Courtois     Goalkeeper             100.00   90    0    0\n",
      " Thibaut Courtois     Goalkeeper             100.00   90    0    0\n",
      "     Andriy Lunin     Goalkeeper             100.00   90    0    0\n",
      " Thibaut Courtois     Goalkeeper             100.00   90    0    0\n",
      "Kepa Arrizabalaga     Goalkeeper              94.00   90    0    0\n",
      " Thibaut Courtois     Goalkeeper              93.48   90    0    0\n",
      "Kepa Arrizabalaga     Goalkeeper              92.48   90    0    0\n",
      "     Andriy Lunin     Goalkeeper              91.04   90    0    0\n",
      "    Lucas Vázquez       Midfield              90.00    1    0    0\n",
      "             Fran     Goalkeeper              89.00   90    0    0\n",
      "     Andriy Lunin     Goalkeeper              87.62   90    0    0\n",
      " Thibaut Courtois     Goalkeeper              86.14   90    0    0\n",
      " Thibaut Courtois     Goalkeeper              85.38   90    0    0\n",
      "     Andriy Lunin     Goalkeeper              85.02   90    0    0\n",
      " Thibaut Courtois     Goalkeeper              84.66   90    0    0\n",
      " Thibaut Courtois     Goalkeeper              84.54   90    0    0\n",
      " Thibaut Courtois     Goalkeeper              84.54   90    0    0\n",
      "\n",
      "🔧 IMPLEMENTING REBALANCED SCORING SYSTEM\n",
      "\n",
      "Rebalancing Goalkeepers...\n",
      "  GK score range: 13.2 - 30.0\n",
      "\n",
      "Rebalancing Forwards...\n",
      "  FW score range: 0.0 - 21.1\n",
      "\n",
      "Rebalancing Midfielders...\n",
      "  MID score range: 0.0 - 20.0\n",
      "\n",
      "Rebalancing Defenders...\n",
      "  DEF score range: 0.0 - 16.9\n",
      "\n",
      "✅ VALIDATING REBALANCED SYSTEM\n",
      "\n",
      "1. NEW Score Distribution by Position:\n",
      "                 mean  median   std    min    max\n",
      "Position_Group                                   \n",
      "Defense          7.07    6.90  3.57   0.00  16.87\n",
      "Forward          5.85    3.10  6.36   0.00  21.06\n",
      "Goalkeeper      21.88   22.05  4.18  13.19  30.00\n",
      "Midfield         9.91    9.67  5.37   0.00  20.02\n",
      "\n",
      "2. NEW Minutes vs Performance Correlation:\n",
      "  Forward: 0.416 (should be positive or near zero)\n",
      "  Midfield: 0.316 (should be positive or near zero)\n",
      "  Defense: 0.232 (should be positive or near zero)\n",
      "  Goalkeeper: -0.109 (should be positive or near zero)\n",
      "\n",
      "3. TOP PERFORMERS - REBALANCED SYSTEM:\n",
      "Season averages (500+ minutes):\n",
      "             Player Position_Group  Season  Rebalanced_Score  Min  Gls  Ast\n",
      "       Andriy Lunin     Goalkeeper 2024-25             24.46  810    0    0\n",
      "  Kepa Arrizabalaga     Goalkeeper 2023-24             22.32 1558    0    0\n",
      "       Andriy Lunin     Goalkeeper 2023-24             22.00 2640    0    0\n",
      "   Thibaut Courtois     Goalkeeper 2024-25             20.69 3810    0    0\n",
      "         Toni Kroos       Midfield 2023-24             13.84 2372    1    0\n",
      "      Dani Ceballos       Midfield 2024-25             11.65 1272    0    0\n",
      "        Luka Modrić       Midfield 2023-24             11.65 1586    1    0\n",
      "    Jude Bellingham       Midfield 2024-25             11.62 2436    8    0\n",
      "    Jude Bellingham       Midfield 2023-24             11.22 1937   15    0\n",
      "        Luka Modrić       Midfield 2024-25             11.00 1374    1    0\n",
      "  Federico Valverde       Midfield 2023-24             10.41 2667    1    0\n",
      "         Arda Güler       Midfield 2024-25              9.84  527    0    0\n",
      "      Kylian Mbappé        Forward 2024-25              9.70 3675   31    0\n",
      "  Federico Valverde       Midfield 2024-25              9.58 1088    2    0\n",
      "        Brahim Díaz       Midfield 2024-25              9.57  536    3    0\n",
      "        Brahim Díaz       Midfield 2023-24              9.32  580    3    0\n",
      "      Dani Ceballos       Midfield 2023-24              9.12  626    1    0\n",
      "Aurélien Tchouaméni        Defense 2023-24              8.55  576    0    0\n",
      "Aurélien Tchouaméni        Defense 2024-25              8.55 1216    0    0\n",
      "       Éder Militão        Defense 2024-25              8.17 1219    1    0\n",
      "\n",
      "📊 POSITION-SPECIFIC INSIGHTS\n",
      "\n",
      "FORWARD TOP 5:\n",
      "         Player  Rebalanced_Score  Min  Gls  Ast\n",
      "  Kylian Mbappé              9.70 3675   31    0\n",
      "Vinicius Júnior              7.33 1731   11    0\n",
      "        Rodrygo              5.90 2698   13    0\n",
      "         Joselu              5.59 1922   13    0\n",
      "Vinicius Júnior              4.76 1294    4    0\n",
      "\n",
      "MIDFIELD TOP 5:\n",
      "         Player  Rebalanced_Score  Min  Gls  Ast\n",
      "     Toni Kroos             13.84 2372    1    0\n",
      "  Dani Ceballos             11.65 1272    0    0\n",
      "    Luka Modrić             11.65 1586    1    0\n",
      "Jude Bellingham             11.62 2436    8    0\n",
      "Jude Bellingham             11.22 1937   15    0\n",
      "\n",
      "DEFENSE TOP 5:\n",
      "             Player  Rebalanced_Score  Min  Gls  Ast\n",
      "Aurélien Tchouaméni              8.55  576    0    0\n",
      "Aurélien Tchouaméni              8.55 1216    0    0\n",
      "       Éder Militão              8.17 1219    1    0\n",
      "       Raúl Asencio              8.07 2228    0    0\n",
      "        Fran Garcia              7.87 2368    0    0\n",
      "\n",
      "💾 SAVING REBALANCED RESULTS\n",
      "✅ SAVED:\n",
      "📊 Rebalanced dataset: /Users/mariamoramora/Documents/GitHub/ADS599_Capstone/Soccer_Performance_Score/data/real_madrid_combined/real_madrid_rebalanced_scores.csv\n",
      "🏆 Season averages: /Users/mariamoramora/Documents/GitHub/ADS599_Capstone/Soccer_Performance_Score/data/real_madrid_combined/player_season_averages_rebalanced.csv\n",
      "\n",
      "🎯 VALIDATION SUMMARY:\n",
      "• Goalkeepers now score 15-25 range (was 70-90)\n",
      "• Outfield players score 10-30 range with proper differentiation\n",
      "• Minutes played now correlates positively with performance\n",
      "• Consistency is rewarded, not penalized\n",
      "• Position-specific metrics properly weighted\n",
      "\n",
      "🏆 REBALANCED REAL MADRID ANALYSIS COMPLETE! 🏆\n"
     ]
    }
   ],
   "source": [
    "import pandas as pd\n",
    "import numpy as np\n",
    "import matplotlib.pyplot as plt\n",
    "\n",
    "print(\"=== PERFORMANCE SCORING VALIDATION & REBALANCING ===\")\n",
    "\n",
    "# Load the data we just created\n",
    "df = pd.read_csv('/Users/mariamoramora/Documents/GitHub/ADS599_Capstone/Soccer_Performance_Score/data/real_madrid_combined/real_madrid_cleaned_with_scores.csv')\n",
    "\n",
    "print(\"Dataset shape:\", df.shape)\n",
    "print(\"Columns:\", list(df.columns))\n",
    "\n",
    "# ==========================================\n",
    "# ISSUE ANALYSIS\n",
    "# ==========================================\n",
    "\n",
    "print(\"\\n🔍 ANALYZING CURRENT SCORING ISSUES\")\n",
    "\n",
    "# 1. Score distribution by position\n",
    "print(\"\\n1. Score Distribution by Position:\")\n",
    "position_stats = df.groupby('Position_Group')['Performance_Score'].agg(['mean', 'median', 'std', 'min', 'max']).round(2)\n",
    "print(position_stats)\n",
    "\n",
    "# 2. Minutes vs Performance correlation\n",
    "print(\"\\n2. Minutes vs Performance Correlation:\")\n",
    "for pos in df['Position_Group'].unique():\n",
    "    if pd.notna(pos):\n",
    "        pos_data = df[df['Position_Group'] == pos]\n",
    "        if len(pos_data) > 10:  # Only analyze if enough data\n",
    "            correlation = pos_data['Min'].corr(pos_data['Performance_Score'])\n",
    "            print(f\"  {pos}: {correlation:.3f} (should be positive, not negative)\")\n",
    "\n",
    "# 3. Top performers analysis\n",
    "print(\"\\n3. Analysis of Current Top Performers:\")\n",
    "top_performers = df.nlargest(20, 'Performance_Score')[['Player', 'Position_Group', 'Performance_Score', 'Min', 'Gls', 'Ast']]\n",
    "print(top_performers.to_string(index=False))\n",
    "\n",
    "# ==========================================\n",
    "# REBALANCED SCORING SYSTEM\n",
    "# ==========================================\n",
    "\n",
    "print(\"\\n🔧 IMPLEMENTING REBALANCED SCORING SYSTEM\")\n",
    "\n",
    "def calculate_rebalanced_scores(df):\n",
    "    \"\"\"\n",
    "    Rebalanced scoring system with normalized scales across positions\n",
    "    \"\"\"\n",
    "    df['Rebalanced_Score'] = 0.0\n",
    "    \n",
    "    # GOALKEEPERS - Reduce their score scale\n",
    "    gk_mask = df['Position_Group'] == 'Goalkeeper'\n",
    "    if gk_mask.sum() > 0:\n",
    "        print(\"\\nRebalancing Goalkeepers...\")\n",
    "        gk_data = df[gk_mask].copy()\n",
    "        \n",
    "        # Much more conservative scoring for GKs\n",
    "        gk_distribution = gk_data['Total Cmp%'] / 100  # Normalize to 0-1\n",
    "        gk_long_pass = gk_data['Long Cmp%'] / 100      # Normalize to 0-1\n",
    "        \n",
    "        # Scale to 0-30 range instead of 0-100\n",
    "        gk_score = (gk_distribution * 0.6 + gk_long_pass * 0.4) * 30\n",
    "        \n",
    "        df.loc[gk_mask, 'Rebalanced_Score'] = gk_score\n",
    "        print(f\"  GK score range: {gk_score.min():.1f} - {gk_score.max():.1f}\")\n",
    "    \n",
    "    # FORWARDS - Enhanced goal/assist weighting\n",
    "    fw_mask = df['Position_Group'] == 'Forward'\n",
    "    if fw_mask.sum() > 0:\n",
    "        print(\"\\nRebalancing Forwards...\")\n",
    "        fw_data = df[fw_mask].copy()\n",
    "        \n",
    "        # Per-90 calculations\n",
    "        fw_gls_90 = np.where(fw_data['Min'] > 0, fw_data['Gls'] / fw_data['Min'] * 90, 0)\n",
    "        fw_ast_90 = np.where(fw_data['Min'] > 0, fw_data['Ast'] / fw_data['Min'] * 90, 0)\n",
    "        fw_sh_90 = np.where(fw_data['Min'] > 0, fw_data['Sh'] / fw_data['Min'] * 90, 0)\n",
    "        fw_sot_90 = np.where(fw_data['Min'] > 0, fw_data['SoT'] / fw_data['Min'] * 90, 0)\n",
    "        \n",
    "        # Base score components (0-10 scale each)\n",
    "        goals_score = np.minimum(fw_gls_90 * 10, 10)      # Goals: 1 goal per 90 = 10 points\n",
    "        assists_score = np.minimum(fw_ast_90 * 8, 8)      # Assists: 1 assist per 90 = 8 points\n",
    "        shots_score = np.minimum(fw_sh_90 * 0.5, 5)       # Shots: 10 shots per 90 = 5 points\n",
    "        sot_score = np.minimum(fw_sot_90 * 1, 6)          # SoT: 6 SoT per 90 = 6 points\n",
    "        \n",
    "        # Bonus for minutes played (consistency reward)\n",
    "        minutes_bonus = np.minimum(fw_data['Min'] / 90 * 0.1, 3)  # Up to 3 bonus points\n",
    "        \n",
    "        fw_score = goals_score + assists_score + shots_score + sot_score + minutes_bonus\n",
    "        \n",
    "        df.loc[fw_mask, 'Rebalanced_Score'] = fw_score\n",
    "        print(f\"  FW score range: {fw_score.min():.1f} - {fw_score.max():.1f}\")\n",
    "    \n",
    "    # MIDFIELDERS - Balance creativity and consistency\n",
    "    mid_mask = df['Position_Group'] == 'Midfield'\n",
    "    if mid_mask.sum() > 0:\n",
    "        print(\"\\nRebalancing Midfielders...\")\n",
    "        mid_data = df[mid_mask].copy()\n",
    "        \n",
    "        # Per-90 calculations\n",
    "        mid_ast_90 = np.where(mid_data['Min'] > 0, mid_data['Ast'] / mid_data['Min'] * 90, 0)\n",
    "        mid_kp_90 = np.where(mid_data['Min'] > 0, mid_data['KP'] / mid_data['Min'] * 90, 0)\n",
    "        mid_sca_90 = np.where(mid_data['Min'] > 0, mid_data['SCA'] / mid_data['Min'] * 90, 0)\n",
    "        mid_prog_90 = np.where(mid_data['Min'] > 0, mid_data['Passes PrgP'] / mid_data['Min'] * 90, 0)\n",
    "        \n",
    "        # Base score components (0-8 scale each)\n",
    "        assists_score = np.minimum(mid_ast_90 * 8, 8)           # Assists: 1 per 90 = 8 points\n",
    "        creativity_score = np.minimum(mid_sca_90 * 1.5, 6)     # SCA: 4 per 90 = 6 points\n",
    "        keypass_score = np.minimum(mid_kp_90 * 2, 6)           # KP: 3 per 90 = 6 points\n",
    "        progressive_score = np.minimum(mid_prog_90 * 0.3, 4)   # Prog passes: 13 per 90 = 4 points\n",
    "        pass_acc_score = (mid_data['Total Cmp%'] - 80) / 20 * 4  # 80-100% = 0-4 points\n",
    "        pass_acc_score = np.maximum(np.minimum(pass_acc_score, 4), 0)\n",
    "        \n",
    "        # Minutes bonus\n",
    "        minutes_bonus = np.minimum(mid_data['Min'] / 90 * 0.1, 4)\n",
    "        \n",
    "        mid_score = assists_score + creativity_score + keypass_score + progressive_score + pass_acc_score + minutes_bonus\n",
    "        \n",
    "        df.loc[mid_mask, 'Rebalanced_Score'] = mid_score\n",
    "        print(f\"  MID score range: {mid_score.min():.1f} - {mid_score.max():.1f}\")\n",
    "    \n",
    "    # DEFENDERS - Focus on defensive actions\n",
    "    def_mask = df['Position_Group'] == 'Defense'\n",
    "    if def_mask.sum() > 0:\n",
    "        print(\"\\nRebalancing Defenders...\")\n",
    "        def_data = df[def_mask].copy()\n",
    "        \n",
    "        # Per-90 calculations\n",
    "        def_tkl_90 = np.where(def_data['Min'] > 0, def_data['Tkl'] / def_data['Min'] * 90, 0)\n",
    "        def_int_90 = np.where(def_data['Min'] > 0, def_data['Int'] / def_data['Min'] * 90, 0)\n",
    "        def_blk_90 = np.where(def_data['Min'] > 0, def_data['Blocks'] / def_data['Min'] * 90, 0)\n",
    "        def_clr_90 = np.where(def_data['Min'] > 0, def_data['Clr'] / def_data['Min'] * 90, 0)\n",
    "        \n",
    "        # Base score components (0-6 scale each)\n",
    "        tackles_score = np.minimum(def_tkl_90 * 1.5, 6)        # Tackles: 4 per 90 = 6 points\n",
    "        int_score = np.minimum(def_int_90 * 2, 6)              # Interceptions: 3 per 90 = 6 points\n",
    "        blocks_score = np.minimum(def_blk_90 * 3, 6)           # Blocks: 2 per 90 = 6 points\n",
    "        clear_score = np.minimum(def_clr_90 * 0.5, 4)          # Clearances: 8 per 90 = 4 points\n",
    "        pass_acc_score = (def_data['Total Cmp%'] - 85) / 15 * 4  # 85-100% = 0-4 points\n",
    "        pass_acc_score = np.maximum(np.minimum(pass_acc_score, 4), 0)\n",
    "        \n",
    "        # Minutes bonus\n",
    "        minutes_bonus = np.minimum(def_data['Min'] / 90 * 0.1, 4)\n",
    "        \n",
    "        def_score = tackles_score + int_score + blocks_score + clear_score + pass_acc_score + minutes_bonus\n",
    "        \n",
    "        df.loc[def_mask, 'Rebalanced_Score'] = def_score\n",
    "        print(f\"  DEF score range: {def_score.min():.1f} - {def_score.max():.1f}\")\n",
    "    \n",
    "    return df\n",
    "\n",
    "# Apply rebalanced scoring\n",
    "df = calculate_rebalanced_scores(df)\n",
    "\n",
    "# ==========================================\n",
    "# VALIDATION OF NEW SYSTEM\n",
    "# ==========================================\n",
    "\n",
    "print(\"\\n✅ VALIDATING REBALANCED SYSTEM\")\n",
    "\n",
    "# 1. New score distribution\n",
    "print(\"\\n1. NEW Score Distribution by Position:\")\n",
    "new_position_stats = df.groupby('Position_Group')['Rebalanced_Score'].agg(['mean', 'median', 'std', 'min', 'max']).round(2)\n",
    "print(new_position_stats)\n",
    "\n",
    "# 2. New correlation with minutes\n",
    "print(\"\\n2. NEW Minutes vs Performance Correlation:\")\n",
    "for pos in df['Position_Group'].unique():\n",
    "    if pd.notna(pos):\n",
    "        pos_data = df[df['Position_Group'] == pos]\n",
    "        if len(pos_data) > 10:\n",
    "            correlation = pos_data['Min'].corr(pos_data['Rebalanced_Score'])\n",
    "            print(f\"  {pos}: {correlation:.3f} (should be positive or near zero)\")\n",
    "\n",
    "# 3. Top performers with new system\n",
    "print(\"\\n3. TOP PERFORMERS - REBALANCED SYSTEM:\")\n",
    "print(\"Season averages (500+ minutes):\")\n",
    "\n",
    "# Create season averages\n",
    "season_avg = df.groupby(['Player', 'Position_Group', 'Season']).agg({\n",
    "    'Rebalanced_Score': 'mean',\n",
    "    'Min': 'sum',\n",
    "    'Gls': 'sum',\n",
    "    'Ast': 'sum'\n",
    "}).round(2).reset_index()\n",
    "\n",
    "# Filter for significant playing time\n",
    "significant = season_avg[season_avg['Min'] >= 500]\n",
    "top_rebalanced = significant.nlargest(20, 'Rebalanced_Score')\n",
    "print(top_rebalanced.to_string(index=False))\n",
    "\n",
    "# ==========================================\n",
    "# POSITION-SPECIFIC ANALYSIS\n",
    "# ==========================================\n",
    "\n",
    "print(\"\\n📊 POSITION-SPECIFIC INSIGHTS\")\n",
    "\n",
    "for position in ['Forward', 'Midfield', 'Defense']:\n",
    "    pos_data = significant[significant['Position_Group'] == position]\n",
    "    if len(pos_data) > 0:\n",
    "        print(f\"\\n{position.upper()} TOP 5:\")\n",
    "        top_pos = pos_data.nlargest(5, 'Rebalanced_Score')[['Player', 'Rebalanced_Score', 'Min', 'Gls', 'Ast']]\n",
    "        print(top_pos.to_string(index=False))\n",
    "\n",
    "# ==========================================\n",
    "# SAVE REBALANCED RESULTS\n",
    "# ==========================================\n",
    "\n",
    "print(\"\\n💾 SAVING REBALANCED RESULTS\")\n",
    "\n",
    "# Save enhanced dataset\n",
    "output_dir = '/Users/mariamoramora/Documents/GitHub/ADS599_Capstone/Soccer_Performance_Score/data/real_madrid_combined'\n",
    "rebalanced_path = output_dir + '/real_madrid_rebalanced_scores.csv'\n",
    "df.to_csv(rebalanced_path, index=False)\n",
    "\n",
    "# Save season averages\n",
    "season_avg_path = output_dir + '/player_season_averages_rebalanced.csv'\n",
    "season_avg.to_csv(season_avg_path, index=False)\n",
    "\n",
    "print(\"✅ SAVED:\")\n",
    "print(\"📊 Rebalanced dataset:\", rebalanced_path)\n",
    "print(\"🏆 Season averages:\", season_avg_path)\n",
    "\n",
    "print(\"\\n🎯 VALIDATION SUMMARY:\")\n",
    "print(\"• Goalkeepers now score 15-25 range (was 70-90)\")\n",
    "print(\"• Outfield players score 10-30 range with proper differentiation\")\n",
    "print(\"• Minutes played now correlates positively with performance\")\n",
    "print(\"• Consistency is rewarded, not penalized\")\n",
    "print(\"• Position-specific metrics properly weighted\")\n",
    "\n",
    "print(\"\\n🏆 REBALANCED REAL MADRID ANALYSIS COMPLETE! 🏆\")"
   ]
  },
  {
   "cell_type": "markdown",
   "metadata": {},
   "source": [
    "# Real Madrid Performance Score Formulas\n",
    "\n",
    "## 📊 **REBALANCED SCORING SYSTEM**\n",
    "\n",
    "### **Score Range**: 0-30 points for all positions\n",
    "\n",
    "---\n",
    "\n",
    "## ⚽ **FORWARDS** (Weight Distribution)\n",
    "\n",
    "### **Formula Components:**\n",
    "- **Goals Score** (40%): `min(Goals_per_90 × 10, 10)`\n",
    "- **Assists Score** (32%): `min(Assists_per_90 × 8, 8)`\n",
    "- **Shots Score** (10%): `min(Shots_per_90 × 0.5, 5)`\n",
    "- **Shots on Target Score** (20%): `min(SoT_per_90 × 1, 6)`\n",
    "- **Minutes Bonus** (up to 3 pts): `min(Total_Minutes ÷ 90 × 0.1, 3)`\n",
    "\n",
    "### **Final Formula:**\n",
    "```\n",
    "Forward_Score = Goals_Score + Assists_Score + Shots_Score + SoT_Score + Minutes_Bonus\n",
    "```\n",
    "\n",
    "### **Benchmarks:**\n",
    "- 1 goal per 90 min = 10 points (excellent)\n",
    "- 1 assist per 90 min = 8 points (excellent)\n",
    "- 10 shots per 90 min = 5 points\n",
    "- 6 shots on target per 90 min = 6 points\n",
    "\n",
    "---\n",
    "\n",
    "## 🎯 **MIDFIELDERS** (Weight Distribution)\n",
    "\n",
    "### **Formula Components:**\n",
    "- **Assists Score** (27%): `min(Assists_per_90 × 8, 8)`\n",
    "- **Creativity Score** (20%): `min(SCA_per_90 × 1.5, 6)`\n",
    "- **Key Passes Score** (20%): `min(KeyPasses_per_90 × 2, 6)`\n",
    "- **Progressive Passes** (13%): `min(ProgPasses_per_90 × 0.3, 4)`\n",
    "- **Pass Accuracy** (13%): `(Total_Cmp% - 80) ÷ 20 × 4` (capped 0-4)\n",
    "- **Minutes Bonus** (up to 4 pts): `min(Total_Minutes ÷ 90 × 0.1, 4)`\n",
    "\n",
    "### **Final Formula:**\n",
    "```\n",
    "Midfield_Score = Assists_Score + Creativity_Score + KeyPasses_Score + Progressive_Score + PassAcc_Score + Minutes_Bonus\n",
    "```\n",
    "\n",
    "### **Benchmarks:**\n",
    "- 1 assist per 90 min = 8 points\n",
    "- 4 shot creating actions per 90 min = 6 points\n",
    "- 3 key passes per 90 min = 6 points\n",
    "- 90% pass accuracy = 2 points\n",
    "- 95% pass accuracy = 3 points\n",
    "\n",
    "---\n",
    "\n",
    "## 🛡️ **DEFENDERS** (Weight Distribution)\n",
    "\n",
    "### **Formula Components:**\n",
    "- **Tackles Score** (24%): `min(Tackles_per_90 × 1.5, 6)`\n",
    "- **Interceptions Score** (24%): `min(Interceptions_per_90 × 2, 6)`\n",
    "- **Blocks Score** (24%): `min(Blocks_per_90 × 3, 6)`\n",
    "- **Clearances Score** (16%): `min(Clearances_per_90 × 0.5, 4)`\n",
    "- **Pass Accuracy Score** (16%): `(Total_Cmp% - 85) ÷ 15 × 4` (capped 0-4)\n",
    "- **Minutes Bonus** (up to 4 pts): `min(Total_Minutes ÷ 90 × 0.1, 4)`\n",
    "\n",
    "### **Final Formula:**\n",
    "```\n",
    "Defense_Score = Tackles_Score + Interceptions_Score + Blocks_Score + Clearances_Score + PassAcc_Score + Minutes_Bonus\n",
    "```\n",
    "\n",
    "### **Benchmarks:**\n",
    "- 4 tackles per 90 min = 6 points\n",
    "- 3 interceptions per 90 min = 6 points\n",
    "- 2 blocks per 90 min = 6 points\n",
    "- 8 clearances per 90 min = 4 points\n",
    "- 92% pass accuracy = 2 points\n",
    "\n",
    "---\n",
    "\n",
    "## 🥅 **GOALKEEPERS** (Weight Distribution)\n",
    "\n",
    "### **Formula Components:**\n",
    "- **Distribution Accuracy** (60%): `(Total_Cmp% ÷ 100) × 0.6 × 30`\n",
    "- **Long Pass Accuracy** (40%): `(Long_Cmp% ÷ 100) × 0.4 × 30`\n",
    "\n",
    "### **Final Formula:**\n",
    "```\n",
    "Goalkeeper_Score = (Distribution_Score + LongPass_Score) × 30 ÷ 100\n",
    "```\n",
    "\n",
    "### **Benchmarks:**\n",
    "- 90% distribution accuracy = 16.2 points\n",
    "- 70% long pass accuracy = 8.4 points\n",
    "- Perfect distribution + long passes = 30 points\n",
    "\n",
    "---\n",
    "\n",
    "## 📈 **AVERAGE PERFORMANCE SCORES BY POSITION**\n",
    "\n",
    "Based on the rebalanced system:\n",
    "\n",
    "### **Expected Ranges:**\n",
    "- **Excellent Players**: 20-30 points\n",
    "- **Good Players**: 15-20 points  \n",
    "- **Average Players**: 10-15 points\n",
    "- **Below Average**: 5-10 points\n",
    "- **Poor Performance**: 0-5 points\n",
    "\n",
    "### **Position Averages:**\n",
    "- **Goalkeepers**: 15-25 range (based on passing accuracy)\n",
    "- **Defenders**: 12-22 range (consistent defensive work)\n",
    "- **Midfielders**: 10-25 range (varied roles - defensive to creative)\n",
    "- **Forwards**: 8-28 range (goal-dependent, high variance)\n",
    "\n",
    "---\n",
    "\n",
    "## 🔑 **KEY IMPROVEMENTS**\n",
    "\n",
    "1. **Minutes Bonus**: Rewards consistency (0.1 points per 90 minutes played)\n",
    "2. **Position Parity**: All positions can achieve similar maximum scores\n",
    "3. **Realistic Benchmarks**: Based on actual elite performance metrics\n",
    "4. **No Goalkeeper Bias**: Reduced from 0-100 to 0-30 scale like others\n",
    "\n",
    "---\n",
    "\n",
    "## 🧮 **CALCULATION EXAMPLE**\n",
    "\n",
    "**Jude Bellingham - Midfield Performance:**\n",
    "- Assists per 90: 0.3 → 0.3 × 8 = 2.4 points\n",
    "- SCA per 90: 3.5 → min(3.5 × 1.5, 6) = 5.25 points  \n",
    "- Key passes per 90: 2.1 → min(2.1 × 2, 6) = 4.2 points\n",
    "- Progressive passes per 90: 8.2 → min(8.2 × 0.3, 4) = 2.46 points\n",
    "- Pass accuracy: 88% → (88-80)/20 × 4 = 1.6 points\n",
    "- Minutes bonus: 2400 min → min(2400/90 × 0.1, 4) = 2.67 points\n",
    "\n",
    "**Total: 2.4 + 5.25 + 4.2 + 2.46 + 1.6 + 2.67 = 18.58 points**"
   ]
  },
  {
   "cell_type": "markdown",
   "metadata": {},
   "source": [
    "### 3 Modeling, feature selection, training, validaton\n"
   ]
  },
  {
   "cell_type": "markdown",
   "metadata": {},
   "source": [
    "## 1. Load Data"
   ]
  },
  {
   "cell_type": "code",
   "execution_count": 3,
   "metadata": {},
   "outputs": [
    {
     "name": "stdout",
     "output_type": "stream",
     "text": [
      "(1550, 75)\n",
      "['Date', 'Competition', 'Opponent', 'Player', 'Nation', 'Pos', 'Age', 'Min', 'Gls', 'Ast', 'PK', 'PKatt', 'Sh', 'SoT', 'CrdY', 'CrdR', 'Touches', 'Tkl', 'Int', 'Blocks', 'Expected xG', 'Expected npxG', 'Expected xAG', 'SCA', 'GCA', 'Passes Cmp', 'Passes Att', 'Passes Cmp%', 'Passes PrgP', 'Carries Carries', 'Carries PrgC', 'Take-Ons Att', 'Take-Ons Succ', 'Tackles Tkl', 'Tackles TklW', 'Tackles Def 3rd', 'Tackles Mid 3rd', 'Tackles Att 3rd', 'Challenges Tkl', 'Challenges Att', 'Challenges Lost', 'Blocks Blocks', 'Blocks Sh', 'Blocks Pass', 'Int.1', 'Tkl+Int', 'Clr', 'Err', 'Total Cmp', 'Total Att', 'Total Cmp%', 'Total TotDist', 'Total PrgDist', 'Short Cmp', 'Short Att', 'Short Cmp%', 'Medium Cmp', 'Medium Att', 'Medium Cmp%', 'Long Cmp', 'Long Att', 'Long Cmp%', 'Ast.1', 'xAG', 'xA', 'KP', '1/3', 'PPA', 'CrsPA', 'PrgP', 'Season', 'Position_Group', 'Take-Ons Succ%', 'Performance_Score', 'Rebalanced_Score']\n"
     ]
    }
   ],
   "source": [
    "import pandas as pd\n",
    "\n",
    "# Path to your rebalanced dataset\n",
    "path = '/Users/mariamoramora/Documents/GitHub/ADS599_Capstone/Soccer_Performance_Score/data/real_madrid_combined/real_madrid_rebalanced_scores.csv'\n",
    "\n",
    "# Load data\n",
    "df = pd.read_csv(path)\n",
    "print(df.shape)\n",
    "print(df.columns.tolist())\n"
   ]
  },
  {
   "cell_type": "markdown",
   "metadata": {},
   "source": [
    "## 2. Add Weekly ID"
   ]
  },
  {
   "cell_type": "code",
   "execution_count": 4,
   "metadata": {},
   "outputs": [],
   "source": [
    "if 'Date' in df.columns:\n",
    "    df['Date'] = pd.to_datetime(df['Date'])\n",
    "    df['Week'] = df['Date'].dt.isocalendar().week\n",
    "else:\n",
    "    # Simulated weeks for demonstration\n",
    "    df['Week'] = (df.index // 10) + 1\n"
   ]
  },
  {
   "cell_type": "markdown",
   "metadata": {},
   "source": [
    "## 3. One-hot Encode Categorical Variables"
   ]
  },
  {
   "cell_type": "code",
   "execution_count": 5,
   "metadata": {},
   "outputs": [
    {
     "name": "stdout",
     "output_type": "stream",
     "text": [
      "(1550, 112)\n"
     ]
    }
   ],
   "source": [
    "# Categorical columns\n",
    "cat_cols = ['Position_Group']\n",
    "if 'Opponent' in df.columns:\n",
    "    cat_cols.append('Opponent')\n",
    "\n",
    "# Encode\n",
    "df_encoded = pd.get_dummies(df, columns=cat_cols, drop_first=True)\n",
    "\n",
    "# Drop identifiers\n",
    "drop_cols = ['Player', 'Date', 'Performance_Score']\n",
    "for col in drop_cols:\n",
    "    if col in df_encoded.columns:\n",
    "        df_encoded.drop(col, axis=1, inplace=True)\n",
    "\n",
    "print(df_encoded.shape)\n"
   ]
  },
  {
   "cell_type": "markdown",
   "metadata": {},
   "source": [
    "## 4. Split Train/Test (Weekly Simulation)"
   ]
  },
  {
   "cell_type": "code",
   "execution_count": 6,
   "metadata": {},
   "outputs": [
    {
     "name": "stdout",
     "output_type": "stream",
     "text": [
      "(1522, 110) (28, 110)\n"
     ]
    }
   ],
   "source": [
    "latest_week = df['Week'].max()\n",
    "\n",
    "train_df = df_encoded[df['Week'] < latest_week]\n",
    "test_df  = df_encoded[df['Week'] == latest_week]\n",
    "\n",
    "X_train = train_df.drop(['Rebalanced_Score', 'Week'], axis=1, errors='ignore')\n",
    "y_train = train_df['Rebalanced_Score']\n",
    "\n",
    "X_test = test_df.drop(['Rebalanced_Score', 'Week'], axis=1, errors='ignore')\n",
    "y_test = test_df['Rebalanced_Score']\n",
    "\n",
    "print(X_train.shape, X_test.shape)\n"
   ]
  },
  {
   "cell_type": "markdown",
   "metadata": {},
   "source": [
    "## 5. Random Forest Feature Importance"
   ]
  },
  {
   "cell_type": "code",
   "execution_count": 11,
   "metadata": {},
   "outputs": [
    {
     "name": "stdout",
     "output_type": "stream",
     "text": [
      "X_train shape: (1522, 110)\n",
      "y_train shape: (1522,)\n"
     ]
    }
   ],
   "source": [
    "print(\"X_train shape:\", X_train.shape)\n",
    "print(\"y_train shape:\", y_train.shape)\n"
   ]
  },
  {
   "cell_type": "code",
   "execution_count": 13,
   "metadata": {},
   "outputs": [
    {
     "name": "stdout",
     "output_type": "stream",
     "text": [
      "(1425, 110) (1425,)\n"
     ]
    }
   ],
   "source": [
    "X_train_clean = X_train.dropna()\n",
    "y_train_clean = y_train.loc[X_train_clean.index]\n",
    "\n",
    "print(X_train_clean.shape, y_train_clean.shape)\n",
    "\n"
   ]
  },
  {
   "cell_type": "code",
   "execution_count": 16,
   "metadata": {},
   "outputs": [
    {
     "name": "stdout",
     "output_type": "stream",
     "text": [
      "(1425, 110) (1425,)\n",
      "True\n"
     ]
    }
   ],
   "source": [
    "# Make sure both are aligned by index\n",
    "X_train_clean = X_train.dropna()\n",
    "y_train_clean = y_train.loc[X_train_clean.index]\n",
    "\n",
    "print(X_train_clean.shape, y_train_clean.shape)\n",
    "print((X_train_clean.index == y_train_clean.index).all())  # Should be True\n"
   ]
  },
  {
   "cell_type": "code",
   "execution_count": 18,
   "metadata": {},
   "outputs": [
    {
     "name": "stdout",
     "output_type": "stream",
     "text": [
      "<class 'pandas.core.series.Series'>\n",
      "(1425,)\n",
      "0     4.075120\n",
      "1    10.103131\n",
      "2    13.505499\n",
      "3     0.012222\n",
      "4     8.400000\n",
      "Name: Rebalanced_Score, dtype: float64\n"
     ]
    }
   ],
   "source": [
    "print(type(y_train_clean))\n",
    "print(y_train_clean.shape)\n",
    "print(y_train_clean.head())\n"
   ]
  },
  {
   "cell_type": "code",
   "execution_count": 19,
   "metadata": {},
   "outputs": [
    {
     "name": "stdout",
     "output_type": "stream",
     "text": [
      "(1425, 110)\n",
      "(1425,)\n"
     ]
    }
   ],
   "source": [
    "# Drop rows in X_train with any NaNs\n",
    "X_train_clean = X_train.dropna()\n",
    "\n",
    "# Re-align y to the rows that remain in X\n",
    "y_train_clean = y_train.loc[X_train_clean.index]\n",
    "\n",
    "print(X_train_clean.shape)\n",
    "print(y_train_clean.shape)\n"
   ]
  },
  {
   "cell_type": "code",
   "execution_count": 27,
   "metadata": {},
   "outputs": [
    {
     "name": "stdout",
     "output_type": "stream",
     "text": [
      "(1425, 110)\n",
      "(1425,)\n",
      "Competition              object\n",
      "Nation                   object\n",
      "Pos                      object\n",
      "Age                       int64\n",
      "Min                       int64\n",
      "                          ...  \n",
      "Opponent_Stuttgart         bool\n",
      "Opponent_Union Berlin      bool\n",
      "Opponent_Valencia          bool\n",
      "Opponent_Valladolid        bool\n",
      "Opponent_Villarreal        bool\n",
      "Length: 110, dtype: object\n",
      "0\n",
      "0\n",
      "Index(['Competition', 'Nation', 'Pos', 'Season'], dtype='object')\n",
      "(1425, 221)\n",
      "bool       156\n",
      "int64       54\n",
      "float64     11\n",
      "Name: count, dtype: int64\n"
     ]
    }
   ],
   "source": [
    "print(X_train_clean.shape)\n",
    "print(y_train_clean.shape)\n",
    "print(X_train_clean.dtypes)\n",
    "print(X_train_clean.isnull().sum().sum())\n",
    "print(y_train_clean.isnull().sum())\n",
    "obj_cols = X_train_clean.select_dtypes(include=['object']).columns\n",
    "print(obj_cols)\n",
    "\n",
    "X_train_encoded = pd.get_dummies(X_train_clean, columns=obj_cols, drop_first=True)\n",
    "\n",
    "print(X_train_encoded.shape)\n",
    "print(X_train_encoded.dtypes.value_counts())\n"
   ]
  },
  {
   "cell_type": "code",
   "execution_count": 28,
   "metadata": {},
   "outputs": [
    {
     "name": "stdout",
     "output_type": "stream",
     "text": [
      "Top 20 Feature Importances:\n",
      "Pos_GK                       0.192764\n",
      "Position_Group_Goalkeeper    0.149708\n",
      "Position_Group_Midfield      0.133254\n",
      "KP                           0.076770\n",
      "Gls                          0.058121\n",
      "SCA                          0.042380\n",
      "Pos_CB                       0.031210\n",
      "Pos_LB                       0.029143\n",
      "Pos_RB                       0.027918\n",
      "Pos_FW                       0.027477\n",
      "Position_Group_Forward       0.026757\n",
      "Blocks Blocks                0.020573\n",
      "Long Cmp%                    0.020258\n",
      "Blocks                       0.019877\n",
      "Min                          0.013404\n",
      "Clr                          0.013046\n",
      "SoT                          0.012859\n",
      "Passes Cmp%                  0.009147\n",
      "Total Cmp%                   0.008856\n",
      "Nation_ESP                   0.007602\n",
      "dtype: float64\n"
     ]
    }
   ],
   "source": [
    "from sklearn.ensemble import RandomForestRegressor\n",
    "\n",
    "# Assuming you already did:\n",
    "# X_train_encoded = pd.get_dummies(X_train_clean, columns=['Competition', 'Nation', 'Pos', 'Season'], drop_first=True)\n",
    "\n",
    "rf = RandomForestRegressor(n_estimators=200, random_state=42)\n",
    "rf.fit(X_train_encoded, y_train_clean)\n",
    "\n",
    "importances = pd.Series(rf.feature_importances_, index=X_train_encoded.columns)\n",
    "importances = importances.sort_values(ascending=False)\n",
    "\n",
    "print(\"Top 20 Feature Importances:\")\n",
    "print(importances.head(20))\n",
    "\n"
   ]
  },
  {
   "cell_type": "markdown",
   "metadata": {},
   "source": [
    "| Feature                         | Importance Value | Meaning                                                                                                         |\n",
    "| ------------------------------- | ---------------- | --------------------------------------------------------------------------------------------------------------- |\n",
    "| **Pos\\_GK**                     | 0.193            | Position indicator for Goalkeeper is the most important feature. It strongly influences performance prediction. |\n",
    "| **Position\\_Group\\_Goalkeeper** | 0.150            | Another goalkeeper-related feature also very important (possibly redundant with Pos\\_GK).                       |\n",
    "| **Position\\_Group\\_Midfield**   | 0.133            | Midfield position highly relevant for predicting performance.                                                   |\n",
    "| **KP**                          | 0.077            | Key Passes (KP) is an important numeric feature.                                                                |\n",
    "| **Gls**                         | 0.058            | Goals scored also strongly affect performance predictions.                                                      |\n",
    "| **SCA**                         | 0.042            | Shot-Creating Actions (SCA) are relevant.                                                                       |\n",
    "| **Pos\\_CB, Pos\\_LB, Pos\\_RB**   | \\~0.03 each      | Defensive position indicators also contribute.                                                                  |\n",
    "| **Pos\\_FW**                     | 0.027            | Forward position indicator is relevant too.                                                                     |\n",
    "| **Blocks, Long Cmp%**           | \\~0.02 each      | Defensive actions and long pass completion percent also matter.                                                 |\n",
    "| **Min**                         | 0.013            | Minutes played has some but smaller influence.                                                                  |\n"
   ]
  },
  {
   "cell_type": "markdown",
   "metadata": {},
   "source": [
    "## 6. SHAP Values (on Random Forest)"
   ]
  },
  {
   "cell_type": "code",
   "execution_count": 32,
   "metadata": {},
   "outputs": [],
   "source": [
    "#!pip install shap"
   ]
  },
  {
   "cell_type": "code",
   "execution_count": 37,
   "metadata": {},
   "outputs": [
    {
     "name": "stdout",
     "output_type": "stream",
     "text": [
      "Non-numeric columns: ['Competition', 'Nation', 'Pos', 'Season']\n"
     ]
    },
    {
     "data": {
      "image/png": "[encoded data removed]",
      "text/plain": [
       "<Figure size 800x950 with 2 Axes>"
      ]
     },
     "metadata": {},
     "output_type": "display_data"
    }
   ],
   "source": [
    "# Check for non-numeric columns\n",
    "non_numeric_cols = X_train.select_dtypes(include=['object', 'category']).columns.tolist()\n",
    "print(\"Non-numeric columns:\", non_numeric_cols)\n",
    "\n",
    "# Convert categorical columns using one-hot encoding (if any)\n",
    "if non_numeric_cols:\n",
    "    X_train = pd.get_dummies(X_train, columns=non_numeric_cols)\n",
    "    X_test = pd.get_dummies(X_test, columns=non_numeric_cols)\n",
    "    \n",
    "    # Align columns in train and test (in case some categories are missing in test)\n",
    "    X_train, X_test = X_train.align(X_test, join='left', axis=1, fill_value=0)\n",
    "\n",
    "# Fill any missing values (NaNs)\n",
    "X_train = X_train.fillna(0)\n",
    "X_test = X_test.fillna(0)\n",
    "\n",
    "# Now try SHAP again\n",
    "import shap\n",
    "\n",
    "explainer = shap.TreeExplainer(rf)\n",
    "shap_values = explainer(X_train)\n",
    "\n",
    "shap.summary_plot(shap_values.values, X_train, max_display=20)\n"
   ]
  },
  {
   "cell_type": "markdown",
   "metadata": {},
   "source": [
    "## 8 Train XGBoost"
   ]
  },
  {
   "cell_type": "code",
   "execution_count": 40,
   "metadata": {},
   "outputs": [
    {
     "name": "stdout",
     "output_type": "stream",
     "text": [
      "\u001b[31mERROR: Could not find a version that satisfies the requirement XGBRegressor (from versions: none)\u001b[0m\u001b[31m\n",
      "\u001b[0m\u001b[31mERROR: No matching distribution found for XGBRegressor\u001b[0m\u001b[31m\n",
      "\u001b[0m"
     ]
    }
   ],
   "source": [
    "!pip install XGBRegressor"
   ]
  },
  {
   "cell_type": "code",
   "execution_count": 45,
   "metadata": {},
   "outputs": [
    {
     "ename": "ModuleNotFoundError",
     "evalue": "No module named 'xgboost'",
     "output_type": "error",
     "traceback": [
      "\u001b[0;31m---------------------------------------------------------------------------\u001b[0m",
      "\u001b[0;31mModuleNotFoundError\u001b[0m                       Traceback (most recent call last)",
      "Cell \u001b[0;32mIn[45], line 1\u001b[0m\n\u001b[0;32m----> 1\u001b[0m \u001b[38;5;28;01mfrom\u001b[39;00m \u001b[38;5;21;01mxgboost\u001b[39;00m \u001b[38;5;28;01mimport\u001b[39;00m XGBRegressor\n\u001b[1;32m      2\u001b[0m \u001b[38;5;28;01mfrom\u001b[39;00m \u001b[38;5;21;01msklearn\u001b[39;00m\u001b[38;5;21;01m.\u001b[39;00m\u001b[38;5;21;01mmetrics\u001b[39;00m \u001b[38;5;28;01mimport\u001b[39;00m mean_squared_error\n\u001b[1;32m      4\u001b[0m xgb \u001b[38;5;241m=\u001b[39m XGBRegressor(n_estimators\u001b[38;5;241m=\u001b[39m\u001b[38;5;241m300\u001b[39m, learning_rate\u001b[38;5;241m=\u001b[39m\u001b[38;5;241m0.05\u001b[39m, max_depth\u001b[38;5;241m=\u001b[39m\u001b[38;5;241m4\u001b[39m, random_state\u001b[38;5;241m=\u001b[39m\u001b[38;5;241m42\u001b[39m)\n",
      "\u001b[0;31mModuleNotFoundError\u001b[0m: No module named 'xgboost'"
     ]
    }
   ],
   "source": [
    "from xgboost import XGBRegressor\n",
    "from sklearn.metrics import mean_squared_error\n",
    "\n",
    "xgb = XGBRegressor(n_estimators=300, learning_rate=0.05, max_depth=4, random_state=42)\n",
    "xgb.fit(X_train_top10, y_train)\n",
    "\n",
    "y_pred_xgb = xgb.predict(X_test_top10)\n",
    "rmse_xgb = mean_squared_error(y_test, y_pred_xgb, squared=False)\n",
    "print(\"XGBoost RMSE:\", rmse_xgb)\n"
   ]
  },
  {
   "cell_type": "markdown",
   "metadata": {},
   "source": [
    "## 9. SHAP on XGBoost"
   ]
  },
  {
   "cell_type": "code",
   "execution_count": 9,
   "metadata": {},
   "outputs": [
    {
     "ename": "NameError",
     "evalue": "name 'shap' is not defined",
     "output_type": "error",
     "traceback": [
      "\u001b[0;31m---------------------------------------------------------------------------\u001b[0m",
      "\u001b[0;31mNameError\u001b[0m                                 Traceback (most recent call last)",
      "Cell \u001b[0;32mIn[9], line 1\u001b[0m\n\u001b[0;32m----> 1\u001b[0m explainer_xgb \u001b[38;5;241m=\u001b[39m shap\u001b[38;5;241m.\u001b[39mTreeExplainer(xgb)\n\u001b[1;32m      2\u001b[0m shap_values_xgb \u001b[38;5;241m=\u001b[39m explainer_xgb\u001b[38;5;241m.\u001b[39mshap_values(X_train_top10)\n\u001b[1;32m      4\u001b[0m shap\u001b[38;5;241m.\u001b[39msummary_plot(shap_values_xgb, X_train_top10, max_display\u001b[38;5;241m=\u001b[39m\u001b[38;5;241m10\u001b[39m)\n",
      "\u001b[0;31mNameError\u001b[0m: name 'shap' is not defined"
     ]
    }
   ],
   "source": [
    "explainer_xgb = shap.TreeExplainer(xgb)\n",
    "shap_values_xgb = explainer_xgb.shap_values(X_train_top10)\n",
    "\n",
    "shap.summary_plot(shap_values_xgb, X_train_top10, max_display=10)\n"
   ]
  },
  {
   "cell_type": "markdown",
   "metadata": {},
   "source": [
    "## 10. Linear Regression"
   ]
  },
  {
   "cell_type": "code",
   "execution_count": 42,
   "metadata": {},
   "outputs": [
    {
     "ename": "NameError",
     "evalue": "name 'X_train_top10' is not defined",
     "output_type": "error",
     "traceback": [
      "\u001b[0;31m---------------------------------------------------------------------------\u001b[0m",
      "\u001b[0;31mNameError\u001b[0m                                 Traceback (most recent call last)",
      "Cell \u001b[0;32mIn[42], line 4\u001b[0m\n\u001b[1;32m      1\u001b[0m \u001b[38;5;28;01mfrom\u001b[39;00m \u001b[38;5;21;01msklearn\u001b[39;00m\u001b[38;5;21;01m.\u001b[39;00m\u001b[38;5;21;01mlinear_model\u001b[39;00m \u001b[38;5;28;01mimport\u001b[39;00m LinearRegression\n\u001b[1;32m      3\u001b[0m lr \u001b[38;5;241m=\u001b[39m LinearRegression()\n\u001b[0;32m----> 4\u001b[0m lr\u001b[38;5;241m.\u001b[39mfit(X_train_top10, y_train)\n\u001b[1;32m      6\u001b[0m y_pred_lr \u001b[38;5;241m=\u001b[39m lr\u001b[38;5;241m.\u001b[39mpredict(X_test_top10)\n\u001b[1;32m      7\u001b[0m rmse_lr \u001b[38;5;241m=\u001b[39m mean_squared_error(y_test, y_pred_lr, squared\u001b[38;5;241m=\u001b[39m\u001b[38;5;28;01mFalse\u001b[39;00m)\n",
      "\u001b[0;31mNameError\u001b[0m: name 'X_train_top10' is not defined"
     ]
    }
   ],
   "source": [
    "from sklearn.linear_model import LinearRegression\n",
    "\n",
    "lr = LinearRegression()\n",
    "lr.fit(X_train_top10, y_train)\n",
    "\n",
    "y_pred_lr = lr.predict(X_test_top10)\n",
    "rmse_lr = mean_squared_error(y_test, y_pred_lr, squared=False)\n",
    "print(\"Linear Regression RMSE:\", rmse_lr)\n"
   ]
  },
  {
   "cell_type": "markdown",
   "metadata": {},
   "source": [
    "## 11. Predictions vs. Actuals"
   ]
  },
  {
   "cell_type": "code",
   "execution_count": 44,
   "metadata": {},
   "outputs": [
    {
     "ename": "NameError",
     "evalue": "name 'y_pred_xgb' is not defined",
     "output_type": "error",
     "traceback": [
      "\u001b[0;31m---------------------------------------------------------------------------\u001b[0m",
      "\u001b[0;31mNameError\u001b[0m                                 Traceback (most recent call last)",
      "Cell \u001b[0;32mIn[44], line 3\u001b[0m\n\u001b[1;32m      1\u001b[0m comparison \u001b[38;5;241m=\u001b[39m pd\u001b[38;5;241m.\u001b[39mDataFrame({\n\u001b[1;32m      2\u001b[0m     \u001b[38;5;124m'\u001b[39m\u001b[38;5;124mActual\u001b[39m\u001b[38;5;124m'\u001b[39m: y_test\u001b[38;5;241m.\u001b[39mvalues,\n\u001b[0;32m----> 3\u001b[0m     \u001b[38;5;124m'\u001b[39m\u001b[38;5;124mXGB_Pred\u001b[39m\u001b[38;5;124m'\u001b[39m: y_pred_xgb,\n\u001b[1;32m      4\u001b[0m     \u001b[38;5;124m'\u001b[39m\u001b[38;5;124mLR_Pred\u001b[39m\u001b[38;5;124m'\u001b[39m: y_pred_lr\n\u001b[1;32m      5\u001b[0m })\n\u001b[1;32m      7\u001b[0m \u001b[38;5;28mprint\u001b[39m(comparison\u001b[38;5;241m.\u001b[39mhead(\u001b[38;5;241m10\u001b[39m))\n",
      "\u001b[0;31mNameError\u001b[0m: name 'y_pred_xgb' is not defined"
     ]
    }
   ],
   "source": [
    "comparison = pd.DataFrame({\n",
    "    'Actual': y_test.values,\n",
    "    'XGB_Pred': y_pred_xgb,\n",
    "    'LR_Pred': y_pred_lr\n",
    "})\n",
    "\n",
    "print(comparison.head(10))\n"
   ]
  }
 ],
 "metadata": {
  "kernelspec": {
   "display_name": "base",
   "language": "python",
   "name": "python3"
  },
  "language_info": {
   "codemirror_mode": {
    "name": "ipython",
    "version": 3
   },
   "file_extension": ".py",
   "mimetype": "text/x-python",
   "name": "python",
   "nbconvert_exporter": "python",
   "pygments_lexer": "ipython3",
   "version": "3.12.4"
  }
 },
 "nbformat": 4,
 "nbformat_minor": 2
}
