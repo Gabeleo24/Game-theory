{
 "cells": [
  {
   "cell_type": "markdown",
   "metadata": {},
   "source": [
    "# Soccer Intelligence System - Data Collection Demo\n",
    "\n",
    "This notebook demonstrates the data collection capabilities of the Soccer Performance Intelligence System.\n",
    "\n",
    "## Features Demonstrated:\n",
    "- API-Football data collection\n",
    "- Social media data collection\n",
    "- Wikipedia data extraction\n",
    "- Data caching and management"
   ]
  },
  {
   "cell_type": "code",
   "execution_count": null,
   "metadata": {},
   "outputs": [],
   "source": [
    "# Import required libraries\n",
    "import sys\n",
    "import os\n",
    "sys.path.append('../src')\n",
    "\n",
    "import pandas as pd\n",
    "import numpy as np\n",
    "import matplotlib.pyplot as plt\n",
    "import seaborn as sns\n",
    "from datetime import datetime, timedelta\n",
    "\n",
    "# Import our modules\n",
    "from soccer_intelligence.data_collection import APIFootballClient, SocialMediaCollector, WikipediaCollector\n",
    "from soccer_intelligence.utils import Config, setup_logger\n",
    "\n",
    "# Set up logging\n",
    "logger = setup_logger('data_collection_demo')\n",
    "print(\"Soccer Intelligence System - Data Collection Demo\")\n",
    "print(\"=\" * 50)"
   ]
  },
  {
   "cell_type": "markdown",
   "metadata": {},
   "source": [
    "## 1. API-Football Data Collection\n",
    "\n",
    "Collect comprehensive soccer data from API-Football including teams, matches, and player statistics."
   ]
  },
  {
   "cell_type": "code",
   "execution_count": null,
   "metadata": {},
   "outputs": [],
   "source": [
    "# Initialize API-Football client\n",
    "# Note: You need to set up your API key in config/api_keys.yaml\n",
    "api_client = APIFootballClient()\n",
    "\n",
    "# Check if API key is configured\n",
    "if not api_client.api_key:\n",
    "    print(\"⚠️  API-Football key not configured. Please set up config/api_keys.yaml\")\n",
    "    print(\"Demo will use cached data if available.\")\n",
    "else:\n",
    "    print(\"✅ API-Football client initialized successfully\")"
   ]
  },
  {
   "cell_type": "code",
   "execution_count": null,
   "metadata": {},
   "outputs": [],
   "source": [
    "# Collect La Liga data for 2023 season\n",
    "LA_LIGA_ID = 140\n",
    "SEASON = 2023\n",
    "\n",
    "print(f\"Collecting La Liga data for {SEASON} season...\")\n",
    "\n",
    "try:\n",
    "    # Get teams\n",
    "    teams = api_client.get_teams(LA_LIGA_ID, SEASON)\n",
    "    print(f\"✅ Collected {len(teams)} teams\")\n",
    "    \n",
    "    # Get matches (limited sample)\n",
    "    matches = api_client.get_matches(LA_LIGA_ID, SEASON)\n",
    "    print(f\"✅ Collected {len(matches)} matches\")\n",
    "    \n",
    "    # Get standings\n",
    "    standings = api_client.get_standings(LA_LIGA_ID, SEASON)\n",
    "    print(f\"✅ Collected standings data\")\n",
    "    \n",
    "    # Display sample data\n",
    "    if teams:\n",
    "        print(\"\\nSample teams:\")\n",
    "        for i, team in enumerate(teams[:5]):\n",
    "            team_info = team.get('team', {})\n",
    "            print(f\"  {i+1}. {team_info.get('name', 'Unknown')} (ID: {team_info.get('id', 'N/A')})\")\n",
    "    \n",
    "except Exception as e:\n",
    "    print(f\"❌ Error collecting API data: {e}\")\n",
    "    print(\"This might be due to API key configuration or rate limits.\")"
   ]
  },
  {
   "cell_type": "markdown",
   "metadata": {},
   "source": [
    "## 2. Social Media Data Collection\n",
    "\n",
    "Collect social media mentions and sentiment data for teams and players."
   ]
  },
  {
   "cell_type": "code",
   "execution_count": null,
   "metadata": {},
   "outputs": [],
   "source": [
    "# Initialize social media collector\n",
    "social_collector = SocialMediaCollector()\n",
    "\n",
    "if not social_collector.twitter_client:\n",
    "    print(\"⚠️  Twitter API not configured. Social media collection disabled.\")\n",
    "    print(\"To enable: Set up Twitter bearer token in config/api_keys.yaml\")\n",
    "else:\n",
    "    print(\"✅ Social media collector initialized\")\n",
    "    \n",
    "    # Collect mentions for popular teams\n",
    "    teams_to_analyze = ['Real Madrid', 'Barcelona', 'Manchester United']\n",
    "    \n",
    "    social_data = {}\n",
    "    \n",
    "    for team in teams_to_analyze:\n",
    "        print(f\"\\nCollecting social media data for {team}...\")\n",
    "        try:\n",
    "            mentions = social_collector.get_team_mentions(team, max_results=20)\n",
    "            social_data[team] = mentions\n",
    "            print(f\"✅ Collected {len(mentions)} mentions for {team}\")\n",
    "        except Exception as e:\n",
    "            print(f\"❌ Error collecting data for {team}: {e}\")\n",
    "    \n",
    "    # Display sample social media data\n",
    "    if social_data:\n",
    "        print(\"\\nSample social media mentions:\")\n",
    "        for team, mentions in social_data.items():\n",
    "            if mentions:\n",
    "                print(f\"\\n{team} - Recent mention:\")\n",
    "                print(f\"  Text: {mentions[0].get('text', 'N/A')[:100]}...\")\n",
    "                print(f\"  Created: {mentions[0].get('created_at', 'N/A')}\")"
   ]
  },
  {
   "cell_type": "markdown",
   "metadata": {},
   "source": [
    "## 3. Wikipedia Data Collection\n",
    "\n",
    "Collect historical and contextual information from Wikipedia."
   ]
  },
  {
   "cell_type": "code",
   "execution_count": null,
   "metadata": {},
   "outputs": [],
   "source": [
    "# Initialize Wikipedia collector\n",
    "wiki_collector = WikipediaCollector()\n",
    "print(\"✅ Wikipedia collector initialized\")\n",
    "\n",
    "# Collect information for famous players and teams\n",
    "players_to_analyze = ['Lionel Messi', 'Cristiano Ronaldo', 'Kylian Mbappe']\n",
    "teams_to_analyze = ['Real Madrid', 'Barcelona', 'Manchester United']\n",
    "\n",
    "wiki_data = {'players': {}, 'teams': {}}\n",
    "\n",
    "print(\"\\nCollecting Wikipedia data for players...\")\n",
    "for player in players_to_analyze:\n",
    "    try:\n",
    "        player_info = wiki_collector.get_player_info(player)\n",
    "        if player_info:\n",
    "            wiki_data['players'][player] = player_info\n",
    "            print(f\"✅ Collected Wikipedia data for {player}\")\n",
    "        else:\n",
    "            print(f\"⚠️  No Wikipedia data found for {player}\")\n",
    "    except Exception as e:\n",
    "        print(f\"❌ Error collecting data for {player}: {e}\")\n",
    "\n",
    "print(\"\\nCollecting Wikipedia data for teams...\")\n",
    "for team in teams_to_analyze:\n",
    "    try:\n",
    "        team_info = wiki_collector.get_team_info(team)\n",
    "        if team_info:\n",
    "            wiki_data['teams'][team] = team_info\n",
    "            print(f\"✅ Collected Wikipedia data for {team}\")\n",
    "        else:\n",
    "            print(f\"⚠️  No Wikipedia data found for {team}\")\n",
    "    except Exception as e:\n",
    "        print(f\"❌ Error collecting data for {team}: {e}\")"
   ]
  },
  {
   "cell_type": "code",
   "execution_count": null,
   "metadata": {},
   "outputs": [],
   "source": [
    "# Display sample Wikipedia data\n",
    "if wiki_data['players']:\n",
    "    print(\"\\nSample Wikipedia player data:\")\n",
    "    for player, info in list(wiki_data['players'].items())[:2]:\n",
    "        print(f\"\\n{player}:\")\n",
    "        print(f\"  Birth Date: {info.get('birth_date', 'N/A')}\")\n",
    "        print(f\"  Position: {info.get('position', 'N/A')}\")\n",
    "        print(f\"  Nationality: {info.get('nationality', 'N/A')}\")\n",
    "        print(f\"  Summary: {info.get('summary', 'N/A')[:150]}...\")\n",
    "\n",
    "if wiki_data['teams']:\n",
    "    print(\"\\nSample Wikipedia team data:\")\n",
    "    for team, info in list(wiki_data['teams'].items())[:2]:\n",
    "        print(f\"\\n{team}:\")\n",
    "        print(f\"  Founded: {info.get('founded', 'N/A')}\")\n",
    "        print(f\"  Stadium: {info.get('stadium', 'N/A')}\")\n",
    "        print(f\"  League: {info.get('league', 'N/A')}\")\n",
    "        print(f\"  Summary: {info.get('summary', 'N/A')[:150]}...\")"
   ]
  },
  {
   "cell_type": "markdown",
   "metadata": {},
   "source": [
    "## 4. Data Caching and Management\n",
    "\n",
    "Demonstrate the caching system that prevents repeated API calls."
   ]
  },
  {
   "cell_type": "code",
   "execution_count": null,
   "metadata": {},
   "outputs": [],
   "source": [
    "# Check cache information\n",
    "from soccer_intelligence.data_collection import CacheManager\n",
    "\n",
    "cache_manager = CacheManager()\n",
    "cache_info = cache_manager.get_cache_info()\n",
    "\n",
    "print(\"Cache Information:\")\n",
    "print(f\"  Cache Directory: {cache_info['cache_directory']}\")\n",
    "print(f\"  Total Files: {cache_info['total_files']}\")\n",
    "print(f\"  Total Size: {cache_info['total_size_mb']} MB\")\n",
    "print(f\"  Cache Duration: {cache_info['cache_duration_hours']} hours\")\n",
    "\n",
    "if cache_info['files']:\n",
    "    print(\"\\nRecent cache files:\")\n",
    "    for file_info in cache_info['files'][:5]:\n",
    "        status = \"✅ Valid\" if file_info['is_valid'] else \"❌ Expired\"\n",
    "        print(f\"  {file_info['filename']}: {file_info['size_bytes']} bytes - {status}\")"
   ]
  },
  {
   "cell_type": "markdown",
   "metadata": {},
   "source": [
    "## 5. Data Collection Summary\n",
    "\n",
    "Summary of collected data and next steps."
   ]
  },
  {
   "cell_type": "code",
   "execution_count": null,
   "metadata": {},
   "outputs": [],
   "source": [
    "print(\"Data Collection Summary\")\n",
    "print(\"=\" * 30)\n",
    "\n",
    "# Count collected data\n",
    "api_data_count = 0\n",
    "social_data_count = 0\n",
    "wiki_data_count = 0\n",
    "\n",
    "try:\n",
    "    api_data_count = len(teams) + len(matches) if 'teams' in locals() and 'matches' in locals() else 0\n",
    "except:\n",
    "    pass\n",
    "\n",
    "try:\n",
    "    social_data_count = sum(len(mentions) for mentions in social_data.values()) if 'social_data' in locals() else 0\n",
    "except:\n",
    "    pass\n",
    "\n",
    "try:\n",
    "    wiki_data_count = len(wiki_data['players']) + len(wiki_data['teams']) if 'wiki_data' in locals() else 0\n",
    "except:\n",
    "    pass\n",
    "\n",
    "print(f\"📊 API-Football Records: {api_data_count}\")\n",
    "print(f\"🐦 Social Media Mentions: {social_data_count}\")\n",
    "print(f\"📖 Wikipedia Articles: {wiki_data_count}\")\n",
    "print(f\"💾 Cache Files: {cache_info.get('total_files', 0)}\")\n",
    "\n",
    "print(\"\\nNext Steps:\")\n",
    "print(\"1. Run 02_data_processing.ipynb to clean and process the collected data\")\n",
    "print(\"2. Run 03_shapley_analysis.ipynb for player contribution analysis\")\n",
    "print(\"3. Run 04_rag_system.ipynb to set up the query system\")\n",
    "print(\"4. Run 05_tactical_insights.ipynb for comprehensive analysis\")\n",
    "\n",
    "print(\"\\n✅ Data collection demo completed!\")"
   ]
  }
 ],
 "metadata": {
  "kernelspec": {
   "display_name": "Python 3",
   "language": "python",
   "name": "python3"
  },
  "language_info": {
   "codemirror_mode": {
    "name": "ipython",
    "version": 3
   },
   "file_extension": ".py",
   "mimetype": "text/x-python",
   "name": "python",
   "nbconvert_exporter": "python",
   "pygments_lexer": "ipython3",
   "version": "3.8.0"
  }
 },
 "nbformat": 4,
 "nbformat_minor": 4
}
