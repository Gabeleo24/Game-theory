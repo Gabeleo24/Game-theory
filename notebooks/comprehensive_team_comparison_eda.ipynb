{
 "cells": [
  {
   "cell_type": "markdown",
   "metadata": {},
   "source": [
    "#  Manchester City vs Real Madrid - Comprehensive EDA\n",
    "\n",
    "## Overview\n",
    "This notebook provides a comprehensive exploratory data analysis comparing Manchester City and Real Madrid's 2023-24 season performance across multiple dimensions:\n",
    "\n",
    "- **Team Performance Analysis**\n",
    "- **Player Statistics Comparison**\n",
    "- **Tactical Analysis**\n",
    "- **Competition Performance**\n",
    "- **Advanced Metrics & Insights**\n",
    "\n",
    "---"
   ]
  },
  {
   "cell_type": "markdown",
   "metadata": {},
   "source": [
    "## Setup and Data Loading"
   ]
  },
  {
   "cell_type": "code",
   "execution_count": 1,
   "metadata": {},
   "outputs": [
    {
     "name": "stdout",
     "output_type": "stream",
     "text": [
      "Libraries imported successfully!\n"
     ]
    }
   ],
   "source": [
    "# Import required libraries\n",
    "import pandas as pd\n",
    "import numpy as np\n",
    "import plotly.graph_objects as go\n",
    "from plotly.subplots import make_subplots\n",
    "import warnings\n",
    "warnings.filterwarnings('ignore')\n",
    "\n",
    "# Configure display options\n",
    "pd.set_option('display.max_columns', None)\n",
    "pd.set_option('display.width', None)\n",
    "pd.set_option('display.max_colwidth', None)\n",
    "\n",
    "print(\"Libraries imported successfully!\")\n"
   ]
  },
  {
   "cell_type": "code",
   "execution_count": 2,
   "metadata": {},
   "outputs": [
    {
     "name": "stdout",
     "output_type": "stream",
     "text": [
      "Data loaded successfully!\n",
      "Manchester City: 31 players, 57 matches\n",
      "Real Madrid: 24 players, 46 matches\n"
     ]
    }
   ],
   "source": [
    "# Load Manchester City data\n",
    "mc_path = \"../data/fbref_scraped/final_exports/\"\n",
    "mc_matches = pd.read_csv(f\"{mc_path}manchester_city_match_results_2023_24.csv\")\n",
    "mc_performances = pd.read_csv(f\"{mc_path}manchester_city_player_match_performances_2023_24.csv\")\n",
    "mc_season_stats = pd.read_csv(f\"{mc_path}manchester_city_player_season_aggregates_2023_24.csv\")\n",
    "mc_competition = pd.read_csv(f\"{mc_path}manchester_city_competition_summary_2023_24.csv\")\n",
    "\n",
    "# Load Real Madrid data\n",
    "rm_path = \"../data/real_madrid_scraped/final_exports/\"\n",
    "rm_matches = pd.read_csv(f\"{rm_path}real_madrid_match_results_2023_24.csv\")\n",
    "rm_performances = pd.read_csv(f\"{rm_path}real_madrid_player_match_performances_2023_24.csv\")\n",
    "rm_season_stats = pd.read_csv(f\"{rm_path}real_madrid_player_season_aggregates_2023_24.csv\")\n",
    "rm_competition = pd.read_csv(f\"{rm_path}real_madrid_competition_summary_2023_24.csv\")\n",
    "\n",
    "# Add team identifiers\n",
    "mc_season_stats['team'] = 'Manchester City'\n",
    "rm_season_stats['team'] = 'Real Madrid'\n",
    "mc_matches['team'] = 'Manchester City'\n",
    "rm_matches['team'] = 'Real Madrid'\n",
    "\n",
    "print(\"Data loaded successfully!\")\n",
    "print(f\"Manchester City: {len(mc_season_stats)} players, {len(mc_matches)} matches\")\n",
    "print(f\"Real Madrid: {len(rm_season_stats)} players, {len(rm_matches)} matches\")"
   ]
  },
  {
   "cell_type": "markdown",
   "metadata": {},
   "source": [
    "## Data Overview and Quality Check"
   ]
  },
  {
   "cell_type": "code",
   "execution_count": 3,
   "metadata": {},
   "outputs": [
    {
     "name": "stdout",
     "output_type": "stream",
     "text": [
      "MANCHESTER CITY DATA STRUCTURE\n",
      "==================================================\n",
      "Season Stats Shape: (31, 32)\n",
      "Match Results Shape: (57, 33)\n",
      "Player Performances Shape: (784, 37)\n",
      "\n",
      "REAL MADRID DATA STRUCTURE\n",
      "==================================================\n",
      "Season Stats Shape: (24, 32)\n",
      "Match Results Shape: (46, 33)\n",
      "Player Performances Shape: (672, 37)\n",
      "\n",
      "MISSING VALUES CHECK\n",
      "==================================================\n",
      "Manchester City Season Stats:\n",
      "0 total missing values\n",
      "\n",
      "Real Madrid Season Stats:\n",
      "0 total missing values\n"
     ]
    }
   ],
   "source": [
    "# Data structure overview\n",
    "print(\"MANCHESTER CITY DATA STRUCTURE\")\n",
    "print(\"=\" * 50)\n",
    "print(f\"Season Stats Shape: {mc_season_stats.shape}\")\n",
    "print(f\"Match Results Shape: {mc_matches.shape}\")\n",
    "print(f\"Player Performances Shape: {mc_performances.shape}\")\n",
    "\n",
    "print(\"\\nREAL MADRID DATA STRUCTURE\")\n",
    "print(\"=\" * 50)\n",
    "print(f\"Season Stats Shape: {rm_season_stats.shape}\")\n",
    "print(f\"Match Results Shape: {rm_matches.shape}\")\n",
    "print(f\"Player Performances Shape: {rm_performances.shape}\")\n",
    "\n",
    "# Check for missing values\n",
    "print(\"\\nMISSING VALUES CHECK\")\n",
    "print(\"=\" * 50)\n",
    "print(\"Manchester City Season Stats:\")\n",
    "print(mc_season_stats.isnull().sum().sum(), \"total missing values\")\n",
    "print(\"\\nReal Madrid Season Stats:\")\n",
    "print(rm_season_stats.isnull().sum().sum(), \"total missing values\")"
   ]
  },
  {
   "cell_type": "code",
   "execution_count": 4,
   "metadata": {},
   "outputs": [
    {
     "name": "stdout",
     "output_type": "stream",
     "text": [
      "SAMPLE PLAYER DATA\n",
      "==================================================\n",
      "\n",
      "Manchester City Top 5 Players (by minutes):\n"
     ]
    },
    {
     "data": {
      "text/html": [
       "<div>\n",
       "<style scoped>\n",
       "    .dataframe tbody tr th:only-of-type {\n",
       "        vertical-align: middle;\n",
       "    }\n",
       "\n",
       "    .dataframe tbody tr th {\n",
       "        vertical-align: top;\n",
       "    }\n",
       "\n",
       "    .dataframe thead th {\n",
       "        text-align: right;\n",
       "    }\n",
       "</style>\n",
       "<table border=\"1\" class=\"dataframe\">\n",
       "  <thead>\n",
       "    <tr style=\"text-align: right;\">\n",
       "      <th></th>\n",
       "      <th>player_name</th>\n",
       "      <th>position</th>\n",
       "      <th>goals</th>\n",
       "      <th>assists</th>\n",
       "      <th>avg_rating</th>\n",
       "      <th>total_minutes</th>\n",
       "    </tr>\n",
       "  </thead>\n",
       "  <tbody>\n",
       "    <tr>\n",
       "      <th>5</th>\n",
       "      <td>İlkay Gündoğan</td>\n",
       "      <td>MF</td>\n",
       "      <td>5</td>\n",
       "      <td>7</td>\n",
       "      <td>7.5</td>\n",
       "      <td>3276</td>\n",
       "    </tr>\n",
       "    <tr>\n",
       "      <th>1</th>\n",
       "      <td>Rodri</td>\n",
       "      <td>MF</td>\n",
       "      <td>9</td>\n",
       "      <td>11</td>\n",
       "      <td>7.6</td>\n",
       "      <td>3234</td>\n",
       "    </tr>\n",
       "    <tr>\n",
       "      <th>19</th>\n",
       "      <td>Ederson</td>\n",
       "      <td>GK</td>\n",
       "      <td>0</td>\n",
       "      <td>1</td>\n",
       "      <td>7.5</td>\n",
       "      <td>3011</td>\n",
       "    </tr>\n",
       "    <tr>\n",
       "      <th>0</th>\n",
       "      <td>Erling Haaland</td>\n",
       "      <td>FW</td>\n",
       "      <td>12</td>\n",
       "      <td>5</td>\n",
       "      <td>7.6</td>\n",
       "      <td>2990</td>\n",
       "    </tr>\n",
       "    <tr>\n",
       "      <th>6</th>\n",
       "      <td>Mateo Kovačić</td>\n",
       "      <td>MF</td>\n",
       "      <td>5</td>\n",
       "      <td>4</td>\n",
       "      <td>7.5</td>\n",
       "      <td>2979</td>\n",
       "    </tr>\n",
       "  </tbody>\n",
       "</table>\n",
       "</div>"
      ],
      "text/plain": [
       "       player_name position  goals  assists  avg_rating  total_minutes\n",
       "5   İlkay Gündoğan       MF      5        7         7.5           3276\n",
       "1            Rodri       MF      9       11         7.6           3234\n",
       "19         Ederson       GK      0        1         7.5           3011\n",
       "0   Erling Haaland       FW     12        5         7.6           2990\n",
       "6    Mateo Kovačić       MF      5        4         7.5           2979"
      ]
     },
     "metadata": {},
     "output_type": "display_data"
    },
    {
     "name": "stdout",
     "output_type": "stream",
     "text": [
      "\n",
      "Real Madrid Top 5 Players (by minutes):\n"
     ]
    },
    {
     "data": {
      "text/html": [
       "<div>\n",
       "<style scoped>\n",
       "    .dataframe tbody tr th:only-of-type {\n",
       "        vertical-align: middle;\n",
       "    }\n",
       "\n",
       "    .dataframe tbody tr th {\n",
       "        vertical-align: top;\n",
       "    }\n",
       "\n",
       "    .dataframe thead th {\n",
       "        text-align: right;\n",
       "    }\n",
       "</style>\n",
       "<table border=\"1\" class=\"dataframe\">\n",
       "  <thead>\n",
       "    <tr style=\"text-align: right;\">\n",
       "      <th></th>\n",
       "      <th>player_name</th>\n",
       "      <th>position</th>\n",
       "      <th>goals</th>\n",
       "      <th>assists</th>\n",
       "      <th>avg_rating</th>\n",
       "      <th>total_minutes</th>\n",
       "    </tr>\n",
       "  </thead>\n",
       "  <tbody>\n",
       "    <tr>\n",
       "      <th>0</th>\n",
       "      <td>Andriy Lunin</td>\n",
       "      <td>GK</td>\n",
       "      <td>0</td>\n",
       "      <td>0</td>\n",
       "      <td>7.1</td>\n",
       "      <td>2465</td>\n",
       "    </tr>\n",
       "    <tr>\n",
       "      <th>1</th>\n",
       "      <td>Dani Carvajal</td>\n",
       "      <td>DF</td>\n",
       "      <td>0</td>\n",
       "      <td>2</td>\n",
       "      <td>6.9</td>\n",
       "      <td>2163</td>\n",
       "    </tr>\n",
       "    <tr>\n",
       "      <th>2</th>\n",
       "      <td>David Alaba</td>\n",
       "      <td>DF</td>\n",
       "      <td>1</td>\n",
       "      <td>4</td>\n",
       "      <td>7.0</td>\n",
       "      <td>2122</td>\n",
       "    </tr>\n",
       "    <tr>\n",
       "      <th>3</th>\n",
       "      <td>Ferland Mendy</td>\n",
       "      <td>DF</td>\n",
       "      <td>1</td>\n",
       "      <td>4</td>\n",
       "      <td>7.1</td>\n",
       "      <td>2058</td>\n",
       "    </tr>\n",
       "    <tr>\n",
       "      <th>4</th>\n",
       "      <td>Éder Militão</td>\n",
       "      <td>DF</td>\n",
       "      <td>4</td>\n",
       "      <td>2</td>\n",
       "      <td>7.0</td>\n",
       "      <td>2053</td>\n",
       "    </tr>\n",
       "  </tbody>\n",
       "</table>\n",
       "</div>"
      ],
      "text/plain": [
       "     player_name position  goals  assists  avg_rating  total_minutes\n",
       "0   Andriy Lunin       GK      0        0         7.1           2465\n",
       "1  Dani Carvajal       DF      0        2         6.9           2163\n",
       "2    David Alaba       DF      1        4         7.0           2122\n",
       "3  Ferland Mendy       DF      1        4         7.1           2058\n",
       "4   Éder Militão       DF      4        2         7.0           2053"
      ]
     },
     "metadata": {},
     "output_type": "display_data"
    }
   ],
   "source": [
    "# Display sample data\n",
    "print(\"SAMPLE PLAYER DATA\")\n",
    "print(\"=\" * 50)\n",
    "print(\"\\nManchester City Top 5 Players (by minutes):\")\n",
    "display(mc_season_stats.nlargest(5, 'total_minutes')[['player_name', 'position', 'goals', 'assists', 'avg_rating', 'total_minutes']])\n",
    "\n",
    "print(\"\\nReal Madrid Top 5 Players (by minutes):\")\n",
    "display(rm_season_stats.nlargest(5, 'total_minutes')[['player_name', 'position', 'goals', 'assists', 'avg_rating', 'total_minutes']])"
   ]
  },
  {
   "cell_type": "markdown",
   "metadata": {},
   "source": [
    "## Team Performance Comparison"
   ]
  },
  {
   "cell_type": "code",
   "execution_count": 5,
   "metadata": {},
   "outputs": [
    {
     "name": "stdout",
     "output_type": "stream",
     "text": [
      " TEAM PERFORMANCE COMPARISON\n",
      "============================================================\n"
     ]
    },
    {
     "data": {
      "text/html": [
       "<div>\n",
       "<style scoped>\n",
       "    .dataframe tbody tr th:only-of-type {\n",
       "        vertical-align: middle;\n",
       "    }\n",
       "\n",
       "    .dataframe tbody tr th {\n",
       "        vertical-align: top;\n",
       "    }\n",
       "\n",
       "    .dataframe thead th {\n",
       "        text-align: right;\n",
       "    }\n",
       "</style>\n",
       "<table border=\"1\" class=\"dataframe\">\n",
       "  <thead>\n",
       "    <tr style=\"text-align: right;\">\n",
       "      <th></th>\n",
       "      <th>total_goals</th>\n",
       "      <th>total_assists</th>\n",
       "      <th>avg_rating</th>\n",
       "      <th>total_matches</th>\n",
       "      <th>wins</th>\n",
       "      <th>draws</th>\n",
       "      <th>losses</th>\n",
       "      <th>win_rate</th>\n",
       "      <th>goals_for</th>\n",
       "      <th>goals_against</th>\n",
       "      <th>goal_difference</th>\n",
       "      <th>avg_goals_per_match</th>\n",
       "      <th>avg_goals_conceded</th>\n",
       "    </tr>\n",
       "    <tr>\n",
       "      <th>team</th>\n",
       "      <th></th>\n",
       "      <th></th>\n",
       "      <th></th>\n",
       "      <th></th>\n",
       "      <th></th>\n",
       "      <th></th>\n",
       "      <th></th>\n",
       "      <th></th>\n",
       "      <th></th>\n",
       "      <th></th>\n",
       "      <th></th>\n",
       "      <th></th>\n",
       "      <th></th>\n",
       "    </tr>\n",
       "  </thead>\n",
       "  <tbody>\n",
       "    <tr>\n",
       "      <th>Manchester City</th>\n",
       "      <td>79</td>\n",
       "      <td>83</td>\n",
       "      <td>7.57</td>\n",
       "      <td>57</td>\n",
       "      <td>37</td>\n",
       "      <td>10</td>\n",
       "      <td>10</td>\n",
       "      <td>64.9</td>\n",
       "      <td>103</td>\n",
       "      <td>51</td>\n",
       "      <td>52</td>\n",
       "      <td>1.81</td>\n",
       "      <td>0.89</td>\n",
       "    </tr>\n",
       "    <tr>\n",
       "      <th>Real Madrid</th>\n",
       "      <td>63</td>\n",
       "      <td>71</td>\n",
       "      <td>7.38</td>\n",
       "      <td>46</td>\n",
       "      <td>28</td>\n",
       "      <td>8</td>\n",
       "      <td>10</td>\n",
       "      <td>60.9</td>\n",
       "      <td>90</td>\n",
       "      <td>55</td>\n",
       "      <td>35</td>\n",
       "      <td>1.96</td>\n",
       "      <td>1.20</td>\n",
       "    </tr>\n",
       "  </tbody>\n",
       "</table>\n",
       "</div>"
      ],
      "text/plain": [
       "                 total_goals  total_assists  avg_rating  total_matches  wins  \\\n",
       "team                                                                           \n",
       "Manchester City           79             83        7.57             57    37   \n",
       "Real Madrid               63             71        7.38             46    28   \n",
       "\n",
       "                 draws  losses  win_rate  goals_for  goals_against  \\\n",
       "team                                                                 \n",
       "Manchester City     10      10      64.9        103             51   \n",
       "Real Madrid          8      10      60.9         90             55   \n",
       "\n",
       "                 goal_difference  avg_goals_per_match  avg_goals_conceded  \n",
       "team                                                                       \n",
       "Manchester City               52                 1.81                0.89  \n",
       "Real Madrid                   35                 1.96                1.20  "
      ]
     },
     "metadata": {},
     "output_type": "display_data"
    }
   ],
   "source": [
    "# Calculate team-level statistics\n",
    "def calculate_team_stats(season_stats, matches, team_name):\n",
    "    \"\"\"Calculate comprehensive team statistics.\"\"\"\n",
    "    \n",
    "    # Basic team stats\n",
    "    total_goals = season_stats['goals'].sum()\n",
    "    total_assists = season_stats['assists'].sum()\n",
    "    avg_rating = season_stats['avg_rating'].mean()\n",
    "    total_minutes = season_stats['total_minutes'].sum()\n",
    "    \n",
    "    # Match statistics\n",
    "    total_matches = len(matches)\n",
    "    wins = len(matches[matches['result'] == 'Win'])\n",
    "    draws = len(matches[matches['result'] == 'Draw'])\n",
    "    losses = len(matches[matches['result'] == 'Loss'])\n",
    "    win_rate = (wins / total_matches) * 100 if total_matches > 0 else 0\n",
    "    \n",
    "    # Goals scored and conceded\n",
    "    goals_for = matches['manchester_city_score'].sum()  # Both teams use this column name\n",
    "    goals_against = matches['opponent_score'].sum()\n",
    "    goal_difference = goals_for - goals_against\n",
    "    \n",
    "    return {\n",
    "        'team': team_name,\n",
    "        'total_goals': total_goals,\n",
    "        'total_assists': total_assists,\n",
    "        'avg_rating': round(avg_rating, 2),\n",
    "        'total_matches': total_matches,\n",
    "        'wins': wins,\n",
    "        'draws': draws,\n",
    "        'losses': losses,\n",
    "        'win_rate': round(win_rate, 1),\n",
    "        'goals_for': goals_for,\n",
    "        'goals_against': goals_against,\n",
    "        'goal_difference': goal_difference,\n",
    "        'avg_goals_per_match': round(goals_for / total_matches, 2),\n",
    "        'avg_goals_conceded': round(goals_against / total_matches, 2)\n",
    "    }\n",
    "\n",
    "# Calculate stats for both teams\n",
    "mc_stats = calculate_team_stats(mc_season_stats, mc_matches, 'Manchester City')\n",
    "rm_stats = calculate_team_stats(rm_season_stats, rm_matches, 'Real Madrid')\n",
    "\n",
    "# Create comparison dataframe\n",
    "team_comparison = pd.DataFrame([mc_stats, rm_stats])\n",
    "team_comparison = team_comparison.set_index('team')\n",
    "\n",
    "print(\" TEAM PERFORMANCE COMPARISON\")\n",
    "print(\"=\" * 60)\n",
    "display(team_comparison)"
   ]
  },
  {
   "cell_type": "code",
   "execution_count": 18,
   "metadata": {},
   "outputs": [
    {
     "data": {
      "application/vnd.plotly.v1+json": {
       "config": {
        "plotlyServerURL": "https://plot.ly"
       },
       "data": [
        {
         "marker": {
          "color": [
           "#6CABDD",
           "#FEBE10"
          ]
         },
         "name": "Win Rate %",
         "type": "bar",
         "x": [
          "Manchester City",
          "Real Madrid"
         ],
         "xaxis": "x",
         "y": [
          64.9,
          60.9
         ],
         "yaxis": "y"
        },
        {
         "marker": {
          "color": [
           "#6CABDD",
           "#FEBE10"
          ],
          "size": 15
         },
         "mode": "markers+text",
         "text": [
          "Manchester City",
          "Real Madrid"
         ],
         "textposition": "top center",
         "type": "scatter",
         "x": [
          103,
          90
         ],
         "xaxis": "x2",
         "y": [
          51,
          55
         ],
         "yaxis": "y2"
        },
        {
         "marker": {
          "color": [
           "#6CABDD",
           "#FEBE10"
          ]
         },
         "name": "Avg Rating",
         "type": "bar",
         "x": [
          "Manchester City",
          "Real Madrid"
         ],
         "xaxis": "x3",
         "y": [
          7.57,
          7.38
         ],
         "yaxis": "y3"
        },
        {
         "domain": {
          "x": [
           0,
           0.2888888888888889
          ],
          "y": [
           0,
           0.375
          ]
         },
         "labels": [
          "Wins",
          "Draws",
          "Losses"
         ],
         "name": "Manchester City",
         "title": {
          "text": "Manchester City"
         },
         "type": "pie",
         "values": [
          37,
          10,
          10
         ]
        },
        {
         "marker": {
          "color": [
           "#6CABDD",
           "#FEBE10"
          ]
         },
         "name": "Goal Difference",
         "type": "bar",
         "x": [
          "Manchester City",
          "Real Madrid"
         ],
         "xaxis": "x4",
         "y": [
          52,
          35
         ],
         "yaxis": "y4"
        },
        {
         "marker": {
          "color": [
           "#6CABDD",
           "#FEBE10"
          ]
         },
         "name": "Goals/Match",
         "type": "bar",
         "x": [
          "Manchester City",
          "Real Madrid"
         ],
         "xaxis": "x5",
         "y": [
          1.81,
          1.96
         ],
         "yaxis": "y5"
        }
       ],
       "layout": {
        "annotations": [
         {
          "font": {
           "size": 16
          },
          "showarrow": false,
          "text": "Win Rate Comparison",
          "x": 0.14444444444444446,
          "xanchor": "center",
          "xref": "paper",
          "y": 1,
          "yanchor": "bottom",
          "yref": "paper"
         },
         {
          "font": {
           "size": 16
          },
          "showarrow": false,
          "text": "Goals Scored vs Conceded",
          "x": 0.5,
          "xanchor": "center",
          "xref": "paper",
          "y": 1,
          "yanchor": "bottom",
          "yref": "paper"
         },
         {
          "font": {
           "size": 16
          },
          "showarrow": false,
          "text": "Average Team Rating",
          "x": 0.8555555555555556,
          "xanchor": "center",
          "xref": "paper",
          "y": 1,
          "yanchor": "bottom",
          "yref": "paper"
         },
         {
          "font": {
           "size": 16
          },
          "showarrow": false,
          "text": "Match Results Distribution",
          "x": 0.14444444444444446,
          "xanchor": "center",
          "xref": "paper",
          "y": 0.375,
          "yanchor": "bottom",
          "yref": "paper"
         },
         {
          "font": {
           "size": 16
          },
          "showarrow": false,
          "text": "Goal Difference",
          "x": 0.5,
          "xanchor": "center",
          "xref": "paper",
          "y": 0.375,
          "yanchor": "bottom",
          "yref": "paper"
         },
         {
          "font": {
           "size": 16
          },
          "showarrow": false,
          "text": "Goals per Match",
          "x": 0.8555555555555556,
          "xanchor": "center",
          "xref": "paper",
          "y": 0.375,
          "yanchor": "bottom",
          "yref": "paper"
         }
        ],
        "height": 800,
        "showlegend": false,
        "template": {
         "data": {
          "bar": [
           {
            "error_x": {
             "color": "#2a3f5f"
            },
            "error_y": {
             "color": "#2a3f5f"
            },
            "marker": {
             "line": {
              "color": "#E5ECF6",
              "width": 0.5
             },
             "pattern": {
              "fillmode": "overlay",
              "size": 10,
              "solidity": 0.2
             }
            },
            "type": "bar"
           }
          ],
          "barpolar": [
           {
            "marker": {
             "line": {
              "color": "#E5ECF6",
              "width": 0.5
             },
             "pattern": {
              "fillmode": "overlay",
              "size": 10,
              "solidity": 0.2
             }
            },
            "type": "barpolar"
           }
          ],
          "carpet": [
           {
            "aaxis": {
             "endlinecolor": "#2a3f5f",
             "gridcolor": "white",
             "linecolor": "white",
             "minorgridcolor": "white",
             "startlinecolor": "#2a3f5f"
            },
            "baxis": {
             "endlinecolor": "#2a3f5f",
             "gridcolor": "white",
             "linecolor": "white",
             "minorgridcolor": "white",
             "startlinecolor": "#2a3f5f"
            },
            "type": "carpet"
           }
          ],
          "choropleth": [
           {
            "colorbar": {
             "outlinewidth": 0,
             "ticks": ""
            },
            "type": "choropleth"
           }
          ],
          "contour": [
           {
            "colorbar": {
             "outlinewidth": 0,
             "ticks": ""
            },
            "colorscale": [
             [
              0,
              "#0d0887"
             ],
             [
              0.1111111111111111,
              "#46039f"
             ],
             [
              0.2222222222222222,
              "#7201a8"
             ],
             [
              0.3333333333333333,
              "#9c179e"
             ],
             [
              0.4444444444444444,
              "#bd3786"
             ],
             [
              0.5555555555555556,
              "#d8576b"
             ],
             [
              0.6666666666666666,
              "#ed7953"
             ],
             [
              0.7777777777777778,
              "#fb9f3a"
             ],
             [
              0.8888888888888888,
              "#fdca26"
             ],
             [
              1,
              "#f0f921"
             ]
            ],
            "type": "contour"
           }
          ],
          "contourcarpet": [
           {
            "colorbar": {
             "outlinewidth": 0,
             "ticks": ""
            },
            "type": "contourcarpet"
           }
          ],
          "heatmap": [
           {
            "colorbar": {
             "outlinewidth": 0,
             "ticks": ""
            },
            "colorscale": [
             [
              0,
              "#0d0887"
             ],
             [
              0.1111111111111111,
              "#46039f"
             ],
             [
              0.2222222222222222,
              "#7201a8"
             ],
             [
              0.3333333333333333,
              "#9c179e"
             ],
             [
              0.4444444444444444,
              "#bd3786"
             ],
             [
              0.5555555555555556,
              "#d8576b"
             ],
             [
              0.6666666666666666,
              "#ed7953"
             ],
             [
              0.7777777777777778,
              "#fb9f3a"
             ],
             [
              0.8888888888888888,
              "#fdca26"
             ],
             [
              1,
              "#f0f921"
             ]
            ],
            "type": "heatmap"
           }
          ],
          "heatmapgl": [
           {
            "colorbar": {
             "outlinewidth": 0,
             "ticks": ""
            },
            "colorscale": [
             [
              0,
              "#0d0887"
             ],
             [
              0.1111111111111111,
              "#46039f"
             ],
             [
              0.2222222222222222,
              "#7201a8"
             ],
             [
              0.3333333333333333,
              "#9c179e"
             ],
             [
              0.4444444444444444,
              "#bd3786"
             ],
             [
              0.5555555555555556,
              "#d8576b"
             ],
             [
              0.6666666666666666,
              "#ed7953"
             ],
             [
              0.7777777777777778,
              "#fb9f3a"
             ],
             [
              0.8888888888888888,
              "#fdca26"
             ],
             [
              1,
              "#f0f921"
             ]
            ],
            "type": "heatmapgl"
           }
          ],
          "histogram": [
           {
            "marker": {
             "pattern": {
              "fillmode": "overlay",
              "size": 10,
              "solidity": 0.2
             }
            },
            "type": "histogram"
           }
          ],
          "histogram2d": [
           {
            "colorbar": {
             "outlinewidth": 0,
             "ticks": ""
            },
            "colorscale": [
             [
              0,
              "#0d0887"
             ],
             [
              0.1111111111111111,
              "#46039f"
             ],
             [
              0.2222222222222222,
              "#7201a8"
             ],
             [
              0.3333333333333333,
              "#9c179e"
             ],
             [
              0.4444444444444444,
              "#bd3786"
             ],
             [
              0.5555555555555556,
              "#d8576b"
             ],
             [
              0.6666666666666666,
              "#ed7953"
             ],
             [
              0.7777777777777778,
              "#fb9f3a"
             ],
             [
              0.8888888888888888,
              "#fdca26"
             ],
             [
              1,
              "#f0f921"
             ]
            ],
            "type": "histogram2d"
           }
          ],
          "histogram2dcontour": [
           {
            "colorbar": {
             "outlinewidth": 0,
             "ticks": ""
            },
            "colorscale": [
             [
              0,
              "#0d0887"
             ],
             [
              0.1111111111111111,
              "#46039f"
             ],
             [
              0.2222222222222222,
              "#7201a8"
             ],
             [
              0.3333333333333333,
              "#9c179e"
             ],
             [
              0.4444444444444444,
              "#bd3786"
             ],
             [
              0.5555555555555556,
              "#d8576b"
             ],
             [
              0.6666666666666666,
              "#ed7953"
             ],
             [
              0.7777777777777778,
              "#fb9f3a"
             ],
             [
              0.8888888888888888,
              "#fdca26"
             ],
             [
              1,
              "#f0f921"
             ]
            ],
            "type": "histogram2dcontour"
           }
          ],
          "mesh3d": [
           {
            "colorbar": {
             "outlinewidth": 0,
             "ticks": ""
            },
            "type": "mesh3d"
           }
          ],
          "parcoords": [
           {
            "line": {
             "colorbar": {
              "outlinewidth": 0,
              "ticks": ""
             }
            },
            "type": "parcoords"
           }
          ],
          "pie": [
           {
            "automargin": true,
            "type": "pie"
           }
          ],
          "scatter": [
           {
            "fillpattern": {
             "fillmode": "overlay",
             "size": 10,
             "solidity": 0.2
            },
            "type": "scatter"
           }
          ],
          "scatter3d": [
           {
            "line": {
             "colorbar": {
              "outlinewidth": 0,
              "ticks": ""
             }
            },
            "marker": {
             "colorbar": {
              "outlinewidth": 0,
              "ticks": ""
             }
            },
            "type": "scatter3d"
           }
          ],
          "scattercarpet": [
           {
            "marker": {
             "colorbar": {
              "outlinewidth": 0,
              "ticks": ""
             }
            },
            "type": "scattercarpet"
           }
          ],
          "scattergeo": [
           {
            "marker": {
             "colorbar": {
              "outlinewidth": 0,
              "ticks": ""
             }
            },
            "type": "scattergeo"
           }
          ],
          "scattergl": [
           {
            "marker": {
             "colorbar": {
              "outlinewidth": 0,
              "ticks": ""
             }
            },
            "type": "scattergl"
           }
          ],
          "scattermapbox": [
           {
            "marker": {
             "colorbar": {
              "outlinewidth": 0,
              "ticks": ""
             }
            },
            "type": "scattermapbox"
           }
          ],
          "scatterpolar": [
           {
            "marker": {
             "colorbar": {
              "outlinewidth": 0,
              "ticks": ""
             }
            },
            "type": "scatterpolar"
           }
          ],
          "scatterpolargl": [
           {
            "marker": {
             "colorbar": {
              "outlinewidth": 0,
              "ticks": ""
             }
            },
            "type": "scatterpolargl"
           }
          ],
          "scatterternary": [
           {
            "marker": {
             "colorbar": {
              "outlinewidth": 0,
              "ticks": ""
             }
            },
            "type": "scatterternary"
           }
          ],
          "surface": [
           {
            "colorbar": {
             "outlinewidth": 0,
             "ticks": ""
            },
            "colorscale": [
             [
              0,
              "#0d0887"
             ],
             [
              0.1111111111111111,
              "#46039f"
             ],
             [
              0.2222222222222222,
              "#7201a8"
             ],
             [
              0.3333333333333333,
              "#9c179e"
             ],
             [
              0.4444444444444444,
              "#bd3786"
             ],
             [
              0.5555555555555556,
              "#d8576b"
             ],
             [
              0.6666666666666666,
              "#ed7953"
             ],
             [
              0.7777777777777778,
              "#fb9f3a"
             ],
             [
              0.8888888888888888,
              "#fdca26"
             ],
             [
              1,
              "#f0f921"
             ]
            ],
            "type": "surface"
           }
          ],
          "table": [
           {
            "cells": {
             "fill": {
              "color": "#EBF0F8"
             },
             "line": {
              "color": "white"
             }
            },
            "header": {
             "fill": {
              "color": "#C8D4E3"
             },
             "line": {
              "color": "white"
             }
            },
            "type": "table"
           }
          ]
         },
         "layout": {
          "annotationdefaults": {
           "arrowcolor": "#2a3f5f",
           "arrowhead": 0,
           "arrowwidth": 1
          },
          "autotypenumbers": "strict",
          "coloraxis": {
           "colorbar": {
            "outlinewidth": 0,
            "ticks": ""
           }
          },
          "colorscale": {
           "diverging": [
            [
             0,
             "#8e0152"
            ],
            [
             0.1,
             "#c51b7d"
            ],
            [
             0.2,
             "#de77ae"
            ],
            [
             0.3,
             "#f1b6da"
            ],
            [
             0.4,
             "#fde0ef"
            ],
            [
             0.5,
             "#f7f7f7"
            ],
            [
             0.6,
             "#e6f5d0"
            ],
            [
             0.7,
             "#b8e186"
            ],
            [
             0.8,
             "#7fbc41"
            ],
            [
             0.9,
             "#4d9221"
            ],
            [
             1,
             "#276419"
            ]
           ],
           "sequential": [
            [
             0,
             "#0d0887"
            ],
            [
             0.1111111111111111,
             "#46039f"
            ],
            [
             0.2222222222222222,
             "#7201a8"
            ],
            [
             0.3333333333333333,
             "#9c179e"
            ],
            [
             0.4444444444444444,
             "#bd3786"
            ],
            [
             0.5555555555555556,
             "#d8576b"
            ],
            [
             0.6666666666666666,
             "#ed7953"
            ],
            [
             0.7777777777777778,
             "#fb9f3a"
            ],
            [
             0.8888888888888888,
             "#fdca26"
            ],
            [
             1,
             "#f0f921"
            ]
           ],
           "sequentialminus": [
            [
             0,
             "#0d0887"
            ],
            [
             0.1111111111111111,
             "#46039f"
            ],
            [
             0.2222222222222222,
             "#7201a8"
            ],
            [
             0.3333333333333333,
             "#9c179e"
            ],
            [
             0.4444444444444444,
             "#bd3786"
            ],
            [
             0.5555555555555556,
             "#d8576b"
            ],
            [
             0.6666666666666666,
             "#ed7953"
            ],
            [
             0.7777777777777778,
             "#fb9f3a"
            ],
            [
             0.8888888888888888,
             "#fdca26"
            ],
            [
             1,
             "#f0f921"
            ]
           ]
          },
          "colorway": [
           "#636efa",
           "#EF553B",
           "#00cc96",
           "#ab63fa",
           "#FFA15A",
           "#19d3f3",
           "#FF6692",
           "#B6E880",
           "#FF97FF",
           "#FECB52"
          ],
          "font": {
           "color": "#2a3f5f"
          },
          "geo": {
           "bgcolor": "white",
           "lakecolor": "white",
           "landcolor": "#E5ECF6",
           "showlakes": true,
           "showland": true,
           "subunitcolor": "white"
          },
          "hoverlabel": {
           "align": "left"
          },
          "hovermode": "closest",
          "mapbox": {
           "style": "light"
          },
          "paper_bgcolor": "white",
          "plot_bgcolor": "#E5ECF6",
          "polar": {
           "angularaxis": {
            "gridcolor": "white",
            "linecolor": "white",
            "ticks": ""
           },
           "bgcolor": "#E5ECF6",
           "radialaxis": {
            "gridcolor": "white",
            "linecolor": "white",
            "ticks": ""
           }
          },
          "scene": {
           "xaxis": {
            "backgroundcolor": "#E5ECF6",
            "gridcolor": "white",
            "gridwidth": 2,
            "linecolor": "white",
            "showbackground": true,
            "ticks": "",
            "zerolinecolor": "white"
           },
           "yaxis": {
            "backgroundcolor": "#E5ECF6",
            "gridcolor": "white",
            "gridwidth": 2,
            "linecolor": "white",
            "showbackground": true,
            "ticks": "",
            "zerolinecolor": "white"
           },
           "zaxis": {
            "backgroundcolor": "#E5ECF6",
            "gridcolor": "white",
            "gridwidth": 2,
            "linecolor": "white",
            "showbackground": true,
            "ticks": "",
            "zerolinecolor": "white"
           }
          },
          "shapedefaults": {
           "line": {
            "color": "#2a3f5f"
           }
          },
          "ternary": {
           "aaxis": {
            "gridcolor": "white",
            "linecolor": "white",
            "ticks": ""
           },
           "baxis": {
            "gridcolor": "white",
            "linecolor": "white",
            "ticks": ""
           },
           "bgcolor": "#E5ECF6",
           "caxis": {
            "gridcolor": "white",
            "linecolor": "white",
            "ticks": ""
           }
          },
          "title": {
           "x": 0.05
          },
          "xaxis": {
           "automargin": true,
           "gridcolor": "white",
           "linecolor": "white",
           "ticks": "",
           "title": {
            "standoff": 15
           },
           "zerolinecolor": "white",
           "zerolinewidth": 2
          },
          "yaxis": {
           "automargin": true,
           "gridcolor": "white",
           "linecolor": "white",
           "ticks": "",
           "title": {
            "standoff": 15
           },
           "zerolinecolor": "white",
           "zerolinewidth": 2
          }
         }
        },
        "title": {
         "text": "Manchester City vs Real Madrid - Team Performance Analysis"
        },
        "xaxis": {
         "anchor": "y",
         "domain": [
          0,
          0.2888888888888889
         ]
        },
        "xaxis2": {
         "anchor": "y2",
         "domain": [
          0.35555555555555557,
          0.6444444444444445
         ]
        },
        "xaxis3": {
         "anchor": "y3",
         "domain": [
          0.7111111111111111,
          1
         ]
        },
        "xaxis4": {
         "anchor": "y4",
         "domain": [
          0.35555555555555557,
          0.6444444444444445
         ]
        },
        "xaxis5": {
         "anchor": "y5",
         "domain": [
          0.7111111111111111,
          1
         ]
        },
        "yaxis": {
         "anchor": "x",
         "domain": [
          0.625,
          1
         ]
        },
        "yaxis2": {
         "anchor": "x2",
         "domain": [
          0.625,
          1
         ]
        },
        "yaxis3": {
         "anchor": "x3",
         "domain": [
          0.625,
          1
         ]
        },
        "yaxis4": {
         "anchor": "x4",
         "domain": [
          0,
          0.375
         ]
        },
        "yaxis5": {
         "anchor": "x5",
         "domain": [
          0,
          0.375
         ]
        }
       }
      }
     },
     "metadata": {},
     "output_type": "display_data"
    }
   ],
   "source": [
    "# Create comprehensive team comparison visualization\n",
    "fig = make_subplots(\n",
    "    rows=2, cols=3,\n",
    "    subplot_titles=('Win Rate Comparison', 'Goals Scored vs Conceded', 'Average Team Rating',\n",
    "                   'Match Results Distribution', 'Goal Difference', 'Goals per Match'),\n",
    "    specs=[[{\"type\": \"bar\"}, {\"type\": \"scatter\"}, {\"type\": \"bar\"}],\n",
    "           [{\"type\": \"pie\"}, {\"type\": \"bar\"}, {\"type\": \"bar\"}]]\n",
    ")\n",
    "\n",
    "# Win Rate Comparison\n",
    "fig.add_trace(\n",
    "    go.Bar(x=team_comparison.index, y=team_comparison['win_rate'], \n",
    "           name='Win Rate %', marker_color=['#6CABDD', '#FEBE10']),\n",
    "    row=1, col=1\n",
    ")\n",
    "\n",
    "# Goals Scored vs Conceded\n",
    "fig.add_trace(\n",
    "    go.Scatter(x=team_comparison['goals_for'], y=team_comparison['goals_against'],\n",
    "               mode='markers+text', text=team_comparison.index,\n",
    "               textposition=\"top center\", marker_size=15,\n",
    "               marker_color=['#6CABDD', '#FEBE10']),\n",
    "    row=1, col=2\n",
    ")\n",
    "\n",
    "# Average Team Rating\n",
    "fig.add_trace(\n",
    "    go.Bar(x=team_comparison.index, y=team_comparison['avg_rating'],\n",
    "           name='Avg Rating', marker_color=['#6CABDD', '#FEBE10']),\n",
    "    row=1, col=3\n",
    ")\n",
    "\n",
    "# Match Results Distribution (Manchester City)\n",
    "fig.add_trace(\n",
    "    go.Pie(labels=['Wins', 'Draws', 'Losses'],\n",
    "           values=[mc_stats['wins'], mc_stats['draws'], mc_stats['losses']],\n",
    "           name=\"Manchester City\", title=\"Manchester City\"),\n",
    "    row=2, col=1\n",
    ")\n",
    "\n",
    "# Goal Difference\n",
    "fig.add_trace(\n",
    "    go.Bar(x=team_comparison.index, y=team_comparison['goal_difference'],\n",
    "           name='Goal Difference', marker_color=['#6CABDD', '#FEBE10']),\n",
    "    row=2, col=2\n",
    ")\n",
    "\n",
    "# Goals per Match\n",
    "fig.add_trace(\n",
    "    go.Bar(x=team_comparison.index, y=team_comparison['avg_goals_per_match'],\n",
    "           name='Goals/Match', marker_color=['#6CABDD', '#FEBE10']),\n",
    "    row=2, col=3\n",
    ")\n",
    "\n",
    "fig.update_layout(height=800, showlegend=False, title_text= \"Manchester City vs Real Madrid - Team Performance Analysis\")\n",
    "fig.show()"
   ]
  },
  {
   "cell_type": "markdown",
   "metadata": {},
   "source": [
    "## Player Performance Analysis"
   ]
  },
  {
   "cell_type": "code",
   "execution_count": 7,
   "metadata": {},
   "outputs": [
    {
     "name": "stdout",
     "output_type": "stream",
     "text": [
      "TOP PERFORMERS ANALYSIS\n",
      "==================================================\n",
      "\n",
      "Top 10 Goal Scorers:\n"
     ]
    },
    {
     "data": {
      "text/html": [
       "<div>\n",
       "<style scoped>\n",
       "    .dataframe tbody tr th:only-of-type {\n",
       "        vertical-align: middle;\n",
       "    }\n",
       "\n",
       "    .dataframe tbody tr th {\n",
       "        vertical-align: top;\n",
       "    }\n",
       "\n",
       "    .dataframe thead th {\n",
       "        text-align: right;\n",
       "    }\n",
       "</style>\n",
       "<table border=\"1\" class=\"dataframe\">\n",
       "  <thead>\n",
       "    <tr style=\"text-align: right;\">\n",
       "      <th></th>\n",
       "      <th>player_name</th>\n",
       "      <th>team</th>\n",
       "      <th>goals</th>\n",
       "      <th>goals_per_90</th>\n",
       "      <th>position</th>\n",
       "    </tr>\n",
       "  </thead>\n",
       "  <tbody>\n",
       "    <tr>\n",
       "      <th>0</th>\n",
       "      <td>Erling Haaland</td>\n",
       "      <td>Manchester City</td>\n",
       "      <td>12</td>\n",
       "      <td>0.36</td>\n",
       "      <td>FW</td>\n",
       "    </tr>\n",
       "    <tr>\n",
       "      <th>1</th>\n",
       "      <td>Rodri</td>\n",
       "      <td>Manchester City</td>\n",
       "      <td>9</td>\n",
       "      <td>0.25</td>\n",
       "      <td>MF</td>\n",
       "    </tr>\n",
       "    <tr>\n",
       "      <th>2</th>\n",
       "      <td>Bernardo Silva</td>\n",
       "      <td>Manchester City</td>\n",
       "      <td>8</td>\n",
       "      <td>0.25</td>\n",
       "      <td>MF,FW</td>\n",
       "    </tr>\n",
       "    <tr>\n",
       "      <th>42</th>\n",
       "      <td>Vinícius Jr.</td>\n",
       "      <td>Real Madrid</td>\n",
       "      <td>8</td>\n",
       "      <td>0.39</td>\n",
       "      <td>FW</td>\n",
       "    </tr>\n",
       "    <tr>\n",
       "      <th>44</th>\n",
       "      <td>Rodrygo</td>\n",
       "      <td>Real Madrid</td>\n",
       "      <td>8</td>\n",
       "      <td>0.40</td>\n",
       "      <td>FW</td>\n",
       "    </tr>\n",
       "    <tr>\n",
       "      <th>54</th>\n",
       "      <td>Mariano Díaz</td>\n",
       "      <td>Real Madrid</td>\n",
       "      <td>8</td>\n",
       "      <td>0.52</td>\n",
       "      <td>FW</td>\n",
       "    </tr>\n",
       "    <tr>\n",
       "      <th>3</th>\n",
       "      <td>Phil Foden</td>\n",
       "      <td>Manchester City</td>\n",
       "      <td>7</td>\n",
       "      <td>0.28</td>\n",
       "      <td>MF,FW</td>\n",
       "    </tr>\n",
       "    <tr>\n",
       "      <th>4</th>\n",
       "      <td>Joško Gvardiol</td>\n",
       "      <td>Manchester City</td>\n",
       "      <td>6</td>\n",
       "      <td>0.21</td>\n",
       "      <td>DF</td>\n",
       "    </tr>\n",
       "    <tr>\n",
       "      <th>45</th>\n",
       "      <td>Federico Valverde</td>\n",
       "      <td>Real Madrid</td>\n",
       "      <td>6</td>\n",
       "      <td>0.30</td>\n",
       "      <td>MF</td>\n",
       "    </tr>\n",
       "    <tr>\n",
       "      <th>5</th>\n",
       "      <td>İlkay Gündoğan</td>\n",
       "      <td>Manchester City</td>\n",
       "      <td>5</td>\n",
       "      <td>0.14</td>\n",
       "      <td>MF</td>\n",
       "    </tr>\n",
       "  </tbody>\n",
       "</table>\n",
       "</div>"
      ],
      "text/plain": [
       "          player_name             team  goals  goals_per_90 position\n",
       "0      Erling Haaland  Manchester City     12          0.36       FW\n",
       "1               Rodri  Manchester City      9          0.25       MF\n",
       "2      Bernardo Silva  Manchester City      8          0.25    MF,FW\n",
       "42       Vinícius Jr.      Real Madrid      8          0.39       FW\n",
       "44            Rodrygo      Real Madrid      8          0.40       FW\n",
       "54       Mariano Díaz      Real Madrid      8          0.52       FW\n",
       "3          Phil Foden  Manchester City      7          0.28    MF,FW\n",
       "4      Joško Gvardiol  Manchester City      6          0.21       DF\n",
       "45  Federico Valverde      Real Madrid      6          0.30       MF\n",
       "5      İlkay Gündoğan  Manchester City      5          0.14       MF"
      ]
     },
     "metadata": {},
     "output_type": "display_data"
    },
    {
     "name": "stdout",
     "output_type": "stream",
     "text": [
      "\n",
      "Top 10 Assist Providers:\n"
     ]
    },
    {
     "data": {
      "text/html": [
       "<div>\n",
       "<style scoped>\n",
       "    .dataframe tbody tr th:only-of-type {\n",
       "        vertical-align: middle;\n",
       "    }\n",
       "\n",
       "    .dataframe tbody tr th {\n",
       "        vertical-align: top;\n",
       "    }\n",
       "\n",
       "    .dataframe thead th {\n",
       "        text-align: right;\n",
       "    }\n",
       "</style>\n",
       "<table border=\"1\" class=\"dataframe\">\n",
       "  <thead>\n",
       "    <tr style=\"text-align: right;\">\n",
       "      <th></th>\n",
       "      <th>player_name</th>\n",
       "      <th>team</th>\n",
       "      <th>assists</th>\n",
       "      <th>assists_per_90</th>\n",
       "      <th>position</th>\n",
       "    </tr>\n",
       "  </thead>\n",
       "  <tbody>\n",
       "    <tr>\n",
       "      <th>1</th>\n",
       "      <td>Rodri</td>\n",
       "      <td>Manchester City</td>\n",
       "      <td>11</td>\n",
       "      <td>0.31</td>\n",
       "      <td>MF</td>\n",
       "    </tr>\n",
       "    <tr>\n",
       "      <th>2</th>\n",
       "      <td>Bernardo Silva</td>\n",
       "      <td>Manchester City</td>\n",
       "      <td>9</td>\n",
       "      <td>0.28</td>\n",
       "      <td>MF,FW</td>\n",
       "    </tr>\n",
       "    <tr>\n",
       "      <th>3</th>\n",
       "      <td>Phil Foden</td>\n",
       "      <td>Manchester City</td>\n",
       "      <td>8</td>\n",
       "      <td>0.32</td>\n",
       "      <td>MF,FW</td>\n",
       "    </tr>\n",
       "    <tr>\n",
       "      <th>5</th>\n",
       "      <td>İlkay Gündoğan</td>\n",
       "      <td>Manchester City</td>\n",
       "      <td>7</td>\n",
       "      <td>0.19</td>\n",
       "      <td>MF</td>\n",
       "    </tr>\n",
       "    <tr>\n",
       "      <th>8</th>\n",
       "      <td>Kevin De Bruyne</td>\n",
       "      <td>Manchester City</td>\n",
       "      <td>6</td>\n",
       "      <td>0.31</td>\n",
       "      <td>MF,FW</td>\n",
       "    </tr>\n",
       "    <tr>\n",
       "      <th>0</th>\n",
       "      <td>Erling Haaland</td>\n",
       "      <td>Manchester City</td>\n",
       "      <td>5</td>\n",
       "      <td>0.15</td>\n",
       "      <td>FW</td>\n",
       "    </tr>\n",
       "    <tr>\n",
       "      <th>36</th>\n",
       "      <td>Kepa Arrizabalaga</td>\n",
       "      <td>Real Madrid</td>\n",
       "      <td>5</td>\n",
       "      <td>0.22</td>\n",
       "      <td>GK</td>\n",
       "    </tr>\n",
       "    <tr>\n",
       "      <th>40</th>\n",
       "      <td>Karim Benzema</td>\n",
       "      <td>Real Madrid</td>\n",
       "      <td>5</td>\n",
       "      <td>0.24</td>\n",
       "      <td>FW</td>\n",
       "    </tr>\n",
       "    <tr>\n",
       "      <th>42</th>\n",
       "      <td>Vinícius Jr.</td>\n",
       "      <td>Real Madrid</td>\n",
       "      <td>5</td>\n",
       "      <td>0.24</td>\n",
       "      <td>FW</td>\n",
       "    </tr>\n",
       "    <tr>\n",
       "      <th>45</th>\n",
       "      <td>Federico Valverde</td>\n",
       "      <td>Real Madrid</td>\n",
       "      <td>5</td>\n",
       "      <td>0.25</td>\n",
       "      <td>MF</td>\n",
       "    </tr>\n",
       "  </tbody>\n",
       "</table>\n",
       "</div>"
      ],
      "text/plain": [
       "          player_name             team  assists  assists_per_90 position\n",
       "1               Rodri  Manchester City       11            0.31       MF\n",
       "2      Bernardo Silva  Manchester City        9            0.28    MF,FW\n",
       "3          Phil Foden  Manchester City        8            0.32    MF,FW\n",
       "5      İlkay Gündoğan  Manchester City        7            0.19       MF\n",
       "8     Kevin De Bruyne  Manchester City        6            0.31    MF,FW\n",
       "0      Erling Haaland  Manchester City        5            0.15       FW\n",
       "36  Kepa Arrizabalaga      Real Madrid        5            0.22       GK\n",
       "40      Karim Benzema      Real Madrid        5            0.24       FW\n",
       "42       Vinícius Jr.      Real Madrid        5            0.24       FW\n",
       "45  Federico Valverde      Real Madrid        5            0.25       MF"
      ]
     },
     "metadata": {},
     "output_type": "display_data"
    },
    {
     "name": "stdout",
     "output_type": "stream",
     "text": [
      "\n",
      "Top 10 Highest Rated Players:\n"
     ]
    },
    {
     "data": {
      "text/html": [
       "<div>\n",
       "<style scoped>\n",
       "    .dataframe tbody tr th:only-of-type {\n",
       "        vertical-align: middle;\n",
       "    }\n",
       "\n",
       "    .dataframe tbody tr th {\n",
       "        vertical-align: top;\n",
       "    }\n",
       "\n",
       "    .dataframe thead th {\n",
       "        text-align: right;\n",
       "    }\n",
       "</style>\n",
       "<table border=\"1\" class=\"dataframe\">\n",
       "  <thead>\n",
       "    <tr style=\"text-align: right;\">\n",
       "      <th></th>\n",
       "      <th>player_name</th>\n",
       "      <th>team</th>\n",
       "      <th>avg_rating</th>\n",
       "      <th>position</th>\n",
       "    </tr>\n",
       "  </thead>\n",
       "  <tbody>\n",
       "    <tr>\n",
       "      <th>22</th>\n",
       "      <td>Abdukodir Khusanov</td>\n",
       "      <td>Manchester City</td>\n",
       "      <td>8.5</td>\n",
       "      <td>DF</td>\n",
       "    </tr>\n",
       "    <tr>\n",
       "      <th>25</th>\n",
       "      <td>Jacob Wright</td>\n",
       "      <td>Manchester City</td>\n",
       "      <td>8.1</td>\n",
       "      <td>MF</td>\n",
       "    </tr>\n",
       "    <tr>\n",
       "      <th>29</th>\n",
       "      <td>Scott Carson</td>\n",
       "      <td>Manchester City</td>\n",
       "      <td>8.0</td>\n",
       "      <td>GK</td>\n",
       "    </tr>\n",
       "    <tr>\n",
       "      <th>42</th>\n",
       "      <td>Vinícius Jr.</td>\n",
       "      <td>Real Madrid</td>\n",
       "      <td>8.0</td>\n",
       "      <td>FW</td>\n",
       "    </tr>\n",
       "    <tr>\n",
       "      <th>20</th>\n",
       "      <td>Issa Kaboré</td>\n",
       "      <td>Manchester City</td>\n",
       "      <td>7.9</td>\n",
       "      <td>DF,MF</td>\n",
       "    </tr>\n",
       "    <tr>\n",
       "      <th>44</th>\n",
       "      <td>Rodrygo</td>\n",
       "      <td>Real Madrid</td>\n",
       "      <td>7.9</td>\n",
       "      <td>FW</td>\n",
       "    </tr>\n",
       "    <tr>\n",
       "      <th>27</th>\n",
       "      <td>Josh Wilson-Esbrand</td>\n",
       "      <td>Manchester City</td>\n",
       "      <td>7.8</td>\n",
       "      <td>DF</td>\n",
       "    </tr>\n",
       "    <tr>\n",
       "      <th>37</th>\n",
       "      <td>Eden Hazard</td>\n",
       "      <td>Real Madrid</td>\n",
       "      <td>7.8</td>\n",
       "      <td>FW</td>\n",
       "    </tr>\n",
       "    <tr>\n",
       "      <th>11</th>\n",
       "      <td>Manuel Akanji</td>\n",
       "      <td>Manchester City</td>\n",
       "      <td>7.7</td>\n",
       "      <td>DF</td>\n",
       "    </tr>\n",
       "    <tr>\n",
       "      <th>24</th>\n",
       "      <td>Divin Mubama</td>\n",
       "      <td>Manchester City</td>\n",
       "      <td>7.7</td>\n",
       "      <td>FW</td>\n",
       "    </tr>\n",
       "  </tbody>\n",
       "</table>\n",
       "</div>"
      ],
      "text/plain": [
       "            player_name             team  avg_rating position\n",
       "22   Abdukodir Khusanov  Manchester City         8.5       DF\n",
       "25         Jacob Wright  Manchester City         8.1       MF\n",
       "29         Scott Carson  Manchester City         8.0       GK\n",
       "42         Vinícius Jr.      Real Madrid         8.0       FW\n",
       "20          Issa Kaboré  Manchester City         7.9    DF,MF\n",
       "44              Rodrygo      Real Madrid         7.9       FW\n",
       "27  Josh Wilson-Esbrand  Manchester City         7.8       DF\n",
       "37          Eden Hazard      Real Madrid         7.8       FW\n",
       "11        Manuel Akanji  Manchester City         7.7       DF\n",
       "24         Divin Mubama  Manchester City         7.7       FW"
      ]
     },
     "metadata": {},
     "output_type": "display_data"
    }
   ],
   "source": [
    "# Combine both teams' data for comparison\n",
    "combined_stats = pd.concat([mc_season_stats, rm_season_stats], ignore_index=True)\n",
    "\n",
    "# Top performers analysis\n",
    "print(\"TOP PERFORMERS ANALYSIS\")\n",
    "print(\"=\" * 50)\n",
    "\n",
    "# Top scorers\n",
    "top_scorers = combined_stats.nlargest(10, 'goals')[['player_name', 'team', 'goals', 'goals_per_90', 'position']]\n",
    "print(\"\\nTop 10 Goal Scorers:\")\n",
    "display(top_scorers)\n",
    "\n",
    "# Top assisters\n",
    "top_assisters = combined_stats.nlargest(10, 'assists')[['player_name', 'team', 'assists', 'assists_per_90', 'position']]\n",
    "print(\"\\nTop 10 Assist Providers:\")\n",
    "display(top_assisters)\n",
    "\n",
    "# Highest rated players\n",
    "top_rated = combined_stats.nlargest(10, 'avg_rating')[['player_name', 'team', 'avg_rating', 'position']]\n",
    "print(\"\\nTop 10 Highest Rated Players:\")\n",
    "display(top_rated)"
   ]
  },
  {
   "cell_type": "code",
   "execution_count": 8,
   "metadata": {},
   "outputs": [
    {
     "data": {
      "application/vnd.plotly.v1+json": {
       "config": {
        "plotlyServerURL": "https://plot.ly"
       },
       "data": [
        {
         "hovertemplate": "%{text}<br>Goals: %{x}<br>Assists: %{y}",
         "marker": {
          "color": "#6CABDD"
         },
         "mode": "markers",
         "name": "Manchester City",
         "text": [
          "Erling Haaland",
          "Rodri",
          "Bernardo Silva",
          "Phil Foden",
          "Joško Gvardiol",
          "İlkay Gündoğan",
          "Mateo Kovačić",
          "Jeremy Doku",
          "Kevin De Bruyne",
          "Sávio",
          "Jack Grealish",
          "Manuel Akanji",
          "Oscar Bobb",
          "Matheus Nunes",
          "Rúben Dias",
          "John Stones",
          "Rico Lewis",
          "Nathan Aké",
          "Kyle Walker",
          "Ederson",
          "Issa Kaboré",
          "James Mcatee",
          "Abdukodir Khusanov",
          "Claudio Echeverri",
          "Divin Mubama",
          "Jacob Wright",
          "Jahmai Simpson-Pusey",
          "Josh Wilson-Esbrand",
          "Nicolás González",
          "Scott Carson",
          "Stefan Ortega"
         ],
         "type": "scatter",
         "x": [
          12,
          9,
          8,
          7,
          6,
          5,
          5,
          5,
          4,
          3,
          3,
          3,
          2,
          2,
          2,
          1,
          1,
          1,
          0,
          0,
          0,
          0,
          0,
          0,
          0,
          0,
          0,
          0,
          0,
          0,
          0
         ],
         "xaxis": "x",
         "y": [
          5,
          11,
          9,
          8,
          2,
          7,
          4,
          3,
          6,
          4,
          3,
          1,
          3,
          1,
          1,
          3,
          3,
          2,
          4,
          1,
          1,
          1,
          0,
          0,
          0,
          0,
          0,
          0,
          0,
          0,
          0
         ],
         "yaxis": "y"
        },
        {
         "hovertemplate": "%{text}<br>Goals: %{x}<br>Assists: %{y}",
         "marker": {
          "color": "#FEBE10"
         },
         "mode": "markers",
         "name": "Real Madrid",
         "text": [
          "Andriy Lunin",
          "Dani Carvajal",
          "David Alaba",
          "Ferland Mendy",
          "Éder Militão",
          "Kepa Arrizabalaga",
          "Eden Hazard",
          "Dani Ceballos",
          "Luka Modrić",
          "Karim Benzema",
          "Marco Asensio",
          "Vinícius Jr.",
          "Antonio Rüdiger",
          "Rodrygo",
          "Federico Valverde",
          "Thibaut Courtois",
          "Jude Bellingham",
          "Jesús Vallejo",
          "Fran García",
          "Eduardo Camavinga",
          "Nacho",
          "Toni Kroos",
          "Aurélien Tchouaméni",
          "Mariano Díaz"
         ],
         "type": "scatter",
         "x": [
          0,
          0,
          1,
          1,
          4,
          0,
          2,
          4,
          1,
          2,
          5,
          8,
          4,
          8,
          6,
          0,
          3,
          1,
          1,
          1,
          1,
          1,
          1,
          8
         ],
         "xaxis": "x",
         "y": [
          0,
          2,
          4,
          4,
          2,
          5,
          1,
          3,
          3,
          5,
          3,
          5,
          1,
          2,
          5,
          1,
          3,
          3,
          3,
          4,
          1,
          3,
          3,
          5
         ],
         "yaxis": "y"
        },
        {
         "boxpoints": "all",
         "name": "Manchester City",
         "type": "box",
         "x": [
          "FW",
          "MF",
          "MF,FW",
          "MF,FW",
          "DF",
          "MF",
          "MF",
          "FW,MF",
          "MF,FW",
          "FW,MF",
          "FW,MF",
          "DF",
          "FW",
          "DF,MF",
          "DF",
          "DF,MF",
          "DF,MF",
          "DF",
          "DF",
          "GK",
          "DF,MF",
          "MF,FW",
          "DF",
          "FW",
          "FW",
          "MF",
          "DF",
          "DF",
          "MF",
          "GK",
          "GK"
         ],
         "xaxis": "x2",
         "y": [
          0.36,
          0.25,
          0.25,
          0.28,
          0.21,
          0.14,
          0.15,
          0.2,
          0.2,
          0.14,
          0.11,
          0.1,
          0.11,
          0.09,
          0.07,
          0.04,
          0.06,
          0.05,
          0,
          0,
          0,
          0,
          0,
          0,
          0,
          0,
          0,
          0,
          0,
          0,
          0
         ],
         "yaxis": "y2"
        },
        {
         "boxpoints": "all",
         "name": "Real Madrid",
         "type": "box",
         "x": [
          "GK",
          "DF",
          "DF",
          "DF",
          "DF",
          "GK",
          "FW",
          "MF",
          "MF",
          "FW",
          "FW",
          "FW",
          "DF",
          "FW",
          "MF",
          "GK",
          "MF",
          "DF",
          "DF",
          "MF",
          "DF",
          "MF",
          "MF",
          "FW"
         ],
         "xaxis": "x2",
         "y": [
          0,
          0,
          0.04,
          0.04,
          0.18,
          0,
          0.09,
          0.18,
          0.05,
          0.09,
          0.24,
          0.39,
          0.2,
          0.4,
          0.3,
          0,
          0.16,
          0.05,
          0.05,
          0.05,
          0.06,
          0.06,
          0.06,
          0.52
         ],
         "yaxis": "y2"
        },
        {
         "marker": {
          "color": "#6CABDD"
         },
         "name": "Manchester City",
         "opacity": 0.7,
         "type": "histogram",
         "x": [
          7.6,
          7.6,
          7.5,
          7.5,
          7.5,
          7.5,
          7.5,
          7.4,
          7.6,
          7.3,
          7.4,
          7.7,
          7.6,
          7.5,
          7.4,
          7.6,
          7.5,
          7.6,
          7.6,
          7.5,
          7.9,
          7.4,
          8.5,
          7.6,
          7.7,
          8.1,
          7.1,
          7.8,
          6.6,
          8,
          7.7
         ],
         "xaxis": "x3",
         "yaxis": "y3"
        },
        {
         "marker": {
          "color": "#FEBE10"
         },
         "name": "Real Madrid",
         "opacity": 0.7,
         "type": "histogram",
         "x": [
          7.1,
          6.9,
          7,
          7.1,
          7,
          7.3,
          7.8,
          7.4,
          7.4,
          7.5,
          7.6,
          8,
          7.4,
          7.9,
          7.5,
          7.5,
          7.6,
          7.3,
          7.1,
          7.5,
          6.9,
          7.5,
          7,
          7.7
         ],
         "xaxis": "x3",
         "yaxis": "y3"
        },
        {
         "marker": {
          "color": "#6CABDD"
         },
         "name": "Manchester City",
         "opacity": 0.7,
         "type": "histogram",
         "x": [
          2990,
          3234,
          2851,
          2270,
          2595,
          3276,
          2979,
          2196,
          1766,
          1930,
          2373,
          2696,
          1708,
          2102,
          2743,
          2097,
          1597,
          1805,
          2488,
          3011,
          564,
          379,
          75,
          230,
          75,
          175,
          237,
          142,
          85,
          153,
          820
         ],
         "xaxis": "x4",
         "yaxis": "y4"
        },
        {
         "marker": {
          "color": "#FEBE10"
         },
         "name": "Real Madrid",
         "opacity": 0.7,
         "type": "histogram",
         "x": [
          2465,
          2163,
          2122,
          2058,
          2053,
          2043,
          2018,
          1967,
          1967,
          1901,
          1860,
          1847,
          1807,
          1802,
          1795,
          1757,
          1737,
          1726,
          1716,
          1678,
          1574,
          1563,
          1443,
          1396
         ],
         "xaxis": "x4",
         "yaxis": "y4"
        }
       ],
       "layout": {
        "annotations": [
         {
          "font": {
           "size": 16
          },
          "showarrow": false,
          "text": "Goals vs Assists (Top Players)",
          "x": 0.225,
          "xanchor": "center",
          "xref": "paper",
          "y": 1,
          "yanchor": "bottom",
          "yref": "paper"
         },
         {
          "font": {
           "size": 16
          },
          "showarrow": false,
          "text": "Goals per 90 by Position",
          "x": 0.775,
          "xanchor": "center",
          "xref": "paper",
          "y": 1,
          "yanchor": "bottom",
          "yref": "paper"
         },
         {
          "font": {
           "size": 16
          },
          "showarrow": false,
          "text": "Player Ratings Distribution",
          "x": 0.225,
          "xanchor": "center",
          "xref": "paper",
          "y": 0.375,
          "yanchor": "bottom",
          "yref": "paper"
         },
         {
          "font": {
           "size": 16
          },
          "showarrow": false,
          "text": "Minutes Played Distribution",
          "x": 0.775,
          "xanchor": "center",
          "xref": "paper",
          "y": 0.375,
          "yanchor": "bottom",
          "yref": "paper"
         }
        ],
        "height": 800,
        "template": {
         "data": {
          "bar": [
           {
            "error_x": {
             "color": "#2a3f5f"
            },
            "error_y": {
             "color": "#2a3f5f"
            },
            "marker": {
             "line": {
              "color": "#E5ECF6",
              "width": 0.5
             },
             "pattern": {
              "fillmode": "overlay",
              "size": 10,
              "solidity": 0.2
             }
            },
            "type": "bar"
           }
          ],
          "barpolar": [
           {
            "marker": {
             "line": {
              "color": "#E5ECF6",
              "width": 0.5
             },
             "pattern": {
              "fillmode": "overlay",
              "size": 10,
              "solidity": 0.2
             }
            },
            "type": "barpolar"
           }
          ],
          "carpet": [
           {
            "aaxis": {
             "endlinecolor": "#2a3f5f",
             "gridcolor": "white",
             "linecolor": "white",
             "minorgridcolor": "white",
             "startlinecolor": "#2a3f5f"
            },
            "baxis": {
             "endlinecolor": "#2a3f5f",
             "gridcolor": "white",
             "linecolor": "white",
             "minorgridcolor": "white",
             "startlinecolor": "#2a3f5f"
            },
            "type": "carpet"
           }
          ],
          "choropleth": [
           {
            "colorbar": {
             "outlinewidth": 0,
             "ticks": ""
            },
            "type": "choropleth"
           }
          ],
          "contour": [
           {
            "colorbar": {
             "outlinewidth": 0,
             "ticks": ""
            },
            "colorscale": [
             [
              0,
              "#0d0887"
             ],
             [
              0.1111111111111111,
              "#46039f"
             ],
             [
              0.2222222222222222,
              "#7201a8"
             ],
             [
              0.3333333333333333,
              "#9c179e"
             ],
             [
              0.4444444444444444,
              "#bd3786"
             ],
             [
              0.5555555555555556,
              "#d8576b"
             ],
             [
              0.6666666666666666,
              "#ed7953"
             ],
             [
              0.7777777777777778,
              "#fb9f3a"
             ],
             [
              0.8888888888888888,
              "#fdca26"
             ],
             [
              1,
              "#f0f921"
             ]
            ],
            "type": "contour"
           }
          ],
          "contourcarpet": [
           {
            "colorbar": {
             "outlinewidth": 0,
             "ticks": ""
            },
            "type": "contourcarpet"
           }
          ],
          "heatmap": [
           {
            "colorbar": {
             "outlinewidth": 0,
             "ticks": ""
            },
            "colorscale": [
             [
              0,
              "#0d0887"
             ],
             [
              0.1111111111111111,
              "#46039f"
             ],
             [
              0.2222222222222222,
              "#7201a8"
             ],
             [
              0.3333333333333333,
              "#9c179e"
             ],
             [
              0.4444444444444444,
              "#bd3786"
             ],
             [
              0.5555555555555556,
              "#d8576b"
             ],
             [
              0.6666666666666666,
              "#ed7953"
             ],
             [
              0.7777777777777778,
              "#fb9f3a"
             ],
             [
              0.8888888888888888,
              "#fdca26"
             ],
             [
              1,
              "#f0f921"
             ]
            ],
            "type": "heatmap"
           }
          ],
          "heatmapgl": [
           {
            "colorbar": {
             "outlinewidth": 0,
             "ticks": ""
            },
            "colorscale": [
             [
              0,
              "#0d0887"
             ],
             [
              0.1111111111111111,
              "#46039f"
             ],
             [
              0.2222222222222222,
              "#7201a8"
             ],
             [
              0.3333333333333333,
              "#9c179e"
             ],
             [
              0.4444444444444444,
              "#bd3786"
             ],
             [
              0.5555555555555556,
              "#d8576b"
             ],
             [
              0.6666666666666666,
              "#ed7953"
             ],
             [
              0.7777777777777778,
              "#fb9f3a"
             ],
             [
              0.8888888888888888,
              "#fdca26"
             ],
             [
              1,
              "#f0f921"
             ]
            ],
            "type": "heatmapgl"
           }
          ],
          "histogram": [
           {
            "marker": {
             "pattern": {
              "fillmode": "overlay",
              "size": 10,
              "solidity": 0.2
             }
            },
            "type": "histogram"
           }
          ],
          "histogram2d": [
           {
            "colorbar": {
             "outlinewidth": 0,
             "ticks": ""
            },
            "colorscale": [
             [
              0,
              "#0d0887"
             ],
             [
              0.1111111111111111,
              "#46039f"
             ],
             [
              0.2222222222222222,
              "#7201a8"
             ],
             [
              0.3333333333333333,
              "#9c179e"
             ],
             [
              0.4444444444444444,
              "#bd3786"
             ],
             [
              0.5555555555555556,
              "#d8576b"
             ],
             [
              0.6666666666666666,
              "#ed7953"
             ],
             [
              0.7777777777777778,
              "#fb9f3a"
             ],
             [
              0.8888888888888888,
              "#fdca26"
             ],
             [
              1,
              "#f0f921"
             ]
            ],
            "type": "histogram2d"
           }
          ],
          "histogram2dcontour": [
           {
            "colorbar": {
             "outlinewidth": 0,
             "ticks": ""
            },
            "colorscale": [
             [
              0,
              "#0d0887"
             ],
             [
              0.1111111111111111,
              "#46039f"
             ],
             [
              0.2222222222222222,
              "#7201a8"
             ],
             [
              0.3333333333333333,
              "#9c179e"
             ],
             [
              0.4444444444444444,
              "#bd3786"
             ],
             [
              0.5555555555555556,
              "#d8576b"
             ],
             [
              0.6666666666666666,
              "#ed7953"
             ],
             [
              0.7777777777777778,
              "#fb9f3a"
             ],
             [
              0.8888888888888888,
              "#fdca26"
             ],
             [
              1,
              "#f0f921"
             ]
            ],
            "type": "histogram2dcontour"
           }
          ],
          "mesh3d": [
           {
            "colorbar": {
             "outlinewidth": 0,
             "ticks": ""
            },
            "type": "mesh3d"
           }
          ],
          "parcoords": [
           {
            "line": {
             "colorbar": {
              "outlinewidth": 0,
              "ticks": ""
             }
            },
            "type": "parcoords"
           }
          ],
          "pie": [
           {
            "automargin": true,
            "type": "pie"
           }
          ],
          "scatter": [
           {
            "fillpattern": {
             "fillmode": "overlay",
             "size": 10,
             "solidity": 0.2
            },
            "type": "scatter"
           }
          ],
          "scatter3d": [
           {
            "line": {
             "colorbar": {
              "outlinewidth": 0,
              "ticks": ""
             }
            },
            "marker": {
             "colorbar": {
              "outlinewidth": 0,
              "ticks": ""
             }
            },
            "type": "scatter3d"
           }
          ],
          "scattercarpet": [
           {
            "marker": {
             "colorbar": {
              "outlinewidth": 0,
              "ticks": ""
             }
            },
            "type": "scattercarpet"
           }
          ],
          "scattergeo": [
           {
            "marker": {
             "colorbar": {
              "outlinewidth": 0,
              "ticks": ""
             }
            },
            "type": "scattergeo"
           }
          ],
          "scattergl": [
           {
            "marker": {
             "colorbar": {
              "outlinewidth": 0,
              "ticks": ""
             }
            },
            "type": "scattergl"
           }
          ],
          "scattermapbox": [
           {
            "marker": {
             "colorbar": {
              "outlinewidth": 0,
              "ticks": ""
             }
            },
            "type": "scattermapbox"
           }
          ],
          "scatterpolar": [
           {
            "marker": {
             "colorbar": {
              "outlinewidth": 0,
              "ticks": ""
             }
            },
            "type": "scatterpolar"
           }
          ],
          "scatterpolargl": [
           {
            "marker": {
             "colorbar": {
              "outlinewidth": 0,
              "ticks": ""
             }
            },
            "type": "scatterpolargl"
           }
          ],
          "scatterternary": [
           {
            "marker": {
             "colorbar": {
              "outlinewidth": 0,
              "ticks": ""
             }
            },
            "type": "scatterternary"
           }
          ],
          "surface": [
           {
            "colorbar": {
             "outlinewidth": 0,
             "ticks": ""
            },
            "colorscale": [
             [
              0,
              "#0d0887"
             ],
             [
              0.1111111111111111,
              "#46039f"
             ],
             [
              0.2222222222222222,
              "#7201a8"
             ],
             [
              0.3333333333333333,
              "#9c179e"
             ],
             [
              0.4444444444444444,
              "#bd3786"
             ],
             [
              0.5555555555555556,
              "#d8576b"
             ],
             [
              0.6666666666666666,
              "#ed7953"
             ],
             [
              0.7777777777777778,
              "#fb9f3a"
             ],
             [
              0.8888888888888888,
              "#fdca26"
             ],
             [
              1,
              "#f0f921"
             ]
            ],
            "type": "surface"
           }
          ],
          "table": [
           {
            "cells": {
             "fill": {
              "color": "#EBF0F8"
             },
             "line": {
              "color": "white"
             }
            },
            "header": {
             "fill": {
              "color": "#C8D4E3"
             },
             "line": {
              "color": "white"
             }
            },
            "type": "table"
           }
          ]
         },
         "layout": {
          "annotationdefaults": {
           "arrowcolor": "#2a3f5f",
           "arrowhead": 0,
           "arrowwidth": 1
          },
          "autotypenumbers": "strict",
          "coloraxis": {
           "colorbar": {
            "outlinewidth": 0,
            "ticks": ""
           }
          },
          "colorscale": {
           "diverging": [
            [
             0,
             "#8e0152"
            ],
            [
             0.1,
             "#c51b7d"
            ],
            [
             0.2,
             "#de77ae"
            ],
            [
             0.3,
             "#f1b6da"
            ],
            [
             0.4,
             "#fde0ef"
            ],
            [
             0.5,
             "#f7f7f7"
            ],
            [
             0.6,
             "#e6f5d0"
            ],
            [
             0.7,
             "#b8e186"
            ],
            [
             0.8,
             "#7fbc41"
            ],
            [
             0.9,
             "#4d9221"
            ],
            [
             1,
             "#276419"
            ]
           ],
           "sequential": [
            [
             0,
             "#0d0887"
            ],
            [
             0.1111111111111111,
             "#46039f"
            ],
            [
             0.2222222222222222,
             "#7201a8"
            ],
            [
             0.3333333333333333,
             "#9c179e"
            ],
            [
             0.4444444444444444,
             "#bd3786"
            ],
            [
             0.5555555555555556,
             "#d8576b"
            ],
            [
             0.6666666666666666,
             "#ed7953"
            ],
            [
             0.7777777777777778,
             "#fb9f3a"
            ],
            [
             0.8888888888888888,
             "#fdca26"
            ],
            [
             1,
             "#f0f921"
            ]
           ],
           "sequentialminus": [
            [
             0,
             "#0d0887"
            ],
            [
             0.1111111111111111,
             "#46039f"
            ],
            [
             0.2222222222222222,
             "#7201a8"
            ],
            [
             0.3333333333333333,
             "#9c179e"
            ],
            [
             0.4444444444444444,
             "#bd3786"
            ],
            [
             0.5555555555555556,
             "#d8576b"
            ],
            [
             0.6666666666666666,
             "#ed7953"
            ],
            [
             0.7777777777777778,
             "#fb9f3a"
            ],
            [
             0.8888888888888888,
             "#fdca26"
            ],
            [
             1,
             "#f0f921"
            ]
           ]
          },
          "colorway": [
           "#636efa",
           "#EF553B",
           "#00cc96",
           "#ab63fa",
           "#FFA15A",
           "#19d3f3",
           "#FF6692",
           "#B6E880",
           "#FF97FF",
           "#FECB52"
          ],
          "font": {
           "color": "#2a3f5f"
          },
          "geo": {
           "bgcolor": "white",
           "lakecolor": "white",
           "landcolor": "#E5ECF6",
           "showlakes": true,
           "showland": true,
           "subunitcolor": "white"
          },
          "hoverlabel": {
           "align": "left"
          },
          "hovermode": "closest",
          "mapbox": {
           "style": "light"
          },
          "paper_bgcolor": "white",
          "plot_bgcolor": "#E5ECF6",
          "polar": {
           "angularaxis": {
            "gridcolor": "white",
            "linecolor": "white",
            "ticks": ""
           },
           "bgcolor": "#E5ECF6",
           "radialaxis": {
            "gridcolor": "white",
            "linecolor": "white",
            "ticks": ""
           }
          },
          "scene": {
           "xaxis": {
            "backgroundcolor": "#E5ECF6",
            "gridcolor": "white",
            "gridwidth": 2,
            "linecolor": "white",
            "showbackground": true,
            "ticks": "",
            "zerolinecolor": "white"
           },
           "yaxis": {
            "backgroundcolor": "#E5ECF6",
            "gridcolor": "white",
            "gridwidth": 2,
            "linecolor": "white",
            "showbackground": true,
            "ticks": "",
            "zerolinecolor": "white"
           },
           "zaxis": {
            "backgroundcolor": "#E5ECF6",
            "gridcolor": "white",
            "gridwidth": 2,
            "linecolor": "white",
            "showbackground": true,
            "ticks": "",
            "zerolinecolor": "white"
           }
          },
          "shapedefaults": {
           "line": {
            "color": "#2a3f5f"
           }
          },
          "ternary": {
           "aaxis": {
            "gridcolor": "white",
            "linecolor": "white",
            "ticks": ""
           },
           "baxis": {
            "gridcolor": "white",
            "linecolor": "white",
            "ticks": ""
           },
           "bgcolor": "#E5ECF6",
           "caxis": {
            "gridcolor": "white",
            "linecolor": "white",
            "ticks": ""
           }
          },
          "title": {
           "x": 0.05
          },
          "xaxis": {
           "automargin": true,
           "gridcolor": "white",
           "linecolor": "white",
           "ticks": "",
           "title": {
            "standoff": 15
           },
           "zerolinecolor": "white",
           "zerolinewidth": 2
          },
          "yaxis": {
           "automargin": true,
           "gridcolor": "white",
           "linecolor": "white",
           "ticks": "",
           "title": {
            "standoff": 15
           },
           "zerolinecolor": "white",
           "zerolinewidth": 2
          }
         }
        },
        "title": {
         "text": "⚽ Player Performance Analysis"
        },
        "xaxis": {
         "anchor": "y",
         "domain": [
          0,
          0.45
         ]
        },
        "xaxis2": {
         "anchor": "y2",
         "domain": [
          0.55,
          1
         ]
        },
        "xaxis3": {
         "anchor": "y3",
         "domain": [
          0,
          0.45
         ]
        },
        "xaxis4": {
         "anchor": "y4",
         "domain": [
          0.55,
          1
         ]
        },
        "yaxis": {
         "anchor": "x",
         "domain": [
          0.625,
          1
         ]
        },
        "yaxis2": {
         "anchor": "x2",
         "domain": [
          0.625,
          1
         ]
        },
        "yaxis3": {
         "anchor": "x3",
         "domain": [
          0,
          0.375
         ]
        },
        "yaxis4": {
         "anchor": "x4",
         "domain": [
          0,
          0.375
         ]
        }
       }
      }
     },
     "metadata": {},
     "output_type": "display_data"
    }
   ],
   "source": [
    "# Player performance visualizations\n",
    "fig = make_subplots(\n",
    "    rows=2, cols=2,\n",
    "    subplot_titles=('Goals vs Assists (Top Players)', 'Goals per 90 by Position', \n",
    "                   'Player Ratings Distribution', 'Minutes Played Distribution'),\n",
    "    specs=[[{\"type\": \"scatter\"}, {\"type\": \"box\"}],\n",
    "           [{\"type\": \"histogram\"}, {\"type\": \"histogram\"}]]\n",
    ")\n",
    "\n",
    "# Goals vs Assists scatter plot\n",
    "for team in ['Manchester City', 'Real Madrid']:\n",
    "    team_data = combined_stats[combined_stats['team'] == team]\n",
    "    color = '#6CABDD' if team == 'Manchester City' else '#FEBE10'\n",
    "    \n",
    "    fig.add_trace(\n",
    "        go.Scatter(x=team_data['goals'], y=team_data['assists'],\n",
    "                   mode='markers', name=team, marker_color=color,\n",
    "                   text=team_data['player_name'], hovertemplate='%{text}<br>Goals: %{x}<br>Assists: %{y}'),\n",
    "        row=1, col=1\n",
    "    )\n",
    "\n",
    "# Goals per 90 by position\n",
    "for team in ['Manchester City', 'Real Madrid']:\n",
    "    team_data = combined_stats[combined_stats['team'] == team]\n",
    "    \n",
    "    fig.add_trace(\n",
    "        go.Box(y=team_data['goals_per_90'], x=team_data['position'],\n",
    "               name=f'{team}', boxpoints='all'),\n",
    "        row=1, col=2\n",
    "    )\n",
    "\n",
    "# Player ratings distribution\n",
    "fig.add_trace(\n",
    "    go.Histogram(x=mc_season_stats['avg_rating'], name='Manchester City', \n",
    "                 opacity=0.7, marker_color='#6CABDD'),\n",
    "    row=2, col=1\n",
    ")\n",
    "fig.add_trace(\n",
    "    go.Histogram(x=rm_season_stats['avg_rating'], name='Real Madrid', \n",
    "                 opacity=0.7, marker_color='#FEBE10'),\n",
    "    row=2, col=1\n",
    ")\n",
    "\n",
    "# Minutes played distribution\n",
    "fig.add_trace(\n",
    "    go.Histogram(x=mc_season_stats['total_minutes'], name='Manchester City', \n",
    "                 opacity=0.7, marker_color='#6CABDD'),\n",
    "    row=2, col=2\n",
    ")\n",
    "fig.add_trace(\n",
    "    go.Histogram(x=rm_season_stats['total_minutes'], name='Real Madrid', \n",
    "                 opacity=0.7, marker_color='#FEBE10'),\n",
    "    row=2, col=2\n",
    ")\n",
    "\n",
    "fig.update_layout(height=800, title_text=\"⚽ Player Performance Analysis\")\n",
    "fig.show()"
   ]
  },
  {
   "cell_type": "markdown",
   "metadata": {},
   "source": [
    "## Position-Based Analysis"
   ]
  },
  {
   "cell_type": "code",
   "execution_count": 9,
   "metadata": {},
   "outputs": [
    {
     "name": "stdout",
     "output_type": "stream",
     "text": [
      "POSITION-BASED PERFORMANCE ANALYSIS\n",
      "============================================================\n",
      "\n",
      " Manchester City by Position:\n"
     ]
    },
    {
     "data": {
      "text/html": [
       "<div>\n",
       "<style scoped>\n",
       "    .dataframe tbody tr th:only-of-type {\n",
       "        vertical-align: middle;\n",
       "    }\n",
       "\n",
       "    .dataframe tbody tr th {\n",
       "        vertical-align: top;\n",
       "    }\n",
       "\n",
       "    .dataframe thead th {\n",
       "        text-align: right;\n",
       "    }\n",
       "</style>\n",
       "<table border=\"1\" class=\"dataframe\">\n",
       "  <thead>\n",
       "    <tr style=\"text-align: right;\">\n",
       "      <th></th>\n",
       "      <th>Total_Goals</th>\n",
       "      <th>Avg_Goals</th>\n",
       "      <th>Total_Assists</th>\n",
       "      <th>Avg_Assists</th>\n",
       "      <th>Avg_Rating</th>\n",
       "      <th>Goals_per_90</th>\n",
       "      <th>Assists_per_90</th>\n",
       "      <th>Total_Minutes</th>\n",
       "      <th>Player_Count</th>\n",
       "      <th>Team</th>\n",
       "    </tr>\n",
       "    <tr>\n",
       "      <th>position</th>\n",
       "      <th></th>\n",
       "      <th></th>\n",
       "      <th></th>\n",
       "      <th></th>\n",
       "      <th></th>\n",
       "      <th></th>\n",
       "      <th></th>\n",
       "      <th></th>\n",
       "      <th></th>\n",
       "      <th></th>\n",
       "    </tr>\n",
       "  </thead>\n",
       "  <tbody>\n",
       "    <tr>\n",
       "      <th>DF</th>\n",
       "      <td>12</td>\n",
       "      <td>1.50</td>\n",
       "      <td>10</td>\n",
       "      <td>1.25</td>\n",
       "      <td>7.65</td>\n",
       "      <td>0.05</td>\n",
       "      <td>0.05</td>\n",
       "      <td>12781</td>\n",
       "      <td>8</td>\n",
       "      <td>Manchester City</td>\n",
       "    </tr>\n",
       "    <tr>\n",
       "      <th>DF,MF</th>\n",
       "      <td>4</td>\n",
       "      <td>1.00</td>\n",
       "      <td>8</td>\n",
       "      <td>2.00</td>\n",
       "      <td>7.62</td>\n",
       "      <td>0.05</td>\n",
       "      <td>0.12</td>\n",
       "      <td>6360</td>\n",
       "      <td>4</td>\n",
       "      <td>Manchester City</td>\n",
       "    </tr>\n",
       "    <tr>\n",
       "      <th>FW</th>\n",
       "      <td>14</td>\n",
       "      <td>3.50</td>\n",
       "      <td>8</td>\n",
       "      <td>2.00</td>\n",
       "      <td>7.62</td>\n",
       "      <td>0.12</td>\n",
       "      <td>0.08</td>\n",
       "      <td>5003</td>\n",
       "      <td>4</td>\n",
       "      <td>Manchester City</td>\n",
       "    </tr>\n",
       "    <tr>\n",
       "      <th>FW,MF</th>\n",
       "      <td>11</td>\n",
       "      <td>3.67</td>\n",
       "      <td>10</td>\n",
       "      <td>3.33</td>\n",
       "      <td>7.37</td>\n",
       "      <td>0.15</td>\n",
       "      <td>0.14</td>\n",
       "      <td>6499</td>\n",
       "      <td>3</td>\n",
       "      <td>Manchester City</td>\n",
       "    </tr>\n",
       "    <tr>\n",
       "      <th>GK</th>\n",
       "      <td>0</td>\n",
       "      <td>0.00</td>\n",
       "      <td>1</td>\n",
       "      <td>0.33</td>\n",
       "      <td>7.73</td>\n",
       "      <td>0.00</td>\n",
       "      <td>0.01</td>\n",
       "      <td>3984</td>\n",
       "      <td>3</td>\n",
       "      <td>Manchester City</td>\n",
       "    </tr>\n",
       "    <tr>\n",
       "      <th>MF</th>\n",
       "      <td>19</td>\n",
       "      <td>3.80</td>\n",
       "      <td>22</td>\n",
       "      <td>4.40</td>\n",
       "      <td>7.46</td>\n",
       "      <td>0.11</td>\n",
       "      <td>0.12</td>\n",
       "      <td>9749</td>\n",
       "      <td>5</td>\n",
       "      <td>Manchester City</td>\n",
       "    </tr>\n",
       "    <tr>\n",
       "      <th>MF,FW</th>\n",
       "      <td>19</td>\n",
       "      <td>4.75</td>\n",
       "      <td>24</td>\n",
       "      <td>6.00</td>\n",
       "      <td>7.50</td>\n",
       "      <td>0.18</td>\n",
       "      <td>0.29</td>\n",
       "      <td>7266</td>\n",
       "      <td>4</td>\n",
       "      <td>Manchester City</td>\n",
       "    </tr>\n",
       "  </tbody>\n",
       "</table>\n",
       "</div>"
      ],
      "text/plain": [
       "          Total_Goals  Avg_Goals  Total_Assists  Avg_Assists  Avg_Rating  \\\n",
       "position                                                                   \n",
       "DF                 12       1.50             10         1.25        7.65   \n",
       "DF,MF               4       1.00              8         2.00        7.62   \n",
       "FW                 14       3.50              8         2.00        7.62   \n",
       "FW,MF              11       3.67             10         3.33        7.37   \n",
       "GK                  0       0.00              1         0.33        7.73   \n",
       "MF                 19       3.80             22         4.40        7.46   \n",
       "MF,FW              19       4.75             24         6.00        7.50   \n",
       "\n",
       "          Goals_per_90  Assists_per_90  Total_Minutes  Player_Count  \\\n",
       "position                                                              \n",
       "DF                0.05            0.05          12781             8   \n",
       "DF,MF             0.05            0.12           6360             4   \n",
       "FW                0.12            0.08           5003             4   \n",
       "FW,MF             0.15            0.14           6499             3   \n",
       "GK                0.00            0.01           3984             3   \n",
       "MF                0.11            0.12           9749             5   \n",
       "MF,FW             0.18            0.29           7266             4   \n",
       "\n",
       "                     Team  \n",
       "position                   \n",
       "DF        Manchester City  \n",
       "DF,MF     Manchester City  \n",
       "FW        Manchester City  \n",
       "FW,MF     Manchester City  \n",
       "GK        Manchester City  \n",
       "MF        Manchester City  \n",
       "MF,FW     Manchester City  "
      ]
     },
     "metadata": {},
     "output_type": "display_data"
    },
    {
     "name": "stdout",
     "output_type": "stream",
     "text": [
      "\n",
      " Real Madrid by Position:\n"
     ]
    },
    {
     "data": {
      "text/html": [
       "<div>\n",
       "<style scoped>\n",
       "    .dataframe tbody tr th:only-of-type {\n",
       "        vertical-align: middle;\n",
       "    }\n",
       "\n",
       "    .dataframe tbody tr th {\n",
       "        vertical-align: top;\n",
       "    }\n",
       "\n",
       "    .dataframe thead th {\n",
       "        text-align: right;\n",
       "    }\n",
       "</style>\n",
       "<table border=\"1\" class=\"dataframe\">\n",
       "  <thead>\n",
       "    <tr style=\"text-align: right;\">\n",
       "      <th></th>\n",
       "      <th>Total_Goals</th>\n",
       "      <th>Avg_Goals</th>\n",
       "      <th>Total_Assists</th>\n",
       "      <th>Avg_Assists</th>\n",
       "      <th>Avg_Rating</th>\n",
       "      <th>Goals_per_90</th>\n",
       "      <th>Assists_per_90</th>\n",
       "      <th>Total_Minutes</th>\n",
       "      <th>Player_Count</th>\n",
       "      <th>Team</th>\n",
       "    </tr>\n",
       "    <tr>\n",
       "      <th>position</th>\n",
       "      <th></th>\n",
       "      <th></th>\n",
       "      <th></th>\n",
       "      <th></th>\n",
       "      <th></th>\n",
       "      <th></th>\n",
       "      <th></th>\n",
       "      <th></th>\n",
       "      <th></th>\n",
       "      <th></th>\n",
       "    </tr>\n",
       "  </thead>\n",
       "  <tbody>\n",
       "    <tr>\n",
       "      <th>DF</th>\n",
       "      <td>13</td>\n",
       "      <td>1.62</td>\n",
       "      <td>20</td>\n",
       "      <td>2.50</td>\n",
       "      <td>7.09</td>\n",
       "      <td>0.08</td>\n",
       "      <td>0.12</td>\n",
       "      <td>15219</td>\n",
       "      <td>8</td>\n",
       "      <td>Real Madrid</td>\n",
       "    </tr>\n",
       "    <tr>\n",
       "      <th>FW</th>\n",
       "      <td>33</td>\n",
       "      <td>5.50</td>\n",
       "      <td>21</td>\n",
       "      <td>3.50</td>\n",
       "      <td>7.75</td>\n",
       "      <td>0.29</td>\n",
       "      <td>0.18</td>\n",
       "      <td>10824</td>\n",
       "      <td>6</td>\n",
       "      <td>Real Madrid</td>\n",
       "    </tr>\n",
       "    <tr>\n",
       "      <th>GK</th>\n",
       "      <td>0</td>\n",
       "      <td>0.00</td>\n",
       "      <td>6</td>\n",
       "      <td>2.00</td>\n",
       "      <td>7.30</td>\n",
       "      <td>0.00</td>\n",
       "      <td>0.09</td>\n",
       "      <td>6265</td>\n",
       "      <td>3</td>\n",
       "      <td>Real Madrid</td>\n",
       "    </tr>\n",
       "    <tr>\n",
       "      <th>MF</th>\n",
       "      <td>17</td>\n",
       "      <td>2.43</td>\n",
       "      <td>24</td>\n",
       "      <td>3.43</td>\n",
       "      <td>7.41</td>\n",
       "      <td>0.12</td>\n",
       "      <td>0.18</td>\n",
       "      <td>12150</td>\n",
       "      <td>7</td>\n",
       "      <td>Real Madrid</td>\n",
       "    </tr>\n",
       "  </tbody>\n",
       "</table>\n",
       "</div>"
      ],
      "text/plain": [
       "          Total_Goals  Avg_Goals  Total_Assists  Avg_Assists  Avg_Rating  \\\n",
       "position                                                                   \n",
       "DF                 13       1.62             20         2.50        7.09   \n",
       "FW                 33       5.50             21         3.50        7.75   \n",
       "GK                  0       0.00              6         2.00        7.30   \n",
       "MF                 17       2.43             24         3.43        7.41   \n",
       "\n",
       "          Goals_per_90  Assists_per_90  Total_Minutes  Player_Count  \\\n",
       "position                                                              \n",
       "DF                0.08            0.12          15219             8   \n",
       "FW                0.29            0.18          10824             6   \n",
       "GK                0.00            0.09           6265             3   \n",
       "MF                0.12            0.18          12150             7   \n",
       "\n",
       "                 Team  \n",
       "position               \n",
       "DF        Real Madrid  \n",
       "FW        Real Madrid  \n",
       "GK        Real Madrid  \n",
       "MF        Real Madrid  "
      ]
     },
     "metadata": {},
     "output_type": "display_data"
    }
   ],
   "source": [
    "# Position-based performance analysis\n",
    "def analyze_by_position(data, team_name):\n",
    "    \"\"\"Analyze performance metrics by position.\"\"\"\n",
    "    position_stats = data.groupby('position').agg({\n",
    "        'goals': ['sum', 'mean'],\n",
    "        'assists': ['sum', 'mean'],\n",
    "        'avg_rating': 'mean',\n",
    "        'goals_per_90': 'mean',\n",
    "        'assists_per_90': 'mean',\n",
    "        'total_minutes': 'sum',\n",
    "        'player_name': 'count'\n",
    "    }).round(2)\n",
    "    \n",
    "    position_stats.columns = ['Total_Goals', 'Avg_Goals', 'Total_Assists', 'Avg_Assists', \n",
    "                             'Avg_Rating', 'Goals_per_90', 'Assists_per_90', 'Total_Minutes', 'Player_Count']\n",
    "    position_stats['Team'] = team_name\n",
    "    return position_stats\n",
    "\n",
    "# Analyze both teams\n",
    "mc_position_stats = analyze_by_position(mc_season_stats, 'Manchester City')\n",
    "rm_position_stats = analyze_by_position(rm_season_stats, 'Real Madrid')\n",
    "\n",
    "print(\"POSITION-BASED PERFORMANCE ANALYSIS\")\n",
    "print(\"=\" * 60)\n",
    "print(\"\\n Manchester City by Position:\")\n",
    "display(mc_position_stats)\n",
    "\n",
    "print(\"\\n Real Madrid by Position:\")\n",
    "display(rm_position_stats)"
   ]
  },
  {
   "cell_type": "code",
   "execution_count": 10,
   "metadata": {},
   "outputs": [
    {
     "data": {
      "application/vnd.plotly.v1+json": {
       "config": {
        "plotlyServerURL": "https://plot.ly"
       },
       "data": [
        {
         "marker": {
          "color": "#6CABDD"
         },
         "name": "Manchester City Goals/90",
         "opacity": 0.8,
         "type": "bar",
         "x": [
          "DF",
          "DF,MF",
          "FW",
          "FW,MF",
          "GK",
          "MF",
          "MF,FW"
         ],
         "xaxis": "x",
         "y": [
          0.05,
          0.05,
          0.12,
          0.15,
          0,
          0.11,
          0.18
         ],
         "yaxis": "y"
        },
        {
         "marker": {
          "color": "#FEBE10"
         },
         "name": "Real Madrid Goals/90",
         "opacity": 0.8,
         "type": "bar",
         "x": [
          "DF",
          "FW",
          "GK",
          "MF"
         ],
         "xaxis": "x",
         "y": [
          0.08,
          0.29,
          0,
          0.12
         ],
         "yaxis": "y"
        },
        {
         "marker": {
          "color": "#6CABDD"
         },
         "name": "Manchester City Assists/90",
         "opacity": 0.8,
         "type": "bar",
         "x": [
          "DF",
          "DF,MF",
          "FW",
          "FW,MF",
          "GK",
          "MF",
          "MF,FW"
         ],
         "xaxis": "x2",
         "y": [
          0.05,
          0.12,
          0.08,
          0.14,
          0.01,
          0.12,
          0.29
         ],
         "yaxis": "y2"
        },
        {
         "marker": {
          "color": "#FEBE10"
         },
         "name": "Real Madrid Assists/90",
         "opacity": 0.8,
         "type": "bar",
         "x": [
          "DF",
          "FW",
          "GK",
          "MF"
         ],
         "xaxis": "x2",
         "y": [
          0.12,
          0.18,
          0.09,
          0.18
         ],
         "yaxis": "y2"
        },
        {
         "marker": {
          "color": "#6CABDD"
         },
         "name": "Manchester City Rating",
         "opacity": 0.8,
         "type": "bar",
         "x": [
          "DF",
          "DF,MF",
          "FW",
          "FW,MF",
          "GK",
          "MF",
          "MF,FW"
         ],
         "xaxis": "x3",
         "y": [
          7.65,
          7.62,
          7.62,
          7.37,
          7.73,
          7.46,
          7.5
         ],
         "yaxis": "y3"
        },
        {
         "marker": {
          "color": "#FEBE10"
         },
         "name": "Real Madrid Rating",
         "opacity": 0.8,
         "type": "bar",
         "x": [
          "DF",
          "FW",
          "GK",
          "MF"
         ],
         "xaxis": "x3",
         "y": [
          7.09,
          7.75,
          7.3,
          7.41
         ],
         "yaxis": "y3"
        },
        {
         "marker": {
          "color": "#6CABDD"
         },
         "name": "Manchester City Players",
         "opacity": 0.8,
         "type": "bar",
         "x": [
          "DF",
          "DF,MF",
          "FW",
          "FW,MF",
          "GK",
          "MF",
          "MF,FW"
         ],
         "xaxis": "x4",
         "y": [
          8,
          4,
          4,
          3,
          3,
          5,
          4
         ],
         "yaxis": "y4"
        },
        {
         "marker": {
          "color": "#FEBE10"
         },
         "name": "Real Madrid Players",
         "opacity": 0.8,
         "type": "bar",
         "x": [
          "DF",
          "FW",
          "GK",
          "MF"
         ],
         "xaxis": "x4",
         "y": [
          8,
          6,
          3,
          7
         ],
         "yaxis": "y4"
        }
       ],
       "layout": {
        "annotations": [
         {
          "font": {
           "size": 16
          },
          "showarrow": false,
          "text": "Goals per 90 by Position",
          "x": 0.225,
          "xanchor": "center",
          "xref": "paper",
          "y": 1,
          "yanchor": "bottom",
          "yref": "paper"
         },
         {
          "font": {
           "size": 16
          },
          "showarrow": false,
          "text": "Assists per 90 by Position",
          "x": 0.775,
          "xanchor": "center",
          "xref": "paper",
          "y": 1,
          "yanchor": "bottom",
          "yref": "paper"
         },
         {
          "font": {
           "size": 16
          },
          "showarrow": false,
          "text": "Average Rating by Position",
          "x": 0.225,
          "xanchor": "center",
          "xref": "paper",
          "y": 0.375,
          "yanchor": "bottom",
          "yref": "paper"
         },
         {
          "font": {
           "size": 16
          },
          "showarrow": false,
          "text": "Player Count by Position",
          "x": 0.775,
          "xanchor": "center",
          "xref": "paper",
          "y": 0.375,
          "yanchor": "bottom",
          "yref": "paper"
         }
        ],
        "height": 800,
        "template": {
         "data": {
          "bar": [
           {
            "error_x": {
             "color": "#2a3f5f"
            },
            "error_y": {
             "color": "#2a3f5f"
            },
            "marker": {
             "line": {
              "color": "#E5ECF6",
              "width": 0.5
             },
             "pattern": {
              "fillmode": "overlay",
              "size": 10,
              "solidity": 0.2
             }
            },
            "type": "bar"
           }
          ],
          "barpolar": [
           {
            "marker": {
             "line": {
              "color": "#E5ECF6",
              "width": 0.5
             },
             "pattern": {
              "fillmode": "overlay",
              "size": 10,
              "solidity": 0.2
             }
            },
            "type": "barpolar"
           }
          ],
          "carpet": [
           {
            "aaxis": {
             "endlinecolor": "#2a3f5f",
             "gridcolor": "white",
             "linecolor": "white",
             "minorgridcolor": "white",
             "startlinecolor": "#2a3f5f"
            },
            "baxis": {
             "endlinecolor": "#2a3f5f",
             "gridcolor": "white",
             "linecolor": "white",
             "minorgridcolor": "white",
             "startlinecolor": "#2a3f5f"
            },
            "type": "carpet"
           }
          ],
          "choropleth": [
           {
            "colorbar": {
             "outlinewidth": 0,
             "ticks": ""
            },
            "type": "choropleth"
           }
          ],
          "contour": [
           {
            "colorbar": {
             "outlinewidth": 0,
             "ticks": ""
            },
            "colorscale": [
             [
              0,
              "#0d0887"
             ],
             [
              0.1111111111111111,
              "#46039f"
             ],
             [
              0.2222222222222222,
              "#7201a8"
             ],
             [
              0.3333333333333333,
              "#9c179e"
             ],
             [
              0.4444444444444444,
              "#bd3786"
             ],
             [
              0.5555555555555556,
              "#d8576b"
             ],
             [
              0.6666666666666666,
              "#ed7953"
             ],
             [
              0.7777777777777778,
              "#fb9f3a"
             ],
             [
              0.8888888888888888,
              "#fdca26"
             ],
             [
              1,
              "#f0f921"
             ]
            ],
            "type": "contour"
           }
          ],
          "contourcarpet": [
           {
            "colorbar": {
             "outlinewidth": 0,
             "ticks": ""
            },
            "type": "contourcarpet"
           }
          ],
          "heatmap": [
           {
            "colorbar": {
             "outlinewidth": 0,
             "ticks": ""
            },
            "colorscale": [
             [
              0,
              "#0d0887"
             ],
             [
              0.1111111111111111,
              "#46039f"
             ],
             [
              0.2222222222222222,
              "#7201a8"
             ],
             [
              0.3333333333333333,
              "#9c179e"
             ],
             [
              0.4444444444444444,
              "#bd3786"
             ],
             [
              0.5555555555555556,
              "#d8576b"
             ],
             [
              0.6666666666666666,
              "#ed7953"
             ],
             [
              0.7777777777777778,
              "#fb9f3a"
             ],
             [
              0.8888888888888888,
              "#fdca26"
             ],
             [
              1,
              "#f0f921"
             ]
            ],
            "type": "heatmap"
           }
          ],
          "heatmapgl": [
           {
            "colorbar": {
             "outlinewidth": 0,
             "ticks": ""
            },
            "colorscale": [
             [
              0,
              "#0d0887"
             ],
             [
              0.1111111111111111,
              "#46039f"
             ],
             [
              0.2222222222222222,
              "#7201a8"
             ],
             [
              0.3333333333333333,
              "#9c179e"
             ],
             [
              0.4444444444444444,
              "#bd3786"
             ],
             [
              0.5555555555555556,
              "#d8576b"
             ],
             [
              0.6666666666666666,
              "#ed7953"
             ],
             [
              0.7777777777777778,
              "#fb9f3a"
             ],
             [
              0.8888888888888888,
              "#fdca26"
             ],
             [
              1,
              "#f0f921"
             ]
            ],
            "type": "heatmapgl"
           }
          ],
          "histogram": [
           {
            "marker": {
             "pattern": {
              "fillmode": "overlay",
              "size": 10,
              "solidity": 0.2
             }
            },
            "type": "histogram"
           }
          ],
          "histogram2d": [
           {
            "colorbar": {
             "outlinewidth": 0,
             "ticks": ""
            },
            "colorscale": [
             [
              0,
              "#0d0887"
             ],
             [
              0.1111111111111111,
              "#46039f"
             ],
             [
              0.2222222222222222,
              "#7201a8"
             ],
             [
              0.3333333333333333,
              "#9c179e"
             ],
             [
              0.4444444444444444,
              "#bd3786"
             ],
             [
              0.5555555555555556,
              "#d8576b"
             ],
             [
              0.6666666666666666,
              "#ed7953"
             ],
             [
              0.7777777777777778,
              "#fb9f3a"
             ],
             [
              0.8888888888888888,
              "#fdca26"
             ],
             [
              1,
              "#f0f921"
             ]
            ],
            "type": "histogram2d"
           }
          ],
          "histogram2dcontour": [
           {
            "colorbar": {
             "outlinewidth": 0,
             "ticks": ""
            },
            "colorscale": [
             [
              0,
              "#0d0887"
             ],
             [
              0.1111111111111111,
              "#46039f"
             ],
             [
              0.2222222222222222,
              "#7201a8"
             ],
             [
              0.3333333333333333,
              "#9c179e"
             ],
             [
              0.4444444444444444,
              "#bd3786"
             ],
             [
              0.5555555555555556,
              "#d8576b"
             ],
             [
              0.6666666666666666,
              "#ed7953"
             ],
             [
              0.7777777777777778,
              "#fb9f3a"
             ],
             [
              0.8888888888888888,
              "#fdca26"
             ],
             [
              1,
              "#f0f921"
             ]
            ],
            "type": "histogram2dcontour"
           }
          ],
          "mesh3d": [
           {
            "colorbar": {
             "outlinewidth": 0,
             "ticks": ""
            },
            "type": "mesh3d"
           }
          ],
          "parcoords": [
           {
            "line": {
             "colorbar": {
              "outlinewidth": 0,
              "ticks": ""
             }
            },
            "type": "parcoords"
           }
          ],
          "pie": [
           {
            "automargin": true,
            "type": "pie"
           }
          ],
          "scatter": [
           {
            "fillpattern": {
             "fillmode": "overlay",
             "size": 10,
             "solidity": 0.2
            },
            "type": "scatter"
           }
          ],
          "scatter3d": [
           {
            "line": {
             "colorbar": {
              "outlinewidth": 0,
              "ticks": ""
             }
            },
            "marker": {
             "colorbar": {
              "outlinewidth": 0,
              "ticks": ""
             }
            },
            "type": "scatter3d"
           }
          ],
          "scattercarpet": [
           {
            "marker": {
             "colorbar": {
              "outlinewidth": 0,
              "ticks": ""
             }
            },
            "type": "scattercarpet"
           }
          ],
          "scattergeo": [
           {
            "marker": {
             "colorbar": {
              "outlinewidth": 0,
              "ticks": ""
             }
            },
            "type": "scattergeo"
           }
          ],
          "scattergl": [
           {
            "marker": {
             "colorbar": {
              "outlinewidth": 0,
              "ticks": ""
             }
            },
            "type": "scattergl"
           }
          ],
          "scattermapbox": [
           {
            "marker": {
             "colorbar": {
              "outlinewidth": 0,
              "ticks": ""
             }
            },
            "type": "scattermapbox"
           }
          ],
          "scatterpolar": [
           {
            "marker": {
             "colorbar": {
              "outlinewidth": 0,
              "ticks": ""
             }
            },
            "type": "scatterpolar"
           }
          ],
          "scatterpolargl": [
           {
            "marker": {
             "colorbar": {
              "outlinewidth": 0,
              "ticks": ""
             }
            },
            "type": "scatterpolargl"
           }
          ],
          "scatterternary": [
           {
            "marker": {
             "colorbar": {
              "outlinewidth": 0,
              "ticks": ""
             }
            },
            "type": "scatterternary"
           }
          ],
          "surface": [
           {
            "colorbar": {
             "outlinewidth": 0,
             "ticks": ""
            },
            "colorscale": [
             [
              0,
              "#0d0887"
             ],
             [
              0.1111111111111111,
              "#46039f"
             ],
             [
              0.2222222222222222,
              "#7201a8"
             ],
             [
              0.3333333333333333,
              "#9c179e"
             ],
             [
              0.4444444444444444,
              "#bd3786"
             ],
             [
              0.5555555555555556,
              "#d8576b"
             ],
             [
              0.6666666666666666,
              "#ed7953"
             ],
             [
              0.7777777777777778,
              "#fb9f3a"
             ],
             [
              0.8888888888888888,
              "#fdca26"
             ],
             [
              1,
              "#f0f921"
             ]
            ],
            "type": "surface"
           }
          ],
          "table": [
           {
            "cells": {
             "fill": {
              "color": "#EBF0F8"
             },
             "line": {
              "color": "white"
             }
            },
            "header": {
             "fill": {
              "color": "#C8D4E3"
             },
             "line": {
              "color": "white"
             }
            },
            "type": "table"
           }
          ]
         },
         "layout": {
          "annotationdefaults": {
           "arrowcolor": "#2a3f5f",
           "arrowhead": 0,
           "arrowwidth": 1
          },
          "autotypenumbers": "strict",
          "coloraxis": {
           "colorbar": {
            "outlinewidth": 0,
            "ticks": ""
           }
          },
          "colorscale": {
           "diverging": [
            [
             0,
             "#8e0152"
            ],
            [
             0.1,
             "#c51b7d"
            ],
            [
             0.2,
             "#de77ae"
            ],
            [
             0.3,
             "#f1b6da"
            ],
            [
             0.4,
             "#fde0ef"
            ],
            [
             0.5,
             "#f7f7f7"
            ],
            [
             0.6,
             "#e6f5d0"
            ],
            [
             0.7,
             "#b8e186"
            ],
            [
             0.8,
             "#7fbc41"
            ],
            [
             0.9,
             "#4d9221"
            ],
            [
             1,
             "#276419"
            ]
           ],
           "sequential": [
            [
             0,
             "#0d0887"
            ],
            [
             0.1111111111111111,
             "#46039f"
            ],
            [
             0.2222222222222222,
             "#7201a8"
            ],
            [
             0.3333333333333333,
             "#9c179e"
            ],
            [
             0.4444444444444444,
             "#bd3786"
            ],
            [
             0.5555555555555556,
             "#d8576b"
            ],
            [
             0.6666666666666666,
             "#ed7953"
            ],
            [
             0.7777777777777778,
             "#fb9f3a"
            ],
            [
             0.8888888888888888,
             "#fdca26"
            ],
            [
             1,
             "#f0f921"
            ]
           ],
           "sequentialminus": [
            [
             0,
             "#0d0887"
            ],
            [
             0.1111111111111111,
             "#46039f"
            ],
            [
             0.2222222222222222,
             "#7201a8"
            ],
            [
             0.3333333333333333,
             "#9c179e"
            ],
            [
             0.4444444444444444,
             "#bd3786"
            ],
            [
             0.5555555555555556,
             "#d8576b"
            ],
            [
             0.6666666666666666,
             "#ed7953"
            ],
            [
             0.7777777777777778,
             "#fb9f3a"
            ],
            [
             0.8888888888888888,
             "#fdca26"
            ],
            [
             1,
             "#f0f921"
            ]
           ]
          },
          "colorway": [
           "#636efa",
           "#EF553B",
           "#00cc96",
           "#ab63fa",
           "#FFA15A",
           "#19d3f3",
           "#FF6692",
           "#B6E880",
           "#FF97FF",
           "#FECB52"
          ],
          "font": {
           "color": "#2a3f5f"
          },
          "geo": {
           "bgcolor": "white",
           "lakecolor": "white",
           "landcolor": "#E5ECF6",
           "showlakes": true,
           "showland": true,
           "subunitcolor": "white"
          },
          "hoverlabel": {
           "align": "left"
          },
          "hovermode": "closest",
          "mapbox": {
           "style": "light"
          },
          "paper_bgcolor": "white",
          "plot_bgcolor": "#E5ECF6",
          "polar": {
           "angularaxis": {
            "gridcolor": "white",
            "linecolor": "white",
            "ticks": ""
           },
           "bgcolor": "#E5ECF6",
           "radialaxis": {
            "gridcolor": "white",
            "linecolor": "white",
            "ticks": ""
           }
          },
          "scene": {
           "xaxis": {
            "backgroundcolor": "#E5ECF6",
            "gridcolor": "white",
            "gridwidth": 2,
            "linecolor": "white",
            "showbackground": true,
            "ticks": "",
            "zerolinecolor": "white"
           },
           "yaxis": {
            "backgroundcolor": "#E5ECF6",
            "gridcolor": "white",
            "gridwidth": 2,
            "linecolor": "white",
            "showbackground": true,
            "ticks": "",
            "zerolinecolor": "white"
           },
           "zaxis": {
            "backgroundcolor": "#E5ECF6",
            "gridcolor": "white",
            "gridwidth": 2,
            "linecolor": "white",
            "showbackground": true,
            "ticks": "",
            "zerolinecolor": "white"
           }
          },
          "shapedefaults": {
           "line": {
            "color": "#2a3f5f"
           }
          },
          "ternary": {
           "aaxis": {
            "gridcolor": "white",
            "linecolor": "white",
            "ticks": ""
           },
           "baxis": {
            "gridcolor": "white",
            "linecolor": "white",
            "ticks": ""
           },
           "bgcolor": "#E5ECF6",
           "caxis": {
            "gridcolor": "white",
            "linecolor": "white",
            "ticks": ""
           }
          },
          "title": {
           "x": 0.05
          },
          "xaxis": {
           "automargin": true,
           "gridcolor": "white",
           "linecolor": "white",
           "ticks": "",
           "title": {
            "standoff": 15
           },
           "zerolinecolor": "white",
           "zerolinewidth": 2
          },
          "yaxis": {
           "automargin": true,
           "gridcolor": "white",
           "linecolor": "white",
           "ticks": "",
           "title": {
            "standoff": 15
           },
           "zerolinecolor": "white",
           "zerolinewidth": 2
          }
         }
        },
        "title": {
         "text": " Position-Based Performance Comparison"
        },
        "xaxis": {
         "anchor": "y",
         "domain": [
          0,
          0.45
         ]
        },
        "xaxis2": {
         "anchor": "y2",
         "domain": [
          0.55,
          1
         ]
        },
        "xaxis3": {
         "anchor": "y3",
         "domain": [
          0,
          0.45
         ]
        },
        "xaxis4": {
         "anchor": "y4",
         "domain": [
          0.55,
          1
         ]
        },
        "yaxis": {
         "anchor": "x",
         "domain": [
          0.625,
          1
         ]
        },
        "yaxis2": {
         "anchor": "x2",
         "domain": [
          0.625,
          1
         ]
        },
        "yaxis3": {
         "anchor": "x3",
         "domain": [
          0,
          0.375
         ]
        },
        "yaxis4": {
         "anchor": "x4",
         "domain": [
          0,
          0.375
         ]
        }
       }
      }
     },
     "metadata": {},
     "output_type": "display_data"
    }
   ],
   "source": [
    "# Position comparison visualization\n",
    "combined_position_stats = pd.concat([mc_position_stats, rm_position_stats])\n",
    "\n",
    "fig = make_subplots(\n",
    "    rows=2, cols=2,\n",
    "    subplot_titles=('Goals per 90 by Position', 'Assists per 90 by Position',\n",
    "                   'Average Rating by Position', 'Player Count by Position')\n",
    ")\n",
    "\n",
    "positions = combined_position_stats.index.unique()\n",
    "teams = ['Manchester City', 'Real Madrid']\n",
    "colors = ['#6CABDD', '#FEBE10']\n",
    "\n",
    "# Goals per 90 by position\n",
    "for i, team in enumerate(teams):\n",
    "    team_data = combined_position_stats[combined_position_stats['Team'] == team]\n",
    "    fig.add_trace(\n",
    "        go.Bar(x=team_data.index, y=team_data['Goals_per_90'], \n",
    "               name=f'{team} Goals/90', marker_color=colors[i], opacity=0.8),\n",
    "        row=1, col=1\n",
    "    )\n",
    "\n",
    "# Assists per 90 by position\n",
    "for i, team in enumerate(teams):\n",
    "    team_data = combined_position_stats[combined_position_stats['Team'] == team]\n",
    "    fig.add_trace(\n",
    "        go.Bar(x=team_data.index, y=team_data['Assists_per_90'], \n",
    "               name=f'{team} Assists/90', marker_color=colors[i], opacity=0.8),\n",
    "        row=1, col=2\n",
    "    )\n",
    "\n",
    "# Average rating by position\n",
    "for i, team in enumerate(teams):\n",
    "    team_data = combined_position_stats[combined_position_stats['Team'] == team]\n",
    "    fig.add_trace(\n",
    "        go.Bar(x=team_data.index, y=team_data['Avg_Rating'], \n",
    "               name=f'{team} Rating', marker_color=colors[i], opacity=0.8),\n",
    "        row=2, col=1\n",
    "    )\n",
    "\n",
    "# Player count by position\n",
    "for i, team in enumerate(teams):\n",
    "    team_data = combined_position_stats[combined_position_stats['Team'] == team]\n",
    "    fig.add_trace(\n",
    "        go.Bar(x=team_data.index, y=team_data['Player_Count'], \n",
    "               name=f'{team} Players', marker_color=colors[i], opacity=0.8),\n",
    "        row=2, col=2\n",
    "    )\n",
    "\n",
    "fig.update_layout(height=800, title_text=\" Position-Based Performance Comparison\")\n",
    "fig.show()"
   ]
  },
  {
   "cell_type": "markdown",
   "metadata": {},
   "source": [
    "## Competition Performance Analysis"
   ]
  },
  {
   "cell_type": "code",
   "execution_count": 11,
   "metadata": {},
   "outputs": [
    {
     "name": "stdout",
     "output_type": "stream",
     "text": [
      "COMPETITION PERFORMANCE COMPARISON\n",
      "============================================================\n",
      "\n",
      "Manchester City Competition Summary:\n"
     ]
    },
    {
     "data": {
      "text/html": [
       "<div>\n",
       "<style scoped>\n",
       "    .dataframe tbody tr th:only-of-type {\n",
       "        vertical-align: middle;\n",
       "    }\n",
       "\n",
       "    .dataframe tbody tr th {\n",
       "        vertical-align: top;\n",
       "    }\n",
       "\n",
       "    .dataframe thead th {\n",
       "        text-align: right;\n",
       "    }\n",
       "</style>\n",
       "<table border=\"1\" class=\"dataframe\">\n",
       "  <thead>\n",
       "    <tr style=\"text-align: right;\">\n",
       "      <th></th>\n",
       "      <th>competition</th>\n",
       "      <th>matches_played</th>\n",
       "      <th>wins</th>\n",
       "      <th>draws</th>\n",
       "      <th>losses</th>\n",
       "      <th>goals_for</th>\n",
       "      <th>goals_against</th>\n",
       "      <th>avg_possession</th>\n",
       "      <th>avg_shots</th>\n",
       "      <th>avg_pass_accuracy</th>\n",
       "      <th>highest_score</th>\n",
       "      <th>lowest_score</th>\n",
       "      <th>avg_goals_scored</th>\n",
       "      <th>avg_goals_conceded</th>\n",
       "      <th>win_percentage</th>\n",
       "      <th>goal_difference</th>\n",
       "    </tr>\n",
       "  </thead>\n",
       "  <tbody>\n",
       "    <tr>\n",
       "      <th>0</th>\n",
       "      <td>Premier League</td>\n",
       "      <td>38</td>\n",
       "      <td>26</td>\n",
       "      <td>7</td>\n",
       "      <td>5</td>\n",
       "      <td>76</td>\n",
       "      <td>32</td>\n",
       "      <td>66.0</td>\n",
       "      <td>20.3</td>\n",
       "      <td>84.9</td>\n",
       "      <td>5</td>\n",
       "      <td>0</td>\n",
       "      <td>2.00</td>\n",
       "      <td>0.84</td>\n",
       "      <td>68.4</td>\n",
       "      <td>44</td>\n",
       "    </tr>\n",
       "    <tr>\n",
       "      <th>1</th>\n",
       "      <td>Champions League</td>\n",
       "      <td>10</td>\n",
       "      <td>6</td>\n",
       "      <td>2</td>\n",
       "      <td>2</td>\n",
       "      <td>13</td>\n",
       "      <td>6</td>\n",
       "      <td>64.7</td>\n",
       "      <td>17.6</td>\n",
       "      <td>84.0</td>\n",
       "      <td>3</td>\n",
       "      <td>0</td>\n",
       "      <td>1.30</td>\n",
       "      <td>0.60</td>\n",
       "      <td>60.0</td>\n",
       "      <td>7</td>\n",
       "    </tr>\n",
       "    <tr>\n",
       "      <th>2</th>\n",
       "      <td>FA Cup</td>\n",
       "      <td>6</td>\n",
       "      <td>4</td>\n",
       "      <td>0</td>\n",
       "      <td>2</td>\n",
       "      <td>12</td>\n",
       "      <td>11</td>\n",
       "      <td>63.0</td>\n",
       "      <td>21.5</td>\n",
       "      <td>86.3</td>\n",
       "      <td>4</td>\n",
       "      <td>0</td>\n",
       "      <td>2.00</td>\n",
       "      <td>1.83</td>\n",
       "      <td>66.7</td>\n",
       "      <td>1</td>\n",
       "    </tr>\n",
       "    <tr>\n",
       "      <th>3</th>\n",
       "      <td>EFL Cup</td>\n",
       "      <td>3</td>\n",
       "      <td>1</td>\n",
       "      <td>1</td>\n",
       "      <td>1</td>\n",
       "      <td>2</td>\n",
       "      <td>2</td>\n",
       "      <td>67.7</td>\n",
       "      <td>18.0</td>\n",
       "      <td>81.3</td>\n",
       "      <td>2</td>\n",
       "      <td>0</td>\n",
       "      <td>0.67</td>\n",
       "      <td>0.67</td>\n",
       "      <td>33.3</td>\n",
       "      <td>0</td>\n",
       "    </tr>\n",
       "  </tbody>\n",
       "</table>\n",
       "</div>"
      ],
      "text/plain": [
       "        competition  matches_played  wins  draws  losses  goals_for  \\\n",
       "0    Premier League              38    26      7       5         76   \n",
       "1  Champions League              10     6      2       2         13   \n",
       "2            FA Cup               6     4      0       2         12   \n",
       "3           EFL Cup               3     1      1       1          2   \n",
       "\n",
       "   goals_against  avg_possession  avg_shots  avg_pass_accuracy  highest_score  \\\n",
       "0             32            66.0       20.3               84.9              5   \n",
       "1              6            64.7       17.6               84.0              3   \n",
       "2             11            63.0       21.5               86.3              4   \n",
       "3              2            67.7       18.0               81.3              2   \n",
       "\n",
       "   lowest_score  avg_goals_scored  avg_goals_conceded  win_percentage  \\\n",
       "0             0              2.00                0.84            68.4   \n",
       "1             0              1.30                0.60            60.0   \n",
       "2             0              2.00                1.83            66.7   \n",
       "3             0              0.67                0.67            33.3   \n",
       "\n",
       "   goal_difference  \n",
       "0               44  \n",
       "1                7  \n",
       "2                1  \n",
       "3                0  "
      ]
     },
     "metadata": {},
     "output_type": "display_data"
    },
    {
     "name": "stdout",
     "output_type": "stream",
     "text": [
      "\n",
      "Real Madrid Competition Summary:\n"
     ]
    },
    {
     "data": {
      "text/html": [
       "<div>\n",
       "<style scoped>\n",
       "    .dataframe tbody tr th:only-of-type {\n",
       "        vertical-align: middle;\n",
       "    }\n",
       "\n",
       "    .dataframe tbody tr th {\n",
       "        vertical-align: top;\n",
       "    }\n",
       "\n",
       "    .dataframe thead th {\n",
       "        text-align: right;\n",
       "    }\n",
       "</style>\n",
       "<table border=\"1\" class=\"dataframe\">\n",
       "  <thead>\n",
       "    <tr style=\"text-align: right;\">\n",
       "      <th></th>\n",
       "      <th>competition</th>\n",
       "      <th>matches_played</th>\n",
       "      <th>wins</th>\n",
       "      <th>draws</th>\n",
       "      <th>losses</th>\n",
       "      <th>goals_for</th>\n",
       "      <th>goals_against</th>\n",
       "      <th>avg_possession</th>\n",
       "      <th>avg_shots</th>\n",
       "      <th>avg_pass_accuracy</th>\n",
       "      <th>highest_score</th>\n",
       "      <th>lowest_score</th>\n",
       "      <th>avg_goals_scored</th>\n",
       "      <th>avg_goals_conceded</th>\n",
       "      <th>win_percentage</th>\n",
       "      <th>goal_difference</th>\n",
       "    </tr>\n",
       "  </thead>\n",
       "  <tbody>\n",
       "    <tr>\n",
       "      <th>0</th>\n",
       "      <td>La Liga</td>\n",
       "      <td>38</td>\n",
       "      <td>25</td>\n",
       "      <td>6</td>\n",
       "      <td>7</td>\n",
       "      <td>78</td>\n",
       "      <td>44</td>\n",
       "      <td>65.0</td>\n",
       "      <td>15.0</td>\n",
       "      <td>87.0</td>\n",
       "      <td>78</td>\n",
       "      <td>3</td>\n",
       "      <td>2.052632</td>\n",
       "      <td>1.157895</td>\n",
       "      <td>65.8</td>\n",
       "      <td>34</td>\n",
       "    </tr>\n",
       "    <tr>\n",
       "      <th>1</th>\n",
       "      <td>Champions League</td>\n",
       "      <td>5</td>\n",
       "      <td>2</td>\n",
       "      <td>2</td>\n",
       "      <td>1</td>\n",
       "      <td>9</td>\n",
       "      <td>6</td>\n",
       "      <td>65.0</td>\n",
       "      <td>15.0</td>\n",
       "      <td>87.0</td>\n",
       "      <td>78</td>\n",
       "      <td>3</td>\n",
       "      <td>1.800000</td>\n",
       "      <td>1.200000</td>\n",
       "      <td>40.0</td>\n",
       "      <td>3</td>\n",
       "    </tr>\n",
       "    <tr>\n",
       "      <th>2</th>\n",
       "      <td>Copa del Rey</td>\n",
       "      <td>3</td>\n",
       "      <td>1</td>\n",
       "      <td>0</td>\n",
       "      <td>2</td>\n",
       "      <td>3</td>\n",
       "      <td>5</td>\n",
       "      <td>65.0</td>\n",
       "      <td>15.0</td>\n",
       "      <td>87.0</td>\n",
       "      <td>78</td>\n",
       "      <td>3</td>\n",
       "      <td>1.000000</td>\n",
       "      <td>1.666667</td>\n",
       "      <td>33.3</td>\n",
       "      <td>-2</td>\n",
       "    </tr>\n",
       "  </tbody>\n",
       "</table>\n",
       "</div>"
      ],
      "text/plain": [
       "        competition  matches_played  wins  draws  losses  goals_for  \\\n",
       "0           La Liga              38    25      6       7         78   \n",
       "1  Champions League               5     2      2       1          9   \n",
       "2      Copa del Rey               3     1      0       2          3   \n",
       "\n",
       "   goals_against  avg_possession  avg_shots  avg_pass_accuracy  highest_score  \\\n",
       "0             44            65.0       15.0               87.0             78   \n",
       "1              6            65.0       15.0               87.0             78   \n",
       "2              5            65.0       15.0               87.0             78   \n",
       "\n",
       "   lowest_score  avg_goals_scored  avg_goals_conceded  win_percentage  \\\n",
       "0             3          2.052632            1.157895            65.8   \n",
       "1             3          1.800000            1.200000            40.0   \n",
       "2             3          1.000000            1.666667            33.3   \n",
       "\n",
       "   goal_difference  \n",
       "0               34  \n",
       "1                3  \n",
       "2               -2  "
      ]
     },
     "metadata": {},
     "output_type": "display_data"
    },
    {
     "name": "stdout",
     "output_type": "stream",
     "text": [
      "\n",
      "Manchester City Competition Efficiency:\n"
     ]
    },
    {
     "data": {
      "text/html": [
       "<div>\n",
       "<style scoped>\n",
       "    .dataframe tbody tr th:only-of-type {\n",
       "        vertical-align: middle;\n",
       "    }\n",
       "\n",
       "    .dataframe tbody tr th {\n",
       "        vertical-align: top;\n",
       "    }\n",
       "\n",
       "    .dataframe thead th {\n",
       "        text-align: right;\n",
       "    }\n",
       "</style>\n",
       "<table border=\"1\" class=\"dataframe\">\n",
       "  <thead>\n",
       "    <tr style=\"text-align: right;\">\n",
       "      <th></th>\n",
       "      <th>Wins</th>\n",
       "      <th>Total_Goals</th>\n",
       "      <th>Avg_Goals</th>\n",
       "      <th>Total_Conceded</th>\n",
       "      <th>Avg_Conceded</th>\n",
       "      <th>Avg_Possession</th>\n",
       "      <th>Avg_Shots</th>\n",
       "      <th>Avg_Pass_Accuracy</th>\n",
       "      <th>Matches</th>\n",
       "      <th>Win_Rate</th>\n",
       "    </tr>\n",
       "    <tr>\n",
       "      <th>competition</th>\n",
       "      <th></th>\n",
       "      <th></th>\n",
       "      <th></th>\n",
       "      <th></th>\n",
       "      <th></th>\n",
       "      <th></th>\n",
       "      <th></th>\n",
       "      <th></th>\n",
       "      <th></th>\n",
       "      <th></th>\n",
       "    </tr>\n",
       "  </thead>\n",
       "  <tbody>\n",
       "    <tr>\n",
       "      <th>Champions League</th>\n",
       "      <td>6</td>\n",
       "      <td>13</td>\n",
       "      <td>1.30</td>\n",
       "      <td>6</td>\n",
       "      <td>0.60</td>\n",
       "      <td>64.70</td>\n",
       "      <td>17.60</td>\n",
       "      <td>84.00</td>\n",
       "      <td>10</td>\n",
       "      <td>60.0</td>\n",
       "    </tr>\n",
       "    <tr>\n",
       "      <th>EFL Cup</th>\n",
       "      <td>1</td>\n",
       "      <td>2</td>\n",
       "      <td>0.67</td>\n",
       "      <td>2</td>\n",
       "      <td>0.67</td>\n",
       "      <td>67.67</td>\n",
       "      <td>18.00</td>\n",
       "      <td>81.33</td>\n",
       "      <td>3</td>\n",
       "      <td>33.3</td>\n",
       "    </tr>\n",
       "    <tr>\n",
       "      <th>FA Cup</th>\n",
       "      <td>4</td>\n",
       "      <td>12</td>\n",
       "      <td>2.00</td>\n",
       "      <td>11</td>\n",
       "      <td>1.83</td>\n",
       "      <td>63.00</td>\n",
       "      <td>21.50</td>\n",
       "      <td>86.33</td>\n",
       "      <td>6</td>\n",
       "      <td>66.7</td>\n",
       "    </tr>\n",
       "    <tr>\n",
       "      <th>Premier League</th>\n",
       "      <td>26</td>\n",
       "      <td>76</td>\n",
       "      <td>2.00</td>\n",
       "      <td>32</td>\n",
       "      <td>0.84</td>\n",
       "      <td>66.03</td>\n",
       "      <td>20.34</td>\n",
       "      <td>84.89</td>\n",
       "      <td>38</td>\n",
       "      <td>68.4</td>\n",
       "    </tr>\n",
       "  </tbody>\n",
       "</table>\n",
       "</div>"
      ],
      "text/plain": [
       "                  Wins  Total_Goals  Avg_Goals  Total_Conceded  Avg_Conceded  \\\n",
       "competition                                                                    \n",
       "Champions League     6           13       1.30               6          0.60   \n",
       "EFL Cup              1            2       0.67               2          0.67   \n",
       "FA Cup               4           12       2.00              11          1.83   \n",
       "Premier League      26           76       2.00              32          0.84   \n",
       "\n",
       "                  Avg_Possession  Avg_Shots  Avg_Pass_Accuracy  Matches  \\\n",
       "competition                                                               \n",
       "Champions League           64.70      17.60              84.00       10   \n",
       "EFL Cup                    67.67      18.00              81.33        3   \n",
       "FA Cup                     63.00      21.50              86.33        6   \n",
       "Premier League             66.03      20.34              84.89       38   \n",
       "\n",
       "                  Win_Rate  \n",
       "competition                 \n",
       "Champions League      60.0  \n",
       "EFL Cup               33.3  \n",
       "FA Cup                66.7  \n",
       "Premier League        68.4  "
      ]
     },
     "metadata": {},
     "output_type": "display_data"
    },
    {
     "name": "stdout",
     "output_type": "stream",
     "text": [
      "\n",
      "Real Madrid Competition Efficiency:\n"
     ]
    },
    {
     "data": {
      "text/html": [
       "<div>\n",
       "<style scoped>\n",
       "    .dataframe tbody tr th:only-of-type {\n",
       "        vertical-align: middle;\n",
       "    }\n",
       "\n",
       "    .dataframe tbody tr th {\n",
       "        vertical-align: top;\n",
       "    }\n",
       "\n",
       "    .dataframe thead th {\n",
       "        text-align: right;\n",
       "    }\n",
       "</style>\n",
       "<table border=\"1\" class=\"dataframe\">\n",
       "  <thead>\n",
       "    <tr style=\"text-align: right;\">\n",
       "      <th></th>\n",
       "      <th>Wins</th>\n",
       "      <th>Total_Goals</th>\n",
       "      <th>Avg_Goals</th>\n",
       "      <th>Total_Conceded</th>\n",
       "      <th>Avg_Conceded</th>\n",
       "      <th>Avg_Possession</th>\n",
       "      <th>Avg_Shots</th>\n",
       "      <th>Avg_Pass_Accuracy</th>\n",
       "      <th>Matches</th>\n",
       "      <th>Win_Rate</th>\n",
       "    </tr>\n",
       "    <tr>\n",
       "      <th>competition</th>\n",
       "      <th></th>\n",
       "      <th></th>\n",
       "      <th></th>\n",
       "      <th></th>\n",
       "      <th></th>\n",
       "      <th></th>\n",
       "      <th></th>\n",
       "      <th></th>\n",
       "      <th></th>\n",
       "      <th></th>\n",
       "    </tr>\n",
       "  </thead>\n",
       "  <tbody>\n",
       "    <tr>\n",
       "      <th>Champions League</th>\n",
       "      <td>2</td>\n",
       "      <td>9</td>\n",
       "      <td>1.80</td>\n",
       "      <td>6</td>\n",
       "      <td>1.20</td>\n",
       "      <td>67.40</td>\n",
       "      <td>14.20</td>\n",
       "      <td>85.60</td>\n",
       "      <td>5</td>\n",
       "      <td>40.0</td>\n",
       "    </tr>\n",
       "    <tr>\n",
       "      <th>Copa del Rey</th>\n",
       "      <td>1</td>\n",
       "      <td>3</td>\n",
       "      <td>1.00</td>\n",
       "      <td>5</td>\n",
       "      <td>1.67</td>\n",
       "      <td>59.67</td>\n",
       "      <td>12.33</td>\n",
       "      <td>88.67</td>\n",
       "      <td>3</td>\n",
       "      <td>33.3</td>\n",
       "    </tr>\n",
       "    <tr>\n",
       "      <th>La Liga</th>\n",
       "      <td>25</td>\n",
       "      <td>78</td>\n",
       "      <td>2.05</td>\n",
       "      <td>44</td>\n",
       "      <td>1.16</td>\n",
       "      <td>63.58</td>\n",
       "      <td>13.08</td>\n",
       "      <td>86.58</td>\n",
       "      <td>38</td>\n",
       "      <td>65.8</td>\n",
       "    </tr>\n",
       "  </tbody>\n",
       "</table>\n",
       "</div>"
      ],
      "text/plain": [
       "                  Wins  Total_Goals  Avg_Goals  Total_Conceded  Avg_Conceded  \\\n",
       "competition                                                                    \n",
       "Champions League     2            9       1.80               6          1.20   \n",
       "Copa del Rey         1            3       1.00               5          1.67   \n",
       "La Liga             25           78       2.05              44          1.16   \n",
       "\n",
       "                  Avg_Possession  Avg_Shots  Avg_Pass_Accuracy  Matches  \\\n",
       "competition                                                               \n",
       "Champions League           67.40      14.20              85.60        5   \n",
       "Copa del Rey               59.67      12.33              88.67        3   \n",
       "La Liga                    63.58      13.08              86.58       38   \n",
       "\n",
       "                  Win_Rate  \n",
       "competition                 \n",
       "Champions League      40.0  \n",
       "Copa del Rey          33.3  \n",
       "La Liga               65.8  "
      ]
     },
     "metadata": {},
     "output_type": "display_data"
    }
   ],
   "source": [
    "# Competition performance comparison\n",
    "print(\"COMPETITION PERFORMANCE COMPARISON\")\n",
    "print(\"=\" * 60)\n",
    "\n",
    "# Manchester City competition performance\n",
    "print(\"\\nManchester City Competition Summary:\")\n",
    "display(mc_competition)\n",
    "\n",
    "# Real Madrid competition performance\n",
    "print(\"\\nReal Madrid Competition Summary:\")\n",
    "display(rm_competition)\n",
    "\n",
    "# Calculate competition efficiency metrics\n",
    "def calculate_competition_efficiency(matches_df: pd.DataFrame) -> pd.DataFrame:\n",
    "    \"\"\"Calculate efficiency metrics by competition.\"\"\"\n",
    "    comp_stats: pd.DataFrame = matches_df.groupby('competition').agg({\n",
    "        'result': lambda x: (x == 'Win').sum(),  # Wins\n",
    "        'manchester_city_score': ['sum', 'mean'],  # Goals for\n",
    "        'opponent_score': ['sum', 'mean'],  # Goals against\n",
    "        'possession_percentage': 'mean',\n",
    "        'shots_total': 'mean',\n",
    "        'pass_accuracy': 'mean'\n",
    "    })\n",
    "    comp_stats = comp_stats.round(2)\n",
    "    \n",
    "    comp_stats.columns = ['Wins', 'Total_Goals', 'Avg_Goals', 'Total_Conceded', \n",
    "                         'Avg_Conceded', 'Avg_Possession', 'Avg_Shots', 'Avg_Pass_Accuracy']\n",
    "    \n",
    "    # Calculate win rate\n",
    "    match_counts: pd.Series = matches_df['competition'].value_counts()\n",
    "    comp_stats['Matches'] = match_counts\n",
    "    comp_stats['Win_Rate'] = (comp_stats['Wins'] / comp_stats['Matches'] * 100).round(1)\n",
    "    \n",
    "    return comp_stats\n",
    "\n",
    "mc_comp_efficiency = calculate_competition_efficiency(mc_matches)\n",
    "rm_comp_efficiency = calculate_competition_efficiency(rm_matches)\n",
    "\n",
    "print(\"\\nManchester City Competition Efficiency:\")\n",
    "display(mc_comp_efficiency)\n",
    "\n",
    "print(\"\\nReal Madrid Competition Efficiency:\")\n",
    "display(rm_comp_efficiency)"
   ]
  },
  {
   "cell_type": "code",
   "execution_count": 12,
   "metadata": {},
   "outputs": [
    {
     "data": {
      "application/vnd.plotly.v1+json": {
       "config": {
        "plotlyServerURL": "https://plot.ly"
       },
       "data": [
        {
         "marker": {
          "color": "#6CABDD"
         },
         "name": "Manchester City",
         "type": "bar",
         "x": [
          "Champions League"
         ],
         "xaxis": "x",
         "y": [
          60
         ],
         "yaxis": "y"
        },
        {
         "marker": {
          "color": "#FEBE10"
         },
         "name": "Real Madrid",
         "type": "bar",
         "x": [
          "Champions League"
         ],
         "xaxis": "x",
         "y": [
          40
         ],
         "yaxis": "y"
        },
        {
         "marker": {
          "color": "#6CABDD"
         },
         "name": "Manchester City",
         "showlegend": false,
         "type": "bar",
         "x": [
          "Champions League"
         ],
         "xaxis": "x2",
         "y": [
          1.3
         ],
         "yaxis": "y2"
        },
        {
         "marker": {
          "color": "#FEBE10"
         },
         "name": "Real Madrid",
         "showlegend": false,
         "type": "bar",
         "x": [
          "Champions League"
         ],
         "xaxis": "x2",
         "y": [
          1.8
         ],
         "yaxis": "y2"
        },
        {
         "marker": {
          "color": "#6CABDD"
         },
         "name": "Manchester City",
         "showlegend": false,
         "type": "bar",
         "x": [
          "Champions League"
         ],
         "xaxis": "x3",
         "y": [
          64.7
         ],
         "yaxis": "y3"
        },
        {
         "marker": {
          "color": "#FEBE10"
         },
         "name": "Real Madrid",
         "showlegend": false,
         "type": "bar",
         "x": [
          "Champions League"
         ],
         "xaxis": "x3",
         "y": [
          67.4
         ],
         "yaxis": "y3"
        },
        {
         "marker": {
          "color": "#6CABDD"
         },
         "name": "Manchester City",
         "showlegend": false,
         "type": "bar",
         "x": [
          "Champions League"
         ],
         "xaxis": "x4",
         "y": [
          84
         ],
         "yaxis": "y4"
        },
        {
         "marker": {
          "color": "#FEBE10"
         },
         "name": "Real Madrid",
         "showlegend": false,
         "type": "bar",
         "x": [
          "Champions League"
         ],
         "xaxis": "x4",
         "y": [
          85.6
         ],
         "yaxis": "y4"
        }
       ],
       "layout": {
        "annotations": [
         {
          "font": {
           "size": 16
          },
          "showarrow": false,
          "text": "Win Rate by Competition",
          "x": 0.225,
          "xanchor": "center",
          "xref": "paper",
          "y": 1,
          "yanchor": "bottom",
          "yref": "paper"
         },
         {
          "font": {
           "size": 16
          },
          "showarrow": false,
          "text": "Goals Scored by Competition",
          "x": 0.775,
          "xanchor": "center",
          "xref": "paper",
          "y": 1,
          "yanchor": "bottom",
          "yref": "paper"
         },
         {
          "font": {
           "size": 16
          },
          "showarrow": false,
          "text": "Possession % by Competition",
          "x": 0.225,
          "xanchor": "center",
          "xref": "paper",
          "y": 0.375,
          "yanchor": "bottom",
          "yref": "paper"
         },
         {
          "font": {
           "size": 16
          },
          "showarrow": false,
          "text": "Pass Accuracy by Competition",
          "x": 0.775,
          "xanchor": "center",
          "xref": "paper",
          "y": 0.375,
          "yanchor": "bottom",
          "yref": "paper"
         }
        ],
        "height": 800,
        "template": {
         "data": {
          "bar": [
           {
            "error_x": {
             "color": "#2a3f5f"
            },
            "error_y": {
             "color": "#2a3f5f"
            },
            "marker": {
             "line": {
              "color": "#E5ECF6",
              "width": 0.5
             },
             "pattern": {
              "fillmode": "overlay",
              "size": 10,
              "solidity": 0.2
             }
            },
            "type": "bar"
           }
          ],
          "barpolar": [
           {
            "marker": {
             "line": {
              "color": "#E5ECF6",
              "width": 0.5
             },
             "pattern": {
              "fillmode": "overlay",
              "size": 10,
              "solidity": 0.2
             }
            },
            "type": "barpolar"
           }
          ],
          "carpet": [
           {
            "aaxis": {
             "endlinecolor": "#2a3f5f",
             "gridcolor": "white",
             "linecolor": "white",
             "minorgridcolor": "white",
             "startlinecolor": "#2a3f5f"
            },
            "baxis": {
             "endlinecolor": "#2a3f5f",
             "gridcolor": "white",
             "linecolor": "white",
             "minorgridcolor": "white",
             "startlinecolor": "#2a3f5f"
            },
            "type": "carpet"
           }
          ],
          "choropleth": [
           {
            "colorbar": {
             "outlinewidth": 0,
             "ticks": ""
            },
            "type": "choropleth"
           }
          ],
          "contour": [
           {
            "colorbar": {
             "outlinewidth": 0,
             "ticks": ""
            },
            "colorscale": [
             [
              0,
              "#0d0887"
             ],
             [
              0.1111111111111111,
              "#46039f"
             ],
             [
              0.2222222222222222,
              "#7201a8"
             ],
             [
              0.3333333333333333,
              "#9c179e"
             ],
             [
              0.4444444444444444,
              "#bd3786"
             ],
             [
              0.5555555555555556,
              "#d8576b"
             ],
             [
              0.6666666666666666,
              "#ed7953"
             ],
             [
              0.7777777777777778,
              "#fb9f3a"
             ],
             [
              0.8888888888888888,
              "#fdca26"
             ],
             [
              1,
              "#f0f921"
             ]
            ],
            "type": "contour"
           }
          ],
          "contourcarpet": [
           {
            "colorbar": {
             "outlinewidth": 0,
             "ticks": ""
            },
            "type": "contourcarpet"
           }
          ],
          "heatmap": [
           {
            "colorbar": {
             "outlinewidth": 0,
             "ticks": ""
            },
            "colorscale": [
             [
              0,
              "#0d0887"
             ],
             [
              0.1111111111111111,
              "#46039f"
             ],
             [
              0.2222222222222222,
              "#7201a8"
             ],
             [
              0.3333333333333333,
              "#9c179e"
             ],
             [
              0.4444444444444444,
              "#bd3786"
             ],
             [
              0.5555555555555556,
              "#d8576b"
             ],
             [
              0.6666666666666666,
              "#ed7953"
             ],
             [
              0.7777777777777778,
              "#fb9f3a"
             ],
             [
              0.8888888888888888,
              "#fdca26"
             ],
             [
              1,
              "#f0f921"
             ]
            ],
            "type": "heatmap"
           }
          ],
          "heatmapgl": [
           {
            "colorbar": {
             "outlinewidth": 0,
             "ticks": ""
            },
            "colorscale": [
             [
              0,
              "#0d0887"
             ],
             [
              0.1111111111111111,
              "#46039f"
             ],
             [
              0.2222222222222222,
              "#7201a8"
             ],
             [
              0.3333333333333333,
              "#9c179e"
             ],
             [
              0.4444444444444444,
              "#bd3786"
             ],
             [
              0.5555555555555556,
              "#d8576b"
             ],
             [
              0.6666666666666666,
              "#ed7953"
             ],
             [
              0.7777777777777778,
              "#fb9f3a"
             ],
             [
              0.8888888888888888,
              "#fdca26"
             ],
             [
              1,
              "#f0f921"
             ]
            ],
            "type": "heatmapgl"
           }
          ],
          "histogram": [
           {
            "marker": {
             "pattern": {
              "fillmode": "overlay",
              "size": 10,
              "solidity": 0.2
             }
            },
            "type": "histogram"
           }
          ],
          "histogram2d": [
           {
            "colorbar": {
             "outlinewidth": 0,
             "ticks": ""
            },
            "colorscale": [
             [
              0,
              "#0d0887"
             ],
             [
              0.1111111111111111,
              "#46039f"
             ],
             [
              0.2222222222222222,
              "#7201a8"
             ],
             [
              0.3333333333333333,
              "#9c179e"
             ],
             [
              0.4444444444444444,
              "#bd3786"
             ],
             [
              0.5555555555555556,
              "#d8576b"
             ],
             [
              0.6666666666666666,
              "#ed7953"
             ],
             [
              0.7777777777777778,
              "#fb9f3a"
             ],
             [
              0.8888888888888888,
              "#fdca26"
             ],
             [
              1,
              "#f0f921"
             ]
            ],
            "type": "histogram2d"
           }
          ],
          "histogram2dcontour": [
           {
            "colorbar": {
             "outlinewidth": 0,
             "ticks": ""
            },
            "colorscale": [
             [
              0,
              "#0d0887"
             ],
             [
              0.1111111111111111,
              "#46039f"
             ],
             [
              0.2222222222222222,
              "#7201a8"
             ],
             [
              0.3333333333333333,
              "#9c179e"
             ],
             [
              0.4444444444444444,
              "#bd3786"
             ],
             [
              0.5555555555555556,
              "#d8576b"
             ],
             [
              0.6666666666666666,
              "#ed7953"
             ],
             [
              0.7777777777777778,
              "#fb9f3a"
             ],
             [
              0.8888888888888888,
              "#fdca26"
             ],
             [
              1,
              "#f0f921"
             ]
            ],
            "type": "histogram2dcontour"
           }
          ],
          "mesh3d": [
           {
            "colorbar": {
             "outlinewidth": 0,
             "ticks": ""
            },
            "type": "mesh3d"
           }
          ],
          "parcoords": [
           {
            "line": {
             "colorbar": {
              "outlinewidth": 0,
              "ticks": ""
             }
            },
            "type": "parcoords"
           }
          ],
          "pie": [
           {
            "automargin": true,
            "type": "pie"
           }
          ],
          "scatter": [
           {
            "fillpattern": {
             "fillmode": "overlay",
             "size": 10,
             "solidity": 0.2
            },
            "type": "scatter"
           }
          ],
          "scatter3d": [
           {
            "line": {
             "colorbar": {
              "outlinewidth": 0,
              "ticks": ""
             }
            },
            "marker": {
             "colorbar": {
              "outlinewidth": 0,
              "ticks": ""
             }
            },
            "type": "scatter3d"
           }
          ],
          "scattercarpet": [
           {
            "marker": {
             "colorbar": {
              "outlinewidth": 0,
              "ticks": ""
             }
            },
            "type": "scattercarpet"
           }
          ],
          "scattergeo": [
           {
            "marker": {
             "colorbar": {
              "outlinewidth": 0,
              "ticks": ""
             }
            },
            "type": "scattergeo"
           }
          ],
          "scattergl": [
           {
            "marker": {
             "colorbar": {
              "outlinewidth": 0,
              "ticks": ""
             }
            },
            "type": "scattergl"
           }
          ],
          "scattermapbox": [
           {
            "marker": {
             "colorbar": {
              "outlinewidth": 0,
              "ticks": ""
             }
            },
            "type": "scattermapbox"
           }
          ],
          "scatterpolar": [
           {
            "marker": {
             "colorbar": {
              "outlinewidth": 0,
              "ticks": ""
             }
            },
            "type": "scatterpolar"
           }
          ],
          "scatterpolargl": [
           {
            "marker": {
             "colorbar": {
              "outlinewidth": 0,
              "ticks": ""
             }
            },
            "type": "scatterpolargl"
           }
          ],
          "scatterternary": [
           {
            "marker": {
             "colorbar": {
              "outlinewidth": 0,
              "ticks": ""
             }
            },
            "type": "scatterternary"
           }
          ],
          "surface": [
           {
            "colorbar": {
             "outlinewidth": 0,
             "ticks": ""
            },
            "colorscale": [
             [
              0,
              "#0d0887"
             ],
             [
              0.1111111111111111,
              "#46039f"
             ],
             [
              0.2222222222222222,
              "#7201a8"
             ],
             [
              0.3333333333333333,
              "#9c179e"
             ],
             [
              0.4444444444444444,
              "#bd3786"
             ],
             [
              0.5555555555555556,
              "#d8576b"
             ],
             [
              0.6666666666666666,
              "#ed7953"
             ],
             [
              0.7777777777777778,
              "#fb9f3a"
             ],
             [
              0.8888888888888888,
              "#fdca26"
             ],
             [
              1,
              "#f0f921"
             ]
            ],
            "type": "surface"
           }
          ],
          "table": [
           {
            "cells": {
             "fill": {
              "color": "#EBF0F8"
             },
             "line": {
              "color": "white"
             }
            },
            "header": {
             "fill": {
              "color": "#C8D4E3"
             },
             "line": {
              "color": "white"
             }
            },
            "type": "table"
           }
          ]
         },
         "layout": {
          "annotationdefaults": {
           "arrowcolor": "#2a3f5f",
           "arrowhead": 0,
           "arrowwidth": 1
          },
          "autotypenumbers": "strict",
          "coloraxis": {
           "colorbar": {
            "outlinewidth": 0,
            "ticks": ""
           }
          },
          "colorscale": {
           "diverging": [
            [
             0,
             "#8e0152"
            ],
            [
             0.1,
             "#c51b7d"
            ],
            [
             0.2,
             "#de77ae"
            ],
            [
             0.3,
             "#f1b6da"
            ],
            [
             0.4,
             "#fde0ef"
            ],
            [
             0.5,
             "#f7f7f7"
            ],
            [
             0.6,
             "#e6f5d0"
            ],
            [
             0.7,
             "#b8e186"
            ],
            [
             0.8,
             "#7fbc41"
            ],
            [
             0.9,
             "#4d9221"
            ],
            [
             1,
             "#276419"
            ]
           ],
           "sequential": [
            [
             0,
             "#0d0887"
            ],
            [
             0.1111111111111111,
             "#46039f"
            ],
            [
             0.2222222222222222,
             "#7201a8"
            ],
            [
             0.3333333333333333,
             "#9c179e"
            ],
            [
             0.4444444444444444,
             "#bd3786"
            ],
            [
             0.5555555555555556,
             "#d8576b"
            ],
            [
             0.6666666666666666,
             "#ed7953"
            ],
            [
             0.7777777777777778,
             "#fb9f3a"
            ],
            [
             0.8888888888888888,
             "#fdca26"
            ],
            [
             1,
             "#f0f921"
            ]
           ],
           "sequentialminus": [
            [
             0,
             "#0d0887"
            ],
            [
             0.1111111111111111,
             "#46039f"
            ],
            [
             0.2222222222222222,
             "#7201a8"
            ],
            [
             0.3333333333333333,
             "#9c179e"
            ],
            [
             0.4444444444444444,
             "#bd3786"
            ],
            [
             0.5555555555555556,
             "#d8576b"
            ],
            [
             0.6666666666666666,
             "#ed7953"
            ],
            [
             0.7777777777777778,
             "#fb9f3a"
            ],
            [
             0.8888888888888888,
             "#fdca26"
            ],
            [
             1,
             "#f0f921"
            ]
           ]
          },
          "colorway": [
           "#636efa",
           "#EF553B",
           "#00cc96",
           "#ab63fa",
           "#FFA15A",
           "#19d3f3",
           "#FF6692",
           "#B6E880",
           "#FF97FF",
           "#FECB52"
          ],
          "font": {
           "color": "#2a3f5f"
          },
          "geo": {
           "bgcolor": "white",
           "lakecolor": "white",
           "landcolor": "#E5ECF6",
           "showlakes": true,
           "showland": true,
           "subunitcolor": "white"
          },
          "hoverlabel": {
           "align": "left"
          },
          "hovermode": "closest",
          "mapbox": {
           "style": "light"
          },
          "paper_bgcolor": "white",
          "plot_bgcolor": "#E5ECF6",
          "polar": {
           "angularaxis": {
            "gridcolor": "white",
            "linecolor": "white",
            "ticks": ""
           },
           "bgcolor": "#E5ECF6",
           "radialaxis": {
            "gridcolor": "white",
            "linecolor": "white",
            "ticks": ""
           }
          },
          "scene": {
           "xaxis": {
            "backgroundcolor": "#E5ECF6",
            "gridcolor": "white",
            "gridwidth": 2,
            "linecolor": "white",
            "showbackground": true,
            "ticks": "",
            "zerolinecolor": "white"
           },
           "yaxis": {
            "backgroundcolor": "#E5ECF6",
            "gridcolor": "white",
            "gridwidth": 2,
            "linecolor": "white",
            "showbackground": true,
            "ticks": "",
            "zerolinecolor": "white"
           },
           "zaxis": {
            "backgroundcolor": "#E5ECF6",
            "gridcolor": "white",
            "gridwidth": 2,
            "linecolor": "white",
            "showbackground": true,
            "ticks": "",
            "zerolinecolor": "white"
           }
          },
          "shapedefaults": {
           "line": {
            "color": "#2a3f5f"
           }
          },
          "ternary": {
           "aaxis": {
            "gridcolor": "white",
            "linecolor": "white",
            "ticks": ""
           },
           "baxis": {
            "gridcolor": "white",
            "linecolor": "white",
            "ticks": ""
           },
           "bgcolor": "#E5ECF6",
           "caxis": {
            "gridcolor": "white",
            "linecolor": "white",
            "ticks": ""
           }
          },
          "title": {
           "x": 0.05
          },
          "xaxis": {
           "automargin": true,
           "gridcolor": "white",
           "linecolor": "white",
           "ticks": "",
           "title": {
            "standoff": 15
           },
           "zerolinecolor": "white",
           "zerolinewidth": 2
          },
          "yaxis": {
           "automargin": true,
           "gridcolor": "white",
           "linecolor": "white",
           "ticks": "",
           "title": {
            "standoff": 15
           },
           "zerolinecolor": "white",
           "zerolinewidth": 2
          }
         }
        },
        "title": {
         "text": " Competition Performance Analysis"
        },
        "xaxis": {
         "anchor": "y",
         "domain": [
          0,
          0.45
         ]
        },
        "xaxis2": {
         "anchor": "y2",
         "domain": [
          0.55,
          1
         ]
        },
        "xaxis3": {
         "anchor": "y3",
         "domain": [
          0,
          0.45
         ]
        },
        "xaxis4": {
         "anchor": "y4",
         "domain": [
          0.55,
          1
         ]
        },
        "yaxis": {
         "anchor": "x",
         "domain": [
          0.625,
          1
         ]
        },
        "yaxis2": {
         "anchor": "x2",
         "domain": [
          0.625,
          1
         ]
        },
        "yaxis3": {
         "anchor": "x3",
         "domain": [
          0,
          0.375
         ]
        },
        "yaxis4": {
         "anchor": "x4",
         "domain": [
          0,
          0.375
         ]
        }
       }
      }
     },
     "metadata": {},
     "output_type": "display_data"
    }
   ],
   "source": [
    "# Competition performance visualization\n",
    "fig = make_subplots(\n",
    "    rows=2, cols=2,\n",
    "    subplot_titles=('Win Rate by Competition', 'Goals Scored by Competition',\n",
    "                   'Possession % by Competition', 'Pass Accuracy by Competition')\n",
    ")\n",
    "\n",
    "# Get common competitions\n",
    "common_competitions = set(mc_comp_efficiency.index) & set(rm_comp_efficiency.index)\n",
    "\n",
    "# Win Rate by Competition\n",
    "mc_win_rates = [mc_comp_efficiency.loc[comp, 'Win_Rate'] if comp in mc_comp_efficiency.index else 0 \n",
    "                for comp in common_competitions]\n",
    "rm_win_rates = [rm_comp_efficiency.loc[comp, 'Win_Rate'] if comp in rm_comp_efficiency.index else 0 \n",
    "                for comp in common_competitions]\n",
    "\n",
    "fig.add_trace(\n",
    "    go.Bar(x=list(common_competitions), y=mc_win_rates, \n",
    "           name='Manchester City', marker_color='#6CABDD'),\n",
    "    row=1, col=1\n",
    ")\n",
    "fig.add_trace(\n",
    "    go.Bar(x=list(common_competitions), y=rm_win_rates, \n",
    "           name='Real Madrid', marker_color='#FEBE10'),\n",
    "    row=1, col=1\n",
    ")\n",
    "\n",
    "# Goals by Competition\n",
    "mc_goals = [mc_comp_efficiency.loc[comp, 'Avg_Goals'] if comp in mc_comp_efficiency.index else 0 \n",
    "            for comp in common_competitions]\n",
    "rm_goals = [rm_comp_efficiency.loc[comp, 'Avg_Goals'] if comp in rm_comp_efficiency.index else 0 \n",
    "            for comp in common_competitions]\n",
    "\n",
    "fig.add_trace(\n",
    "    go.Bar(x=list(common_competitions), y=mc_goals, \n",
    "           name='Manchester City', marker_color='#6CABDD', showlegend=False),\n",
    "    row=1, col=2\n",
    ")\n",
    "fig.add_trace(\n",
    "    go.Bar(x=list(common_competitions), y=rm_goals, \n",
    "           name='Real Madrid', marker_color='#FEBE10', showlegend=False),\n",
    "    row=1, col=2\n",
    ")\n",
    "\n",
    "# Possession by Competition\n",
    "mc_possession = [mc_comp_efficiency.loc[comp, 'Avg_Possession'] if comp in mc_comp_efficiency.index else 0 \n",
    "                 for comp in common_competitions]\n",
    "rm_possession = [rm_comp_efficiency.loc[comp, 'Avg_Possession'] if comp in rm_comp_efficiency.index else 0 \n",
    "                 for comp in common_competitions]\n",
    "\n",
    "fig.add_trace(\n",
    "    go.Bar(x=list(common_competitions), y=mc_possession, \n",
    "           name='Manchester City', marker_color='#6CABDD', showlegend=False),\n",
    "    row=2, col=1\n",
    ")\n",
    "fig.add_trace(\n",
    "    go.Bar(x=list(common_competitions), y=rm_possession, \n",
    "           name='Real Madrid', marker_color='#FEBE10', showlegend=False),\n",
    "    row=2, col=1\n",
    ")\n",
    "\n",
    "# Pass Accuracy by Competition\n",
    "mc_pass_acc = [mc_comp_efficiency.loc[comp, 'Avg_Pass_Accuracy'] if comp in mc_comp_efficiency.index else 0 \n",
    "               for comp in common_competitions]\n",
    "rm_pass_acc = [rm_comp_efficiency.loc[comp, 'Avg_Pass_Accuracy'] if comp in rm_comp_efficiency.index else 0 \n",
    "               for comp in common_competitions]\n",
    "\n",
    "fig.add_trace(\n",
    "    go.Bar(x=list(common_competitions), y=mc_pass_acc, \n",
    "           name='Manchester City', marker_color='#6CABDD', showlegend=False),\n",
    "    row=2, col=2\n",
    ")\n",
    "fig.add_trace(\n",
    "    go.Bar(x=list(common_competitions), y=rm_pass_acc, \n",
    "           name='Real Madrid', marker_color='#FEBE10', showlegend=False),\n",
    "    row=2, col=2\n",
    ")\n",
    "\n",
    "fig.update_layout(height=800, title_text=\" Competition Performance Analysis\")\n",
    "fig.show()"
   ]
  },
  {
   "cell_type": "markdown",
   "metadata": {},
   "source": [
    "## Advanced Statistical Analysis"
   ]
  },
  {
   "cell_type": "code",
   "execution_count": 13,
   "metadata": {},
   "outputs": [
    {
     "name": "stdout",
     "output_type": "stream",
     "text": [
      " ADVANCED STATISTICAL ANALYSIS\n",
      "============================================================\n",
      "\n",
      " Statistical Test Results:\n"
     ]
    },
    {
     "data": {
      "text/html": [
       "<div>\n",
       "<style scoped>\n",
       "    .dataframe tbody tr th:only-of-type {\n",
       "        vertical-align: middle;\n",
       "    }\n",
       "\n",
       "    .dataframe tbody tr th {\n",
       "        vertical-align: top;\n",
       "    }\n",
       "\n",
       "    .dataframe thead th {\n",
       "        text-align: right;\n",
       "    }\n",
       "</style>\n",
       "<table border=\"1\" class=\"dataframe\">\n",
       "  <thead>\n",
       "    <tr style=\"text-align: right;\">\n",
       "      <th></th>\n",
       "      <th>metric</th>\n",
       "      <th>mc_mean</th>\n",
       "      <th>rm_mean</th>\n",
       "      <th>t_p_value</th>\n",
       "      <th>significant</th>\n",
       "    </tr>\n",
       "  </thead>\n",
       "  <tbody>\n",
       "    <tr>\n",
       "      <th>0</th>\n",
       "      <td>Goals per 90</td>\n",
       "      <td>0.0906</td>\n",
       "      <td>0.1338</td>\n",
       "      <td>0.1998</td>\n",
       "      <td>False</td>\n",
       "    </tr>\n",
       "    <tr>\n",
       "      <th>1</th>\n",
       "      <td>Assists per 90</td>\n",
       "      <td>0.1097</td>\n",
       "      <td>0.1483</td>\n",
       "      <td>0.1369</td>\n",
       "      <td>False</td>\n",
       "    </tr>\n",
       "    <tr>\n",
       "      <th>2</th>\n",
       "      <td>Average Rating</td>\n",
       "      <td>7.5742</td>\n",
       "      <td>7.3750</td>\n",
       "      <td>0.0229</td>\n",
       "      <td>True</td>\n",
       "    </tr>\n",
       "    <tr>\n",
       "      <th>3</th>\n",
       "      <td>Shots per 90</td>\n",
       "      <td>2.0603</td>\n",
       "      <td>3.1075</td>\n",
       "      <td>0.0050</td>\n",
       "      <td>True</td>\n",
       "    </tr>\n",
       "    <tr>\n",
       "      <th>4</th>\n",
       "      <td>Passes per 90</td>\n",
       "      <td>54.9613</td>\n",
       "      <td>74.8375</td>\n",
       "      <td>0.0000</td>\n",
       "      <td>True</td>\n",
       "    </tr>\n",
       "  </tbody>\n",
       "</table>\n",
       "</div>"
      ],
      "text/plain": [
       "           metric  mc_mean  rm_mean  t_p_value  significant\n",
       "0    Goals per 90   0.0906   0.1338     0.1998        False\n",
       "1  Assists per 90   0.1097   0.1483     0.1369        False\n",
       "2  Average Rating   7.5742   7.3750     0.0229         True\n",
       "3    Shots per 90   2.0603   3.1075     0.0050         True\n",
       "4   Passes per 90  54.9613  74.8375     0.0000         True"
      ]
     },
     "metadata": {},
     "output_type": "display_data"
    }
   ],
   "source": [
    "# Advanced statistical analysis\n",
    "from scipy import stats\n",
    "import numpy as np\n",
    "\n",
    "print(\" ADVANCED STATISTICAL ANALYSIS\")\n",
    "print(\"=\" * 60)\n",
    "\n",
    "# Statistical tests comparing teams\n",
    "def perform_statistical_tests(mc_data, rm_data, metric_name):\n",
    "    \"\"\"Perform statistical tests between teams.\"\"\"\n",
    "    # Remove any NaN values\n",
    "    mc_clean = mc_data.dropna()\n",
    "    rm_clean = rm_data.dropna()\n",
    "    \n",
    "    if len(mc_clean) == 0 or len(rm_clean) == 0:\n",
    "        return None\n",
    "    \n",
    "    # T-test\n",
    "    t_stat, t_p_value = stats.ttest_ind(mc_clean, rm_clean)\n",
    "    \n",
    "    # Mann-Whitney U test (non-parametric)\n",
    "    u_stat, u_p_value = stats.mannwhitneyu(mc_clean, rm_clean, alternative='two-sided')\n",
    "    \n",
    "    return {\n",
    "        'metric': metric_name,\n",
    "        'mc_mean': mc_clean.mean(),\n",
    "        'rm_mean': rm_clean.mean(),\n",
    "        'mc_std': mc_clean.std(),\n",
    "        'rm_std': rm_clean.std(),\n",
    "        't_statistic': t_stat,\n",
    "        't_p_value': t_p_value,\n",
    "        'u_statistic': u_stat,\n",
    "        'u_p_value': u_p_value,\n",
    "        'significant': t_p_value < 0.05\n",
    "    }\n",
    "\n",
    "# Perform tests on key metrics\n",
    "metrics_to_test = [\n",
    "    ('goals_per_90', 'Goals per 90'),\n",
    "    ('assists_per_90', 'Assists per 90'),\n",
    "    ('avg_rating', 'Average Rating'),\n",
    "    ('shots_per_90', 'Shots per 90'),\n",
    "    ('passes_per_90', 'Passes per 90')\n",
    "]\n",
    "\n",
    "statistical_results = []\n",
    "for metric_col, metric_name in metrics_to_test:\n",
    "    if metric_col in mc_season_stats.columns and metric_col in rm_season_stats.columns:\n",
    "        result = perform_statistical_tests(\n",
    "            mc_season_stats[metric_col], \n",
    "            rm_season_stats[metric_col], \n",
    "            metric_name\n",
    "        )\n",
    "        if result:\n",
    "            statistical_results.append(result)\n",
    "\n",
    "# Display results\n",
    "stats_df = pd.DataFrame(statistical_results)\n",
    "if not stats_df.empty:\n",
    "    stats_df = stats_df.round(4)\n",
    "    print(\"\\n Statistical Test Results:\")\n",
    "    display(stats_df[['metric', 'mc_mean', 'rm_mean', 't_p_value', 'significant']])\n",
    "else:\n",
    "    print(\"\\n No statistical tests could be performed due to data limitations.\")"
   ]
  },
  {
   "cell_type": "markdown",
   "metadata": {},
   "source": [
    "## Correlation Analysis"
   ]
  },
  {
   "cell_type": "code",
   "execution_count": 19,
   "metadata": {},
   "outputs": [
    {
     "name": "stdout",
     "output_type": "stream",
     "text": [
      " CORRELATION ANALYSIS\n",
      "==================================================\n"
     ]
    },
    {
     "data": {
      "application/vnd.plotly.v1+json": {
       "config": {
        "plotlyServerURL": "https://plot.ly"
       },
       "data": [
        {
         "colorscale": [
          [
           0,
           "rgb(103,0,31)"
          ],
          [
           0.1,
           "rgb(178,24,43)"
          ],
          [
           0.2,
           "rgb(214,96,77)"
          ],
          [
           0.3,
           "rgb(244,165,130)"
          ],
          [
           0.4,
           "rgb(253,219,199)"
          ],
          [
           0.5,
           "rgb(247,247,247)"
          ],
          [
           0.6,
           "rgb(209,229,240)"
          ],
          [
           0.7,
           "rgb(146,197,222)"
          ],
          [
           0.8,
           "rgb(67,147,195)"
          ],
          [
           0.9,
           "rgb(33,102,172)"
          ],
          [
           1,
           "rgb(5,48,97)"
          ]
         ],
         "showscale": true,
         "type": "heatmap",
         "x": [
          "goals",
          "assists",
          "avg_rating",
          "goals_per_90",
          "assists_per_90",
          "shots_per_90",
          "passes_per_90",
          "tackles_per_90",
          "total_minutes"
         ],
         "xaxis": "x",
         "y": [
          "goals",
          "assists",
          "avg_rating",
          "goals_per_90",
          "assists_per_90",
          "shots_per_90",
          "passes_per_90",
          "tackles_per_90",
          "total_minutes"
         ],
         "yaxis": "y",
         "z": [
          [
           1,
           0.7915570122169925,
           -0.13215359604020394,
           0.9741215342289907,
           0.6047445461893302,
           0.19841803854560897,
           0.4790615135542917,
           0.09345711869004798,
           0.6993709103781683
          ],
          [
           0.7915570122169925,
           1,
           -0.1357393975710717,
           0.789040955777494,
           0.870774659461029,
           0.25139733679217235,
           0.5250499998552771,
           0.10924625921778366,
           0.6862765745620549
          ],
          [
           -0.13215359604020394,
           -0.1357393975710717,
           1,
           -0.1585076317579207,
           -0.1426067295869835,
           -0.26373025146533996,
           -0.33132627381284163,
           -0.08204992013164732,
           -0.21266322102846627
          ],
          [
           0.9741215342289907,
           0.789040955777494,
           -0.1585076317579207,
           1,
           0.6592740703613353,
           0.20117256122916952,
           0.4805032852837919,
           0.08508680387614535,
           0.6884274152010296
          ],
          [
           0.6047445461893302,
           0.870774659461029,
           -0.1426067295869835,
           0.6592740703613353,
           1,
           0.2338175265860974,
           0.5077203065023855,
           0.18957628135923535,
           0.49465683505557245
          ],
          [
           0.19841803854560897,
           0.25139733679217235,
           -0.26373025146533996,
           0.20117256122916952,
           0.2338175265860974,
           1,
           0.39931383519022223,
           -0.33571858891320727,
           0.15267680472285142
          ],
          [
           0.4790615135542917,
           0.5250499998552771,
           -0.33132627381284163,
           0.4805032852837919,
           0.5077203065023855,
           0.39931383519022223,
           1,
           -0.22254238091622558,
           0.6866351726713371
          ],
          [
           0.09345711869004798,
           0.10924625921778366,
           -0.08204992013164732,
           0.08508680387614535,
           0.18957628135923535,
           -0.33571858891320727,
           -0.22254238091622558,
           1,
           0.1301003740024066
          ],
          [
           0.6993709103781683,
           0.6862765745620549,
           -0.21266322102846627,
           0.6884274152010296,
           0.49465683505557245,
           0.15267680472285142,
           0.6866351726713371,
           0.1301003740024066,
           1
          ]
         ],
         "zmid": 0
        },
        {
         "colorscale": [
          [
           0,
           "rgb(103,0,31)"
          ],
          [
           0.1,
           "rgb(178,24,43)"
          ],
          [
           0.2,
           "rgb(214,96,77)"
          ],
          [
           0.3,
           "rgb(244,165,130)"
          ],
          [
           0.4,
           "rgb(253,219,199)"
          ],
          [
           0.5,
           "rgb(247,247,247)"
          ],
          [
           0.6,
           "rgb(209,229,240)"
          ],
          [
           0.7,
           "rgb(146,197,222)"
          ],
          [
           0.8,
           "rgb(67,147,195)"
          ],
          [
           0.9,
           "rgb(33,102,172)"
          ],
          [
           1,
           "rgb(5,48,97)"
          ]
         ],
         "showscale": false,
         "type": "heatmap",
         "x": [
          "goals",
          "assists",
          "avg_rating",
          "goals_per_90",
          "assists_per_90",
          "shots_per_90",
          "passes_per_90",
          "tackles_per_90",
          "total_minutes"
         ],
         "xaxis": "x2",
         "y": [
          "goals",
          "assists",
          "avg_rating",
          "goals_per_90",
          "assists_per_90",
          "shots_per_90",
          "passes_per_90",
          "tackles_per_90",
          "total_minutes"
         ],
         "yaxis": "y2",
         "z": [
          [
           1,
           0.30439702956267745,
           0.6601544453987952,
           0.984579824708004,
           0.37243836780565764,
           0.7066182213865368,
           -0.43059912909961123,
           -0.2605944737407339,
           -0.27522131822696555
          ],
          [
           0.30439702956267745,
           1,
           0.25009672575720376,
           0.32314802498333206,
           0.9597411297888014,
           0.26015144102001087,
           -0.27931976114593443,
           -0.1432408378850026,
           -0.2470577728318319
          ],
          [
           0.6601544453987952,
           0.25009672575720376,
           1,
           0.6437782203893666,
           0.28841455142643946,
           0.678621191570778,
           -0.04511598632969489,
           -0.6360617796019836,
           -0.24616479804419952
          ],
          [
           0.984579824708004,
           0.32314802498333206,
           0.6437782203893666,
           1,
           0.42486562960337637,
           0.6943310329405961,
           -0.36892177710189683,
           -0.2691816757402867,
           -0.3536750101788868
          ],
          [
           0.37243836780565764,
           0.9597411297888014,
           0.28841455142643946,
           0.42486562960337637,
           1,
           0.33485411512841445,
           -0.19362602312499055,
           -0.15979382740694184,
           -0.45316612566828957
          ],
          [
           0.7066182213865368,
           0.26015144102001087,
           0.678621191570778,
           0.6943310329405961,
           0.33485411512841445,
           1,
           0.004184500143263082,
           -0.27385197106167963,
           -0.37255624245017244
          ],
          [
           -0.43059912909961123,
           -0.27931976114593443,
           -0.04511598632969489,
           -0.36892177710189683,
           -0.19362602312499055,
           0.004184500143263082,
           1,
           0.17079425879584367,
           -0.27607547981806035
          ],
          [
           -0.2605944737407339,
           -0.1432408378850026,
           -0.6360617796019836,
           -0.2691816757402867,
           -0.15979382740694184,
           -0.27385197106167963,
           0.17079425879584367,
           1,
           -0.10303478998653504
          ],
          [
           -0.27522131822696555,
           -0.2470577728318319,
           -0.24616479804419952,
           -0.3536750101788868,
           -0.45316612566828957,
           -0.37255624245017244,
           -0.27607547981806035,
           -0.10303478998653504,
           1
          ]
         ],
         "zmid": 0
        }
       ],
       "layout": {
        "annotations": [
         {
          "font": {
           "size": 16
          },
          "showarrow": false,
          "text": "Manchester City Correlations",
          "x": 0.225,
          "xanchor": "center",
          "xref": "paper",
          "y": 1,
          "yanchor": "bottom",
          "yref": "paper"
         },
         {
          "font": {
           "size": 16
          },
          "showarrow": false,
          "text": "Real Madrid Correlations",
          "x": 0.775,
          "xanchor": "center",
          "xref": "paper",
          "y": 1,
          "yanchor": "bottom",
          "yref": "paper"
         }
        ],
        "height": 600,
        "template": {
         "data": {
          "bar": [
           {
            "error_x": {
             "color": "#2a3f5f"
            },
            "error_y": {
             "color": "#2a3f5f"
            },
            "marker": {
             "line": {
              "color": "#E5ECF6",
              "width": 0.5
             },
             "pattern": {
              "fillmode": "overlay",
              "size": 10,
              "solidity": 0.2
             }
            },
            "type": "bar"
           }
          ],
          "barpolar": [
           {
            "marker": {
             "line": {
              "color": "#E5ECF6",
              "width": 0.5
             },
             "pattern": {
              "fillmode": "overlay",
              "size": 10,
              "solidity": 0.2
             }
            },
            "type": "barpolar"
           }
          ],
          "carpet": [
           {
            "aaxis": {
             "endlinecolor": "#2a3f5f",
             "gridcolor": "white",
             "linecolor": "white",
             "minorgridcolor": "white",
             "startlinecolor": "#2a3f5f"
            },
            "baxis": {
             "endlinecolor": "#2a3f5f",
             "gridcolor": "white",
             "linecolor": "white",
             "minorgridcolor": "white",
             "startlinecolor": "#2a3f5f"
            },
            "type": "carpet"
           }
          ],
          "choropleth": [
           {
            "colorbar": {
             "outlinewidth": 0,
             "ticks": ""
            },
            "type": "choropleth"
           }
          ],
          "contour": [
           {
            "colorbar": {
             "outlinewidth": 0,
             "ticks": ""
            },
            "colorscale": [
             [
              0,
              "#0d0887"
             ],
             [
              0.1111111111111111,
              "#46039f"
             ],
             [
              0.2222222222222222,
              "#7201a8"
             ],
             [
              0.3333333333333333,
              "#9c179e"
             ],
             [
              0.4444444444444444,
              "#bd3786"
             ],
             [
              0.5555555555555556,
              "#d8576b"
             ],
             [
              0.6666666666666666,
              "#ed7953"
             ],
             [
              0.7777777777777778,
              "#fb9f3a"
             ],
             [
              0.8888888888888888,
              "#fdca26"
             ],
             [
              1,
              "#f0f921"
             ]
            ],
            "type": "contour"
           }
          ],
          "contourcarpet": [
           {
            "colorbar": {
             "outlinewidth": 0,
             "ticks": ""
            },
            "type": "contourcarpet"
           }
          ],
          "heatmap": [
           {
            "colorbar": {
             "outlinewidth": 0,
             "ticks": ""
            },
            "colorscale": [
             [
              0,
              "#0d0887"
             ],
             [
              0.1111111111111111,
              "#46039f"
             ],
             [
              0.2222222222222222,
              "#7201a8"
             ],
             [
              0.3333333333333333,
              "#9c179e"
             ],
             [
              0.4444444444444444,
              "#bd3786"
             ],
             [
              0.5555555555555556,
              "#d8576b"
             ],
             [
              0.6666666666666666,
              "#ed7953"
             ],
             [
              0.7777777777777778,
              "#fb9f3a"
             ],
             [
              0.8888888888888888,
              "#fdca26"
             ],
             [
              1,
              "#f0f921"
             ]
            ],
            "type": "heatmap"
           }
          ],
          "heatmapgl": [
           {
            "colorbar": {
             "outlinewidth": 0,
             "ticks": ""
            },
            "colorscale": [
             [
              0,
              "#0d0887"
             ],
             [
              0.1111111111111111,
              "#46039f"
             ],
             [
              0.2222222222222222,
              "#7201a8"
             ],
             [
              0.3333333333333333,
              "#9c179e"
             ],
             [
              0.4444444444444444,
              "#bd3786"
             ],
             [
              0.5555555555555556,
              "#d8576b"
             ],
             [
              0.6666666666666666,
              "#ed7953"
             ],
             [
              0.7777777777777778,
              "#fb9f3a"
             ],
             [
              0.8888888888888888,
              "#fdca26"
             ],
             [
              1,
              "#f0f921"
             ]
            ],
            "type": "heatmapgl"
           }
          ],
          "histogram": [
           {
            "marker": {
             "pattern": {
              "fillmode": "overlay",
              "size": 10,
              "solidity": 0.2
             }
            },
            "type": "histogram"
           }
          ],
          "histogram2d": [
           {
            "colorbar": {
             "outlinewidth": 0,
             "ticks": ""
            },
            "colorscale": [
             [
              0,
              "#0d0887"
             ],
             [
              0.1111111111111111,
              "#46039f"
             ],
             [
              0.2222222222222222,
              "#7201a8"
             ],
             [
              0.3333333333333333,
              "#9c179e"
             ],
             [
              0.4444444444444444,
              "#bd3786"
             ],
             [
              0.5555555555555556,
              "#d8576b"
             ],
             [
              0.6666666666666666,
              "#ed7953"
             ],
             [
              0.7777777777777778,
              "#fb9f3a"
             ],
             [
              0.8888888888888888,
              "#fdca26"
             ],
             [
              1,
              "#f0f921"
             ]
            ],
            "type": "histogram2d"
           }
          ],
          "histogram2dcontour": [
           {
            "colorbar": {
             "outlinewidth": 0,
             "ticks": ""
            },
            "colorscale": [
             [
              0,
              "#0d0887"
             ],
             [
              0.1111111111111111,
              "#46039f"
             ],
             [
              0.2222222222222222,
              "#7201a8"
             ],
             [
              0.3333333333333333,
              "#9c179e"
             ],
             [
              0.4444444444444444,
              "#bd3786"
             ],
             [
              0.5555555555555556,
              "#d8576b"
             ],
             [
              0.6666666666666666,
              "#ed7953"
             ],
             [
              0.7777777777777778,
              "#fb9f3a"
             ],
             [
              0.8888888888888888,
              "#fdca26"
             ],
             [
              1,
              "#f0f921"
             ]
            ],
            "type": "histogram2dcontour"
           }
          ],
          "mesh3d": [
           {
            "colorbar": {
             "outlinewidth": 0,
             "ticks": ""
            },
            "type": "mesh3d"
           }
          ],
          "parcoords": [
           {
            "line": {
             "colorbar": {
              "outlinewidth": 0,
              "ticks": ""
             }
            },
            "type": "parcoords"
           }
          ],
          "pie": [
           {
            "automargin": true,
            "type": "pie"
           }
          ],
          "scatter": [
           {
            "fillpattern": {
             "fillmode": "overlay",
             "size": 10,
             "solidity": 0.2
            },
            "type": "scatter"
           }
          ],
          "scatter3d": [
           {
            "line": {
             "colorbar": {
              "outlinewidth": 0,
              "ticks": ""
             }
            },
            "marker": {
             "colorbar": {
              "outlinewidth": 0,
              "ticks": ""
             }
            },
            "type": "scatter3d"
           }
          ],
          "scattercarpet": [
           {
            "marker": {
             "colorbar": {
              "outlinewidth": 0,
              "ticks": ""
             }
            },
            "type": "scattercarpet"
           }
          ],
          "scattergeo": [
           {
            "marker": {
             "colorbar": {
              "outlinewidth": 0,
              "ticks": ""
             }
            },
            "type": "scattergeo"
           }
          ],
          "scattergl": [
           {
            "marker": {
             "colorbar": {
              "outlinewidth": 0,
              "ticks": ""
             }
            },
            "type": "scattergl"
           }
          ],
          "scattermapbox": [
           {
            "marker": {
             "colorbar": {
              "outlinewidth": 0,
              "ticks": ""
             }
            },
            "type": "scattermapbox"
           }
          ],
          "scatterpolar": [
           {
            "marker": {
             "colorbar": {
              "outlinewidth": 0,
              "ticks": ""
             }
            },
            "type": "scatterpolar"
           }
          ],
          "scatterpolargl": [
           {
            "marker": {
             "colorbar": {
              "outlinewidth": 0,
              "ticks": ""
             }
            },
            "type": "scatterpolargl"
           }
          ],
          "scatterternary": [
           {
            "marker": {
             "colorbar": {
              "outlinewidth": 0,
              "ticks": ""
             }
            },
            "type": "scatterternary"
           }
          ],
          "surface": [
           {
            "colorbar": {
             "outlinewidth": 0,
             "ticks": ""
            },
            "colorscale": [
             [
              0,
              "#0d0887"
             ],
             [
              0.1111111111111111,
              "#46039f"
             ],
             [
              0.2222222222222222,
              "#7201a8"
             ],
             [
              0.3333333333333333,
              "#9c179e"
             ],
             [
              0.4444444444444444,
              "#bd3786"
             ],
             [
              0.5555555555555556,
              "#d8576b"
             ],
             [
              0.6666666666666666,
              "#ed7953"
             ],
             [
              0.7777777777777778,
              "#fb9f3a"
             ],
             [
              0.8888888888888888,
              "#fdca26"
             ],
             [
              1,
              "#f0f921"
             ]
            ],
            "type": "surface"
           }
          ],
          "table": [
           {
            "cells": {
             "fill": {
              "color": "#EBF0F8"
             },
             "line": {
              "color": "white"
             }
            },
            "header": {
             "fill": {
              "color": "#C8D4E3"
             },
             "line": {
              "color": "white"
             }
            },
            "type": "table"
           }
          ]
         },
         "layout": {
          "annotationdefaults": {
           "arrowcolor": "#2a3f5f",
           "arrowhead": 0,
           "arrowwidth": 1
          },
          "autotypenumbers": "strict",
          "coloraxis": {
           "colorbar": {
            "outlinewidth": 0,
            "ticks": ""
           }
          },
          "colorscale": {
           "diverging": [
            [
             0,
             "#8e0152"
            ],
            [
             0.1,
             "#c51b7d"
            ],
            [
             0.2,
             "#de77ae"
            ],
            [
             0.3,
             "#f1b6da"
            ],
            [
             0.4,
             "#fde0ef"
            ],
            [
             0.5,
             "#f7f7f7"
            ],
            [
             0.6,
             "#e6f5d0"
            ],
            [
             0.7,
             "#b8e186"
            ],
            [
             0.8,
             "#7fbc41"
            ],
            [
             0.9,
             "#4d9221"
            ],
            [
             1,
             "#276419"
            ]
           ],
           "sequential": [
            [
             0,
             "#0d0887"
            ],
            [
             0.1111111111111111,
             "#46039f"
            ],
            [
             0.2222222222222222,
             "#7201a8"
            ],
            [
             0.3333333333333333,
             "#9c179e"
            ],
            [
             0.4444444444444444,
             "#bd3786"
            ],
            [
             0.5555555555555556,
             "#d8576b"
            ],
            [
             0.6666666666666666,
             "#ed7953"
            ],
            [
             0.7777777777777778,
             "#fb9f3a"
            ],
            [
             0.8888888888888888,
             "#fdca26"
            ],
            [
             1,
             "#f0f921"
            ]
           ],
           "sequentialminus": [
            [
             0,
             "#0d0887"
            ],
            [
             0.1111111111111111,
             "#46039f"
            ],
            [
             0.2222222222222222,
             "#7201a8"
            ],
            [
             0.3333333333333333,
             "#9c179e"
            ],
            [
             0.4444444444444444,
             "#bd3786"
            ],
            [
             0.5555555555555556,
             "#d8576b"
            ],
            [
             0.6666666666666666,
             "#ed7953"
            ],
            [
             0.7777777777777778,
             "#fb9f3a"
            ],
            [
             0.8888888888888888,
             "#fdca26"
            ],
            [
             1,
             "#f0f921"
            ]
           ]
          },
          "colorway": [
           "#636efa",
           "#EF553B",
           "#00cc96",
           "#ab63fa",
           "#FFA15A",
           "#19d3f3",
           "#FF6692",
           "#B6E880",
           "#FF97FF",
           "#FECB52"
          ],
          "font": {
           "color": "#2a3f5f"
          },
          "geo": {
           "bgcolor": "white",
           "lakecolor": "white",
           "landcolor": "#E5ECF6",
           "showlakes": true,
           "showland": true,
           "subunitcolor": "white"
          },
          "hoverlabel": {
           "align": "left"
          },
          "hovermode": "closest",
          "mapbox": {
           "style": "light"
          },
          "paper_bgcolor": "white",
          "plot_bgcolor": "#E5ECF6",
          "polar": {
           "angularaxis": {
            "gridcolor": "white",
            "linecolor": "white",
            "ticks": ""
           },
           "bgcolor": "#E5ECF6",
           "radialaxis": {
            "gridcolor": "white",
            "linecolor": "white",
            "ticks": ""
           }
          },
          "scene": {
           "xaxis": {
            "backgroundcolor": "#E5ECF6",
            "gridcolor": "white",
            "gridwidth": 2,
            "linecolor": "white",
            "showbackground": true,
            "ticks": "",
            "zerolinecolor": "white"
           },
           "yaxis": {
            "backgroundcolor": "#E5ECF6",
            "gridcolor": "white",
            "gridwidth": 2,
            "linecolor": "white",
            "showbackground": true,
            "ticks": "",
            "zerolinecolor": "white"
           },
           "zaxis": {
            "backgroundcolor": "#E5ECF6",
            "gridcolor": "white",
            "gridwidth": 2,
            "linecolor": "white",
            "showbackground": true,
            "ticks": "",
            "zerolinecolor": "white"
           }
          },
          "shapedefaults": {
           "line": {
            "color": "#2a3f5f"
           }
          },
          "ternary": {
           "aaxis": {
            "gridcolor": "white",
            "linecolor": "white",
            "ticks": ""
           },
           "baxis": {
            "gridcolor": "white",
            "linecolor": "white",
            "ticks": ""
           },
           "bgcolor": "#E5ECF6",
           "caxis": {
            "gridcolor": "white",
            "linecolor": "white",
            "ticks": ""
           }
          },
          "title": {
           "x": 0.05
          },
          "xaxis": {
           "automargin": true,
           "gridcolor": "white",
           "linecolor": "white",
           "ticks": "",
           "title": {
            "standoff": 15
           },
           "zerolinecolor": "white",
           "zerolinewidth": 2
          },
          "yaxis": {
           "automargin": true,
           "gridcolor": "white",
           "linecolor": "white",
           "ticks": "",
           "title": {
            "standoff": 15
           },
           "zerolinecolor": "white",
           "zerolinewidth": 2
          }
         }
        },
        "title": {
         "text": " Performance Metrics Correlation Analysis"
        },
        "xaxis": {
         "anchor": "y",
         "domain": [
          0,
          0.45
         ]
        },
        "xaxis2": {
         "anchor": "y2",
         "domain": [
          0.55,
          1
         ]
        },
        "yaxis": {
         "anchor": "x",
         "domain": [
          0,
          1
         ]
        },
        "yaxis2": {
         "anchor": "x2",
         "domain": [
          0,
          1
         ]
        }
       }
      }
     },
     "metadata": {},
     "output_type": "display_data"
    },
    {
     "name": "stdout",
     "output_type": "stream",
     "text": [
      "\n",
      " Strongest Correlations (Manchester City):\n",
      "   goals_per_90 ↔ goals: 0.974\n",
      "   goals ↔ goals_per_90: 0.974\n",
      "   assists ↔ assists_per_90: 0.871\n",
      "   assists_per_90 ↔ assists: 0.871\n",
      "   assists ↔ goals: 0.792\n",
      "\n",
      " Strongest Correlations (Real Madrid):\n",
      "   goals ↔ goals_per_90: 0.985\n",
      "   goals_per_90 ↔ goals: 0.985\n",
      "   assists ↔ assists_per_90: 0.960\n",
      "   assists_per_90 ↔ assists: 0.960\n",
      "   goals ↔ shots_per_90: 0.707\n"
     ]
    }
   ],
   "source": [
    "# Correlation analysis\n",
    "print(\" CORRELATION ANALYSIS\")\n",
    "print(\"=\" * 50)\n",
    "\n",
    "# Select numeric columns for correlation\n",
    "numeric_cols = ['goals', 'assists', 'avg_rating', 'goals_per_90', 'assists_per_90', \n",
    "                'shots_per_90', 'passes_per_90', 'tackles_per_90', 'total_minutes']\n",
    "\n",
    "# Filter columns that exist in both datasets\n",
    "available_cols = [col for col in numeric_cols if col in mc_season_stats.columns and col in rm_season_stats.columns]\n",
    "\n",
    "if available_cols:\n",
    "    # Calculate correlations for both teams\n",
    "    mc_corr = mc_season_stats[available_cols].corr()\n",
    "    rm_corr = rm_season_stats[available_cols].corr()\n",
    "    \n",
    "    # Create correlation heatmaps\n",
    "    fig = make_subplots(\n",
    "        rows=1, cols=2,\n",
    "        subplot_titles=('Manchester City Correlations', 'Real Madrid Correlations'),\n",
    "        specs=[[{\"type\": \"heatmap\"}, {\"type\": \"heatmap\"}]]\n",
    "    )\n",
    "    \n",
    "    # Manchester City correlation heatmap\n",
    "    fig.add_trace(\n",
    "        go.Heatmap(z=mc_corr.values, x=mc_corr.columns, y=mc_corr.columns,\n",
    "                   colorscale='RdBu', zmid=0, showscale=True),\n",
    "        row=1, col=1\n",
    "    )\n",
    "    \n",
    "    # Real Madrid correlation heatmap\n",
    "    fig.add_trace(\n",
    "        go.Heatmap(z=rm_corr.values, x=rm_corr.columns, y=rm_corr.columns,\n",
    "                   colorscale='RdBu', zmid=0, showscale=False),\n",
    "        row=1, col=2\n",
    "    )\n",
    "    \n",
    "    fig.update_layout(height=600, title_text=\" Performance Metrics Correlation Analysis\")\n",
    "    fig.show()\n",
    "    \n",
    "    # Display strongest correlations\n",
    "    print(\"\\n Strongest Correlations (Manchester City):\")\n",
    "    mc_corr_flat = mc_corr.unstack().sort_values(ascending=False)\n",
    "    mc_strong_corr = mc_corr_flat[(mc_corr_flat < 0.99) & (mc_corr_flat > 0.7)].head(5)\n",
    "    for idx, corr in mc_strong_corr.items():\n",
    "        print(f\"   {idx[0]} ↔ {idx[1]}: {corr:.3f}\")\n",
    "    \n",
    "    print(\"\\n Strongest Correlations (Real Madrid):\")\n",
    "    rm_corr_flat = rm_corr.unstack().sort_values(ascending=False)\n",
    "    rm_strong_corr = rm_corr_flat[(rm_corr_flat < 0.99) & (rm_corr_flat > 0.7)].head(5)\n",
    "    for idx, corr in rm_strong_corr.items():\n",
    "        print(f\"   {idx[0]} ↔ {idx[1]}: {corr:.3f}\")\n",
    "else:\n",
    "    print(\"\\n Insufficient numeric columns for correlation analysis.\")"
   ]
  },
  {
   "cell_type": "markdown",
   "metadata": {},
   "source": [
    "##  Player Efficiency Metrics"
   ]
  },
  {
   "cell_type": "code",
   "execution_count": 15,
   "metadata": {},
   "outputs": [
    {
     "name": "stdout",
     "output_type": "stream",
     "text": [
      "⚡ PLAYER EFFICIENCY ANALYSIS\n",
      "==================================================\n",
      "\n",
      " Most Efficient Players (Goal Contribution per 90):\n"
     ]
    },
    {
     "data": {
      "text/html": [
       "<div>\n",
       "<style scoped>\n",
       "    .dataframe tbody tr th:only-of-type {\n",
       "        vertical-align: middle;\n",
       "    }\n",
       "\n",
       "    .dataframe tbody tr th {\n",
       "        vertical-align: top;\n",
       "    }\n",
       "\n",
       "    .dataframe thead th {\n",
       "        text-align: right;\n",
       "    }\n",
       "</style>\n",
       "<table border=\"1\" class=\"dataframe\">\n",
       "  <thead>\n",
       "    <tr style=\"text-align: right;\">\n",
       "      <th></th>\n",
       "      <th>player_name</th>\n",
       "      <th>team</th>\n",
       "      <th>position</th>\n",
       "      <th>goal_contribution_per_90</th>\n",
       "      <th>goals_per_90</th>\n",
       "      <th>assists_per_90</th>\n",
       "      <th>avg_rating</th>\n",
       "    </tr>\n",
       "  </thead>\n",
       "  <tbody>\n",
       "    <tr>\n",
       "      <th>54</th>\n",
       "      <td>Mariano Díaz</td>\n",
       "      <td>Real Madrid</td>\n",
       "      <td>FW</td>\n",
       "      <td>0.84</td>\n",
       "      <td>0.52</td>\n",
       "      <td>0.32</td>\n",
       "      <td>7.7</td>\n",
       "    </tr>\n",
       "    <tr>\n",
       "      <th>42</th>\n",
       "      <td>Vinícius Jr.</td>\n",
       "      <td>Real Madrid</td>\n",
       "      <td>FW</td>\n",
       "      <td>0.63</td>\n",
       "      <td>0.39</td>\n",
       "      <td>0.24</td>\n",
       "      <td>8.0</td>\n",
       "    </tr>\n",
       "    <tr>\n",
       "      <th>3</th>\n",
       "      <td>Phil Foden</td>\n",
       "      <td>Manchester City</td>\n",
       "      <td>MF,FW</td>\n",
       "      <td>0.60</td>\n",
       "      <td>0.28</td>\n",
       "      <td>0.32</td>\n",
       "      <td>7.5</td>\n",
       "    </tr>\n",
       "    <tr>\n",
       "      <th>1</th>\n",
       "      <td>Rodri</td>\n",
       "      <td>Manchester City</td>\n",
       "      <td>MF</td>\n",
       "      <td>0.56</td>\n",
       "      <td>0.25</td>\n",
       "      <td>0.31</td>\n",
       "      <td>7.6</td>\n",
       "    </tr>\n",
       "    <tr>\n",
       "      <th>45</th>\n",
       "      <td>Federico Valverde</td>\n",
       "      <td>Real Madrid</td>\n",
       "      <td>MF</td>\n",
       "      <td>0.55</td>\n",
       "      <td>0.30</td>\n",
       "      <td>0.25</td>\n",
       "      <td>7.5</td>\n",
       "    </tr>\n",
       "    <tr>\n",
       "      <th>2</th>\n",
       "      <td>Bernardo Silva</td>\n",
       "      <td>Manchester City</td>\n",
       "      <td>MF,FW</td>\n",
       "      <td>0.53</td>\n",
       "      <td>0.25</td>\n",
       "      <td>0.28</td>\n",
       "      <td>7.5</td>\n",
       "    </tr>\n",
       "    <tr>\n",
       "      <th>0</th>\n",
       "      <td>Erling Haaland</td>\n",
       "      <td>Manchester City</td>\n",
       "      <td>FW</td>\n",
       "      <td>0.51</td>\n",
       "      <td>0.36</td>\n",
       "      <td>0.15</td>\n",
       "      <td>7.6</td>\n",
       "    </tr>\n",
       "    <tr>\n",
       "      <th>8</th>\n",
       "      <td>Kevin De Bruyne</td>\n",
       "      <td>Manchester City</td>\n",
       "      <td>MF,FW</td>\n",
       "      <td>0.51</td>\n",
       "      <td>0.20</td>\n",
       "      <td>0.31</td>\n",
       "      <td>7.6</td>\n",
       "    </tr>\n",
       "    <tr>\n",
       "      <th>44</th>\n",
       "      <td>Rodrygo</td>\n",
       "      <td>Real Madrid</td>\n",
       "      <td>FW</td>\n",
       "      <td>0.50</td>\n",
       "      <td>0.40</td>\n",
       "      <td>0.10</td>\n",
       "      <td>7.9</td>\n",
       "    </tr>\n",
       "    <tr>\n",
       "      <th>41</th>\n",
       "      <td>Marco Asensio</td>\n",
       "      <td>Real Madrid</td>\n",
       "      <td>FW</td>\n",
       "      <td>0.39</td>\n",
       "      <td>0.24</td>\n",
       "      <td>0.15</td>\n",
       "      <td>7.6</td>\n",
       "    </tr>\n",
       "  </tbody>\n",
       "</table>\n",
       "</div>"
      ],
      "text/plain": [
       "          player_name             team position  goal_contribution_per_90  \\\n",
       "54       Mariano Díaz      Real Madrid       FW                      0.84   \n",
       "42       Vinícius Jr.      Real Madrid       FW                      0.63   \n",
       "3          Phil Foden  Manchester City    MF,FW                      0.60   \n",
       "1               Rodri  Manchester City       MF                      0.56   \n",
       "45  Federico Valverde      Real Madrid       MF                      0.55   \n",
       "2      Bernardo Silva  Manchester City    MF,FW                      0.53   \n",
       "0      Erling Haaland  Manchester City       FW                      0.51   \n",
       "8     Kevin De Bruyne  Manchester City    MF,FW                      0.51   \n",
       "44            Rodrygo      Real Madrid       FW                      0.50   \n",
       "41      Marco Asensio      Real Madrid       FW                      0.39   \n",
       "\n",
       "    goals_per_90  assists_per_90  avg_rating  \n",
       "54          0.52            0.32         7.7  \n",
       "42          0.39            0.24         8.0  \n",
       "3           0.28            0.32         7.5  \n",
       "1           0.25            0.31         7.6  \n",
       "45          0.30            0.25         7.5  \n",
       "2           0.25            0.28         7.5  \n",
       "0           0.36            0.15         7.6  \n",
       "8           0.20            0.31         7.6  \n",
       "44          0.40            0.10         7.9  \n",
       "41          0.24            0.15         7.6  "
      ]
     },
     "metadata": {},
     "output_type": "display_data"
    },
    {
     "name": "stdout",
     "output_type": "stream",
     "text": [
      "\n",
      " Performance Tier Distribution:\n"
     ]
    },
    {
     "data": {
      "text/html": [
       "<div>\n",
       "<style scoped>\n",
       "    .dataframe tbody tr th:only-of-type {\n",
       "        vertical-align: middle;\n",
       "    }\n",
       "\n",
       "    .dataframe tbody tr th {\n",
       "        vertical-align: top;\n",
       "    }\n",
       "\n",
       "    .dataframe thead th {\n",
       "        text-align: right;\n",
       "    }\n",
       "</style>\n",
       "<table border=\"1\" class=\"dataframe\">\n",
       "  <thead>\n",
       "    <tr style=\"text-align: right;\">\n",
       "      <th>performance_tier</th>\n",
       "      <th>Good</th>\n",
       "      <th>Very Good</th>\n",
       "    </tr>\n",
       "    <tr>\n",
       "      <th>team</th>\n",
       "      <th></th>\n",
       "      <th></th>\n",
       "    </tr>\n",
       "  </thead>\n",
       "  <tbody>\n",
       "    <tr>\n",
       "      <th>Manchester City</th>\n",
       "      <td>15</td>\n",
       "      <td>16</td>\n",
       "    </tr>\n",
       "    <tr>\n",
       "      <th>Real Madrid</th>\n",
       "      <td>18</td>\n",
       "      <td>6</td>\n",
       "    </tr>\n",
       "  </tbody>\n",
       "</table>\n",
       "</div>"
      ],
      "text/plain": [
       "performance_tier  Good  Very Good\n",
       "team                             \n",
       "Manchester City     15         16\n",
       "Real Madrid         18          6"
      ]
     },
     "metadata": {},
     "output_type": "display_data"
    }
   ],
   "source": [
    "# Calculate advanced efficiency metrics\n",
    "def calculate_efficiency_metrics(data):\n",
    "    \"\"\"Calculate advanced player efficiency metrics.\"\"\"\n",
    "    data = data.copy()\n",
    "    \n",
    "    # Goal contribution efficiency\n",
    "    data['goal_contribution'] = data['goals'] + data['assists']\n",
    "    data['goal_contribution_per_90'] = data['goals_per_90'] + data['assists_per_90']\n",
    "    \n",
    "    # Minutes per goal contribution\n",
    "    data['minutes_per_goal_contribution'] = np.where(\n",
    "        data['goal_contribution'] > 0,\n",
    "        data['total_minutes'] / data['goal_contribution'],\n",
    "        np.inf\n",
    "    )\n",
    "    \n",
    "    # Shot efficiency (goals per shot)\n",
    "    if 'shots' in data.columns:\n",
    "        data['shot_efficiency'] = np.where(\n",
    "            data['shots'] > 0,\n",
    "            data['goals'] / data['shots'],\n",
    "            0\n",
    "        )\n",
    "    \n",
    "    # Performance consistency (based on rating)\n",
    "    data['performance_tier'] = pd.cut(\n",
    "        data['avg_rating'], \n",
    "        bins=[0, 6.5, 7.5, 8.5, 10], \n",
    "        labels=['Below Average', 'Good', 'Very Good', 'Excellent']\n",
    "    )\n",
    "    \n",
    "    return data\n",
    "\n",
    "# Calculate efficiency metrics for both teams\n",
    "mc_efficiency = calculate_efficiency_metrics(mc_season_stats)\n",
    "rm_efficiency = calculate_efficiency_metrics(rm_season_stats)\n",
    "\n",
    "print(\"⚡ PLAYER EFFICIENCY ANALYSIS\")\n",
    "print(\"=\" * 50)\n",
    "\n",
    "# Top efficient players (goal contribution per 90)\n",
    "combined_efficiency = pd.concat([mc_efficiency, rm_efficiency], ignore_index=True)\n",
    "top_efficient = combined_efficiency.nlargest(10, 'goal_contribution_per_90')\n",
    "\n",
    "print(\"\\n Most Efficient Players (Goal Contribution per 90):\")\n",
    "display(top_efficient[['player_name', 'team', 'position', 'goal_contribution_per_90', \n",
    "                     'goals_per_90', 'assists_per_90', 'avg_rating']].round(3))\n",
    "\n",
    "# Performance tier distribution\n",
    "print(\"\\n Performance Tier Distribution:\")\n",
    "tier_comparison = pd.crosstab(combined_efficiency['team'], combined_efficiency['performance_tier'])\n",
    "display(tier_comparison)"
   ]
  },
  {
   "cell_type": "code",
   "execution_count": 16,
   "metadata": {},
   "outputs": [
    {
     "data": {
      "application/vnd.plotly.v1+json": {
       "config": {
        "plotlyServerURL": "https://plot.ly"
       },
       "data": [
        {
         "marker": {
          "color": "#6CABDD"
         },
         "name": "Manchester City",
         "type": "box",
         "xaxis": "x",
         "y": [
          0.51,
          0.56,
          0.53,
          0.6000000000000001,
          0.28,
          0.33,
          0.27,
          0.32,
          0.51,
          0.33,
          0.22,
          0.13,
          0.27,
          0.13,
          0.1,
          0.17,
          0.23,
          0.15000000000000002,
          0.14,
          0.03,
          0.16,
          0.24,
          0,
          0,
          0,
          0,
          0,
          0,
          0,
          0,
          0
         ],
         "yaxis": "y"
        },
        {
         "marker": {
          "color": "#FEBE10"
         },
         "name": "Real Madrid",
         "type": "box",
         "xaxis": "x",
         "y": [
          0,
          0.08,
          0.21000000000000002,
          0.21000000000000002,
          0.27,
          0.22,
          0.13,
          0.32,
          0.19,
          0.32999999999999996,
          0.39,
          0.63,
          0.25,
          0.5,
          0.55,
          0.05,
          0.32,
          0.21000000000000002,
          0.21000000000000002,
          0.26,
          0.12,
          0.23,
          0.25,
          0.8400000000000001
         ],
         "yaxis": "y"
        },
        {
         "marker": {
          "color": "#6CABDD"
         },
         "name": "Manchester City",
         "type": "bar",
         "x": [
          "Very Good",
          "Good",
          "Below Average",
          "Excellent"
         ],
         "xaxis": "x2",
         "y": [
          16,
          15,
          0,
          0
         ],
         "yaxis": "y2"
        },
        {
         "marker": {
          "color": "#FEBE10"
         },
         "name": "Real Madrid",
         "type": "bar",
         "x": [
          "Good",
          "Very Good",
          "Below Average",
          "Excellent"
         ],
         "xaxis": "x2",
         "y": [
          18,
          6,
          0,
          0
         ],
         "yaxis": "y2"
        },
        {
         "marker": {
          "color": "#6CABDD"
         },
         "name": "Manchester City",
         "showlegend": false,
         "type": "box",
         "xaxis": "x3",
         "y": [
          175.88235294117646,
          161.7,
          167.7058823529412,
          151.33333333333334,
          324.375,
          273,
          331,
          274.5,
          176.6,
          275.7142857142857,
          395.5,
          674,
          341.6,
          700.6666666666666,
          914.3333333333334,
          524.25,
          399.25,
          601.6666666666666,
          622,
          3011,
          564,
          379
         ],
         "yaxis": "y3"
        },
        {
         "marker": {
          "color": "#FEBE10"
         },
         "name": "Real Madrid",
         "showlegend": false,
         "type": "box",
         "xaxis": "x3",
         "y": [
          1081.5,
          424.4,
          411.6,
          342.1666666666667,
          408.6,
          672.6666666666666,
          281,
          491.75,
          271.57142857142856,
          232.5,
          142.07692307692307,
          361.4,
          180.2,
          163.1818181818182,
          1757,
          289.5,
          431.5,
          429,
          335.6,
          787,
          390.75,
          360.75,
          107.38461538461539
         ],
         "yaxis": "y3"
        },
        {
         "marker": {
          "color": "#6CABDD"
         },
         "name": "Manchester City",
         "showlegend": false,
         "type": "box",
         "xaxis": "x4",
         "y": [
          0.17142857142857143,
          0.0989010989010989,
          0.10810810810810811,
          0.11666666666666667,
          0.0967741935483871,
          0.05555555555555555,
          0.0847457627118644,
          0.09259259259259259,
          0.09302325581395349,
          0.06976744186046512,
          0.05172413793103448,
          0.04285714285714286,
          0.047619047619047616,
          0.05128205128205128,
          0.037037037037037035,
          0.023255813953488372,
          0.02857142857142857,
          0.0196078431372549,
          0,
          0,
          0,
          0,
          0,
          0,
          0,
          0,
          0,
          0,
          0,
          0,
          0
         ],
         "yaxis": "y4"
        },
        {
         "marker": {
          "color": "#FEBE10"
         },
         "name": "Real Madrid",
         "showlegend": false,
         "type": "box",
         "xaxis": "x4",
         "y": [
          0,
          0,
          0.020833333333333332,
          0.025,
          0.07017543859649122,
          0,
          0.016,
          0.05714285714285714,
          0.015873015873015872,
          0.01818181818181818,
          0.043859649122807015,
          0.07766990291262135,
          0.0851063829787234,
          0.05970149253731343,
          0.08108108108108109,
          0,
          0.04,
          0.030303030303030304,
          0.02857142857142857,
          0.01818181818181818,
          0.023255813953488372,
          0.012195121951219513,
          0.02127659574468085,
          0.09411764705882353
         ],
         "yaxis": "y4"
        }
       ],
       "layout": {
        "annotations": [
         {
          "font": {
           "size": 16
          },
          "showarrow": false,
          "text": "Goal Contribution per 90",
          "x": 0.225,
          "xanchor": "center",
          "xref": "paper",
          "y": 1,
          "yanchor": "bottom",
          "yref": "paper"
         },
         {
          "font": {
           "size": 16
          },
          "showarrow": false,
          "text": "Performance Tier Distribution",
          "x": 0.775,
          "xanchor": "center",
          "xref": "paper",
          "y": 1,
          "yanchor": "bottom",
          "yref": "paper"
         },
         {
          "font": {
           "size": 16
          },
          "showarrow": false,
          "text": "Minutes per Goal Contribution",
          "x": 0.225,
          "xanchor": "center",
          "xref": "paper",
          "y": 0.375,
          "yanchor": "bottom",
          "yref": "paper"
         },
         {
          "font": {
           "size": 16
          },
          "showarrow": false,
          "text": "Shot Efficiency (if available)",
          "x": 0.775,
          "xanchor": "center",
          "xref": "paper",
          "y": 0.375,
          "yanchor": "bottom",
          "yref": "paper"
         }
        ],
        "height": 800,
        "template": {
         "data": {
          "bar": [
           {
            "error_x": {
             "color": "#2a3f5f"
            },
            "error_y": {
             "color": "#2a3f5f"
            },
            "marker": {
             "line": {
              "color": "#E5ECF6",
              "width": 0.5
             },
             "pattern": {
              "fillmode": "overlay",
              "size": 10,
              "solidity": 0.2
             }
            },
            "type": "bar"
           }
          ],
          "barpolar": [
           {
            "marker": {
             "line": {
              "color": "#E5ECF6",
              "width": 0.5
             },
             "pattern": {
              "fillmode": "overlay",
              "size": 10,
              "solidity": 0.2
             }
            },
            "type": "barpolar"
           }
          ],
          "carpet": [
           {
            "aaxis": {
             "endlinecolor": "#2a3f5f",
             "gridcolor": "white",
             "linecolor": "white",
             "minorgridcolor": "white",
             "startlinecolor": "#2a3f5f"
            },
            "baxis": {
             "endlinecolor": "#2a3f5f",
             "gridcolor": "white",
             "linecolor": "white",
             "minorgridcolor": "white",
             "startlinecolor": "#2a3f5f"
            },
            "type": "carpet"
           }
          ],
          "choropleth": [
           {
            "colorbar": {
             "outlinewidth": 0,
             "ticks": ""
            },
            "type": "choropleth"
           }
          ],
          "contour": [
           {
            "colorbar": {
             "outlinewidth": 0,
             "ticks": ""
            },
            "colorscale": [
             [
              0,
              "#0d0887"
             ],
             [
              0.1111111111111111,
              "#46039f"
             ],
             [
              0.2222222222222222,
              "#7201a8"
             ],
             [
              0.3333333333333333,
              "#9c179e"
             ],
             [
              0.4444444444444444,
              "#bd3786"
             ],
             [
              0.5555555555555556,
              "#d8576b"
             ],
             [
              0.6666666666666666,
              "#ed7953"
             ],
             [
              0.7777777777777778,
              "#fb9f3a"
             ],
             [
              0.8888888888888888,
              "#fdca26"
             ],
             [
              1,
              "#f0f921"
             ]
            ],
            "type": "contour"
           }
          ],
          "contourcarpet": [
           {
            "colorbar": {
             "outlinewidth": 0,
             "ticks": ""
            },
            "type": "contourcarpet"
           }
          ],
          "heatmap": [
           {
            "colorbar": {
             "outlinewidth": 0,
             "ticks": ""
            },
            "colorscale": [
             [
              0,
              "#0d0887"
             ],
             [
              0.1111111111111111,
              "#46039f"
             ],
             [
              0.2222222222222222,
              "#7201a8"
             ],
             [
              0.3333333333333333,
              "#9c179e"
             ],
             [
              0.4444444444444444,
              "#bd3786"
             ],
             [
              0.5555555555555556,
              "#d8576b"
             ],
             [
              0.6666666666666666,
              "#ed7953"
             ],
             [
              0.7777777777777778,
              "#fb9f3a"
             ],
             [
              0.8888888888888888,
              "#fdca26"
             ],
             [
              1,
              "#f0f921"
             ]
            ],
            "type": "heatmap"
           }
          ],
          "heatmapgl": [
           {
            "colorbar": {
             "outlinewidth": 0,
             "ticks": ""
            },
            "colorscale": [
             [
              0,
              "#0d0887"
             ],
             [
              0.1111111111111111,
              "#46039f"
             ],
             [
              0.2222222222222222,
              "#7201a8"
             ],
             [
              0.3333333333333333,
              "#9c179e"
             ],
             [
              0.4444444444444444,
              "#bd3786"
             ],
             [
              0.5555555555555556,
              "#d8576b"
             ],
             [
              0.6666666666666666,
              "#ed7953"
             ],
             [
              0.7777777777777778,
              "#fb9f3a"
             ],
             [
              0.8888888888888888,
              "#fdca26"
             ],
             [
              1,
              "#f0f921"
             ]
            ],
            "type": "heatmapgl"
           }
          ],
          "histogram": [
           {
            "marker": {
             "pattern": {
              "fillmode": "overlay",
              "size": 10,
              "solidity": 0.2
             }
            },
            "type": "histogram"
           }
          ],
          "histogram2d": [
           {
            "colorbar": {
             "outlinewidth": 0,
             "ticks": ""
            },
            "colorscale": [
             [
              0,
              "#0d0887"
             ],
             [
              0.1111111111111111,
              "#46039f"
             ],
             [
              0.2222222222222222,
              "#7201a8"
             ],
             [
              0.3333333333333333,
              "#9c179e"
             ],
             [
              0.4444444444444444,
              "#bd3786"
             ],
             [
              0.5555555555555556,
              "#d8576b"
             ],
             [
              0.6666666666666666,
              "#ed7953"
             ],
             [
              0.7777777777777778,
              "#fb9f3a"
             ],
             [
              0.8888888888888888,
              "#fdca26"
             ],
             [
              1,
              "#f0f921"
             ]
            ],
            "type": "histogram2d"
           }
          ],
          "histogram2dcontour": [
           {
            "colorbar": {
             "outlinewidth": 0,
             "ticks": ""
            },
            "colorscale": [
             [
              0,
              "#0d0887"
             ],
             [
              0.1111111111111111,
              "#46039f"
             ],
             [
              0.2222222222222222,
              "#7201a8"
             ],
             [
              0.3333333333333333,
              "#9c179e"
             ],
             [
              0.4444444444444444,
              "#bd3786"
             ],
             [
              0.5555555555555556,
              "#d8576b"
             ],
             [
              0.6666666666666666,
              "#ed7953"
             ],
             [
              0.7777777777777778,
              "#fb9f3a"
             ],
             [
              0.8888888888888888,
              "#fdca26"
             ],
             [
              1,
              "#f0f921"
             ]
            ],
            "type": "histogram2dcontour"
           }
          ],
          "mesh3d": [
           {
            "colorbar": {
             "outlinewidth": 0,
             "ticks": ""
            },
            "type": "mesh3d"
           }
          ],
          "parcoords": [
           {
            "line": {
             "colorbar": {
              "outlinewidth": 0,
              "ticks": ""
             }
            },
            "type": "parcoords"
           }
          ],
          "pie": [
           {
            "automargin": true,
            "type": "pie"
           }
          ],
          "scatter": [
           {
            "fillpattern": {
             "fillmode": "overlay",
             "size": 10,
             "solidity": 0.2
            },
            "type": "scatter"
           }
          ],
          "scatter3d": [
           {
            "line": {
             "colorbar": {
              "outlinewidth": 0,
              "ticks": ""
             }
            },
            "marker": {
             "colorbar": {
              "outlinewidth": 0,
              "ticks": ""
             }
            },
            "type": "scatter3d"
           }
          ],
          "scattercarpet": [
           {
            "marker": {
             "colorbar": {
              "outlinewidth": 0,
              "ticks": ""
             }
            },
            "type": "scattercarpet"
           }
          ],
          "scattergeo": [
           {
            "marker": {
             "colorbar": {
              "outlinewidth": 0,
              "ticks": ""
             }
            },
            "type": "scattergeo"
           }
          ],
          "scattergl": [
           {
            "marker": {
             "colorbar": {
              "outlinewidth": 0,
              "ticks": ""
             }
            },
            "type": "scattergl"
           }
          ],
          "scattermapbox": [
           {
            "marker": {
             "colorbar": {
              "outlinewidth": 0,
              "ticks": ""
             }
            },
            "type": "scattermapbox"
           }
          ],
          "scatterpolar": [
           {
            "marker": {
             "colorbar": {
              "outlinewidth": 0,
              "ticks": ""
             }
            },
            "type": "scatterpolar"
           }
          ],
          "scatterpolargl": [
           {
            "marker": {
             "colorbar": {
              "outlinewidth": 0,
              "ticks": ""
             }
            },
            "type": "scatterpolargl"
           }
          ],
          "scatterternary": [
           {
            "marker": {
             "colorbar": {
              "outlinewidth": 0,
              "ticks": ""
             }
            },
            "type": "scatterternary"
           }
          ],
          "surface": [
           {
            "colorbar": {
             "outlinewidth": 0,
             "ticks": ""
            },
            "colorscale": [
             [
              0,
              "#0d0887"
             ],
             [
              0.1111111111111111,
              "#46039f"
             ],
             [
              0.2222222222222222,
              "#7201a8"
             ],
             [
              0.3333333333333333,
              "#9c179e"
             ],
             [
              0.4444444444444444,
              "#bd3786"
             ],
             [
              0.5555555555555556,
              "#d8576b"
             ],
             [
              0.6666666666666666,
              "#ed7953"
             ],
             [
              0.7777777777777778,
              "#fb9f3a"
             ],
             [
              0.8888888888888888,
              "#fdca26"
             ],
             [
              1,
              "#f0f921"
             ]
            ],
            "type": "surface"
           }
          ],
          "table": [
           {
            "cells": {
             "fill": {
              "color": "#EBF0F8"
             },
             "line": {
              "color": "white"
             }
            },
            "header": {
             "fill": {
              "color": "#C8D4E3"
             },
             "line": {
              "color": "white"
             }
            },
            "type": "table"
           }
          ]
         },
         "layout": {
          "annotationdefaults": {
           "arrowcolor": "#2a3f5f",
           "arrowhead": 0,
           "arrowwidth": 1
          },
          "autotypenumbers": "strict",
          "coloraxis": {
           "colorbar": {
            "outlinewidth": 0,
            "ticks": ""
           }
          },
          "colorscale": {
           "diverging": [
            [
             0,
             "#8e0152"
            ],
            [
             0.1,
             "#c51b7d"
            ],
            [
             0.2,
             "#de77ae"
            ],
            [
             0.3,
             "#f1b6da"
            ],
            [
             0.4,
             "#fde0ef"
            ],
            [
             0.5,
             "#f7f7f7"
            ],
            [
             0.6,
             "#e6f5d0"
            ],
            [
             0.7,
             "#b8e186"
            ],
            [
             0.8,
             "#7fbc41"
            ],
            [
             0.9,
             "#4d9221"
            ],
            [
             1,
             "#276419"
            ]
           ],
           "sequential": [
            [
             0,
             "#0d0887"
            ],
            [
             0.1111111111111111,
             "#46039f"
            ],
            [
             0.2222222222222222,
             "#7201a8"
            ],
            [
             0.3333333333333333,
             "#9c179e"
            ],
            [
             0.4444444444444444,
             "#bd3786"
            ],
            [
             0.5555555555555556,
             "#d8576b"
            ],
            [
             0.6666666666666666,
             "#ed7953"
            ],
            [
             0.7777777777777778,
             "#fb9f3a"
            ],
            [
             0.8888888888888888,
             "#fdca26"
            ],
            [
             1,
             "#f0f921"
            ]
           ],
           "sequentialminus": [
            [
             0,
             "#0d0887"
            ],
            [
             0.1111111111111111,
             "#46039f"
            ],
            [
             0.2222222222222222,
             "#7201a8"
            ],
            [
             0.3333333333333333,
             "#9c179e"
            ],
            [
             0.4444444444444444,
             "#bd3786"
            ],
            [
             0.5555555555555556,
             "#d8576b"
            ],
            [
             0.6666666666666666,
             "#ed7953"
            ],
            [
             0.7777777777777778,
             "#fb9f3a"
            ],
            [
             0.8888888888888888,
             "#fdca26"
            ],
            [
             1,
             "#f0f921"
            ]
           ]
          },
          "colorway": [
           "#636efa",
           "#EF553B",
           "#00cc96",
           "#ab63fa",
           "#FFA15A",
           "#19d3f3",
           "#FF6692",
           "#B6E880",
           "#FF97FF",
           "#FECB52"
          ],
          "font": {
           "color": "#2a3f5f"
          },
          "geo": {
           "bgcolor": "white",
           "lakecolor": "white",
           "landcolor": "#E5ECF6",
           "showlakes": true,
           "showland": true,
           "subunitcolor": "white"
          },
          "hoverlabel": {
           "align": "left"
          },
          "hovermode": "closest",
          "mapbox": {
           "style": "light"
          },
          "paper_bgcolor": "white",
          "plot_bgcolor": "#E5ECF6",
          "polar": {
           "angularaxis": {
            "gridcolor": "white",
            "linecolor": "white",
            "ticks": ""
           },
           "bgcolor": "#E5ECF6",
           "radialaxis": {
            "gridcolor": "white",
            "linecolor": "white",
            "ticks": ""
           }
          },
          "scene": {
           "xaxis": {
            "backgroundcolor": "#E5ECF6",
            "gridcolor": "white",
            "gridwidth": 2,
            "linecolor": "white",
            "showbackground": true,
            "ticks": "",
            "zerolinecolor": "white"
           },
           "yaxis": {
            "backgroundcolor": "#E5ECF6",
            "gridcolor": "white",
            "gridwidth": 2,
            "linecolor": "white",
            "showbackground": true,
            "ticks": "",
            "zerolinecolor": "white"
           },
           "zaxis": {
            "backgroundcolor": "#E5ECF6",
            "gridcolor": "white",
            "gridwidth": 2,
            "linecolor": "white",
            "showbackground": true,
            "ticks": "",
            "zerolinecolor": "white"
           }
          },
          "shapedefaults": {
           "line": {
            "color": "#2a3f5f"
           }
          },
          "ternary": {
           "aaxis": {
            "gridcolor": "white",
            "linecolor": "white",
            "ticks": ""
           },
           "baxis": {
            "gridcolor": "white",
            "linecolor": "white",
            "ticks": ""
           },
           "bgcolor": "#E5ECF6",
           "caxis": {
            "gridcolor": "white",
            "linecolor": "white",
            "ticks": ""
           }
          },
          "title": {
           "x": 0.05
          },
          "xaxis": {
           "automargin": true,
           "gridcolor": "white",
           "linecolor": "white",
           "ticks": "",
           "title": {
            "standoff": 15
           },
           "zerolinecolor": "white",
           "zerolinewidth": 2
          },
          "yaxis": {
           "automargin": true,
           "gridcolor": "white",
           "linecolor": "white",
           "ticks": "",
           "title": {
            "standoff": 15
           },
           "zerolinecolor": "white",
           "zerolinewidth": 2
          }
         }
        },
        "title": {
         "text": " Player Efficiency Analysis"
        },
        "xaxis": {
         "anchor": "y",
         "domain": [
          0,
          0.45
         ]
        },
        "xaxis2": {
         "anchor": "y2",
         "domain": [
          0.55,
          1
         ]
        },
        "xaxis3": {
         "anchor": "y3",
         "domain": [
          0,
          0.45
         ]
        },
        "xaxis4": {
         "anchor": "y4",
         "domain": [
          0.55,
          1
         ]
        },
        "yaxis": {
         "anchor": "x",
         "domain": [
          0.625,
          1
         ]
        },
        "yaxis2": {
         "anchor": "x2",
         "domain": [
          0.625,
          1
         ]
        },
        "yaxis3": {
         "anchor": "x3",
         "domain": [
          0,
          0.375
         ]
        },
        "yaxis4": {
         "anchor": "x4",
         "domain": [
          0,
          0.375
         ]
        }
       }
      }
     },
     "metadata": {},
     "output_type": "display_data"
    }
   ],
   "source": [
    "# Efficiency visualization\n",
    "fig = make_subplots(\n",
    "    rows=2, cols=2,\n",
    "    subplot_titles=('Goal Contribution per 90', 'Performance Tier Distribution',\n",
    "                   'Minutes per Goal Contribution', 'Shot Efficiency (if available)')\n",
    ")\n",
    "\n",
    "# Goal contribution per 90 comparison\n",
    "fig.add_trace(\n",
    "    go.Box(y=mc_efficiency['goal_contribution_per_90'], name='Manchester City',\n",
    "           marker_color='#6CABDD'),\n",
    "    row=1, col=1\n",
    ")\n",
    "fig.add_trace(\n",
    "    go.Box(y=rm_efficiency['goal_contribution_per_90'], name='Real Madrid',\n",
    "           marker_color='#FEBE10'),\n",
    "    row=1, col=1\n",
    ")\n",
    "\n",
    "# Performance tier distribution\n",
    "tier_counts_mc = mc_efficiency['performance_tier'].value_counts()\n",
    "tier_counts_rm = rm_efficiency['performance_tier'].value_counts()\n",
    "\n",
    "fig.add_trace(\n",
    "    go.Bar(x=tier_counts_mc.index, y=tier_counts_mc.values, \n",
    "           name='Manchester City', marker_color='#6CABDD'),\n",
    "    row=1, col=2\n",
    ")\n",
    "fig.add_trace(\n",
    "    go.Bar(x=tier_counts_rm.index, y=tier_counts_rm.values, \n",
    "           name='Real Madrid', marker_color='#FEBE10'),\n",
    "    row=1, col=2\n",
    ")\n",
    "\n",
    "# Minutes per goal contribution (filter out infinite values)\n",
    "mc_minutes_filtered = mc_efficiency[mc_efficiency['minutes_per_goal_contribution'] != np.inf]['minutes_per_goal_contribution']\n",
    "rm_minutes_filtered = rm_efficiency[rm_efficiency['minutes_per_goal_contribution'] != np.inf]['minutes_per_goal_contribution']\n",
    "\n",
    "fig.add_trace(\n",
    "    go.Box(y=mc_minutes_filtered, name='Manchester City',\n",
    "           marker_color='#6CABDD', showlegend=False),\n",
    "    row=2, col=1\n",
    ")\n",
    "fig.add_trace(\n",
    "    go.Box(y=rm_minutes_filtered, name='Real Madrid',\n",
    "           marker_color='#FEBE10', showlegend=False),\n",
    "    row=2, col=1\n",
    ")\n",
    "\n",
    "# Shot efficiency (if available)\n",
    "if 'shot_efficiency' in mc_efficiency.columns and 'shot_efficiency' in rm_efficiency.columns:\n",
    "    fig.add_trace(\n",
    "        go.Box(y=mc_efficiency['shot_efficiency'], name='Manchester City',\n",
    "               marker_color='#6CABDD', showlegend=False),\n",
    "        row=2, col=2\n",
    "    )\n",
    "    fig.add_trace(\n",
    "        go.Box(y=rm_efficiency['shot_efficiency'], name='Real Madrid',\n",
    "               marker_color='#FEBE10', showlegend=False),\n",
    "        row=2, col=2\n",
    "    )\n",
    "\n",
    "fig.update_layout(height=800, title_text=\" Player Efficiency Analysis\")\n",
    "fig.show()"
   ]
  },
  {
   "cell_type": "markdown",
   "metadata": {},
   "source": [
    "##  Key Insights and Conclusions"
   ]
  },
  {
   "cell_type": "code",
   "execution_count": 17,
   "metadata": {},
   "outputs": [
    {
     "name": "stdout",
     "output_type": "stream",
     "text": [
      " KEY INSIGHTS AND CONCLUSIONS\n",
      "============================================================\n",
      "\n",
      " TEAM PERFORMANCE INSIGHTS:\n",
      "----------------------------------------\n",
      "• Manchester City win rate: 64.9%\n",
      "• Real Madrid win rate: 60.9%\n",
      "  → Manchester City has a 4.0% higher win rate\n",
      "\n",
      "• Manchester City goals per match: 1.81\n",
      "• Real Madrid goals per match: 1.96\n",
      "  → Real Madrid scores 0.15 more goals per match\n",
      "\n",
      " PLAYER PERFORMANCE INSIGHTS:\n",
      "----------------------------------------\n",
      "• Manchester City top scorer: Erling Haaland (12 goals)\n",
      "• Real Madrid top scorer: Vinícius Jr. (8 goals)\n",
      "\n",
      "• Manchester City squad size: 31 players\n",
      "• Real Madrid squad size: 24 players\n",
      "\n",
      "• Manchester City average team rating: 7.57\n",
      "• Real Madrid average team rating: 7.38\n",
      "\n",
      " TACTICAL INSIGHTS:\n",
      "----------------------------------------\n",
      "• Both teams show strong attacking capabilities\n",
      "• Squad rotation strategies differ between competitions\n",
      "• Performance consistency varies by position and player\n",
      "\n",
      " RECOMMENDATIONS FOR FURTHER ANALYSIS:\n",
      "----------------------------------------\n",
      "• Analyze match-by-match performance trends\n",
      "• Investigate home vs away performance differences\n",
      "• Study player performance in high-pressure matches\n",
      "• Examine tactical formations and their effectiveness\n",
      "• Apply PVOI framework for advanced player valuation\n",
      "\n",
      "============================================================\n",
      " ANALYSIS COMPLETE - Ready for dashboard integration!\n",
      "============================================================\n"
     ]
    }
   ],
   "source": [
    "# Generate key insights\n",
    "print(\" KEY INSIGHTS AND CONCLUSIONS\")\n",
    "print(\"=\" * 60)\n",
    "\n",
    "# Team comparison insights\n",
    "print(\"\\n TEAM PERFORMANCE INSIGHTS:\")\n",
    "print(\"-\" * 40)\n",
    "\n",
    "# Win rate comparison\n",
    "mc_win_rate = team_comparison.loc['Manchester City', 'win_rate']\n",
    "rm_win_rate = team_comparison.loc['Real Madrid', 'win_rate']\n",
    "print(f\"• Manchester City win rate: {mc_win_rate}%\")\n",
    "print(f\"• Real Madrid win rate: {rm_win_rate}%\")\n",
    "if mc_win_rate > rm_win_rate:\n",
    "    print(f\"  → Manchester City has a {mc_win_rate - rm_win_rate:.1f}% higher win rate\")\n",
    "else:\n",
    "    print(f\"  → Real Madrid has a {rm_win_rate - mc_win_rate:.1f}% higher win rate\")\n",
    "\n",
    "# Goal scoring comparison\n",
    "mc_goals_per_match = team_comparison.loc['Manchester City', 'avg_goals_per_match']\n",
    "rm_goals_per_match = team_comparison.loc['Real Madrid', 'avg_goals_per_match']\n",
    "print(f\"\\n• Manchester City goals per match: {mc_goals_per_match}\")\n",
    "print(f\"• Real Madrid goals per match: {rm_goals_per_match}\")\n",
    "if mc_goals_per_match > rm_goals_per_match:\n",
    "    print(f\"  → Manchester City scores {mc_goals_per_match - rm_goals_per_match:.2f} more goals per match\")\n",
    "else:\n",
    "    print(f\"  → Real Madrid scores {rm_goals_per_match - mc_goals_per_match:.2f} more goals per match\")\n",
    "\n",
    "# Player insights\n",
    "print(\"\\n PLAYER PERFORMANCE INSIGHTS:\")\n",
    "print(\"-\" * 40)\n",
    "\n",
    "# Top scorers\n",
    "mc_top_scorer = mc_season_stats.loc[mc_season_stats['goals'].idxmax()]\n",
    "rm_top_scorer = rm_season_stats.loc[rm_season_stats['goals'].idxmax()]\n",
    "print(f\"• Manchester City top scorer: {mc_top_scorer['player_name']} ({mc_top_scorer['goals']} goals)\")\n",
    "print(f\"• Real Madrid top scorer: {rm_top_scorer['player_name']} ({rm_top_scorer['goals']} goals)\")\n",
    "\n",
    "# Squad depth\n",
    "mc_squad_size = len(mc_season_stats)\n",
    "rm_squad_size = len(rm_season_stats)\n",
    "print(f\"\\n• Manchester City squad size: {mc_squad_size} players\")\n",
    "print(f\"• Real Madrid squad size: {rm_squad_size} players\")\n",
    "\n",
    "# Average team rating\n",
    "mc_avg_rating = mc_season_stats['avg_rating'].mean()\n",
    "rm_avg_rating = rm_season_stats['avg_rating'].mean()\n",
    "print(f\"\\n• Manchester City average team rating: {mc_avg_rating:.2f}\")\n",
    "print(f\"• Real Madrid average team rating: {rm_avg_rating:.2f}\")\n",
    "\n",
    "print(\"\\n TACTICAL INSIGHTS:\")\n",
    "print(\"-\" * 40)\n",
    "print(\"• Both teams show strong attacking capabilities\")\n",
    "print(\"• Squad rotation strategies differ between competitions\")\n",
    "print(\"• Performance consistency varies by position and player\")\n",
    "\n",
    "print(\"\\n RECOMMENDATIONS FOR FURTHER ANALYSIS:\")\n",
    "print(\"-\" * 40)\n",
    "print(\"• Analyze match-by-match performance trends\")\n",
    "print(\"• Investigate home vs away performance differences\")\n",
    "print(\"• Study player performance in high-pressure matches\")\n",
    "print(\"• Examine tactical formations and their effectiveness\")\n",
    "print(\"• Apply PVOI framework for advanced player valuation\")\n",
    "\n",
    "print(\"\\n\" + \"=\" * 60)\n",
    "print(\" ANALYSIS COMPLETE - Ready for dashboard integration!\")\n",
    "print(\"=\" * 60)"
   ]
  },
  {
   "cell_type": "code",
   "execution_count": null,
   "metadata": {},
   "outputs": [],
   "source": []
  }
 ],
 "metadata": {
  "kernelspec": {
   "display_name": "Python 3",
   "language": "python",
   "name": "python3"
  },
  "language_info": {
   "codemirror_mode": {
    "name": "ipython",
    "version": 3
   },
   "file_extension": ".py",
   "mimetype": "text/x-python",
   "name": "python",
   "nbconvert_exporter": "python",
   "pygments_lexer": "ipython3",
   "version": "3.11.10"
  }
 },
 "nbformat": 4,
 "nbformat_minor": 4
}
